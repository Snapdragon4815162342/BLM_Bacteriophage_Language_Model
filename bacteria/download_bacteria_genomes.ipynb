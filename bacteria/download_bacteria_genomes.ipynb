{
 "cells": [
  {
   "cell_type": "code",
   "execution_count": 1,
   "id": "99bce554-ddb8-4ba0-a2de-ca575128f7f3",
   "metadata": {},
   "outputs": [],
   "source": [
    "import pandas as pd"
   ]
  },
  {
   "cell_type": "code",
   "execution_count": 2,
   "id": "b4752c58-cdf9-4ebc-bc79-cffe863facd9",
   "metadata": {},
   "outputs": [
    {
     "data": {
      "text/plain": [
       "0                             bacterium\n",
       "1         TM7 phylum sp. oral taxon 352\n",
       "2                [Eubacterium] infirmum\n",
       "3         TM7 phylum sp. oral taxon 348\n",
       "4                [Eubacterium] infirmum\n",
       "                     ...               \n",
       "5103    Arcticibacter pallidicorallinus\n",
       "5104              Massilimicrobiota sp.\n",
       "5105            Pontibacter ummariensis\n",
       "5106               Bacillus sp. KBS0812\n",
       "5107          Anaeromusa acidaminophila\n",
       "Name: species, Length: 5108, dtype: object"
      ]
     },
     "execution_count": 2,
     "metadata": {},
     "output_type": "execute_result"
    }
   ],
   "source": [
    "bacteria_series = pd.read_csv(\"bacteria_species.csv\")\n",
    "bacteria_series = bacteria_series['species']\n",
    "bacteria_series"
   ]
  },
  {
   "cell_type": "code",
   "execution_count": 3,
   "id": "29f31231",
   "metadata": {},
   "outputs": [
    {
     "data": {
      "text/plain": [
       "0                             bacterium\n",
       "1                            TM7 phylum\n",
       "2                  Eubacterium infirmum\n",
       "5                    bacterium 1xD42-67\n",
       "7                     bacterium YEK0313\n",
       "                     ...               \n",
       "5102              Corynebacterium sputi\n",
       "5103    Arcticibacter pallidicorallinus\n",
       "5104                  Massilimicrobiota\n",
       "5105            Pontibacter ummariensis\n",
       "5107          Anaeromusa acidaminophila\n",
       "Name: species, Length: 4682, dtype: object"
      ]
     },
     "execution_count": 3,
     "metadata": {},
     "output_type": "execute_result"
    }
   ],
   "source": [
    "import pandas as pd\n",
    "\n",
    "# Clean bacterial names\n",
    "def clean_bacteria_name(name):\n",
    "    name = name.replace('[', '').replace(']', '').strip()  # Remove brackets\n",
    "    if 'sp.' in name:  # Handle species abbreviations\n",
    "        name = name.split('sp.')[0].strip()\n",
    "    return name\n",
    "\n",
    "bacteria_series = bacteria_series.apply(clean_bacteria_name).drop_duplicates()\n",
    "bacteria_series\n",
    "#bacteria_series_cleaned"
   ]
  },
  {
   "cell_type": "code",
   "execution_count": 4,
   "id": "fa79adbe",
   "metadata": {},
   "outputs": [
    {
     "data": {
      "text/html": [
       "<div>\n",
       "<style scoped>\n",
       "    .dataframe tbody tr th:only-of-type {\n",
       "        vertical-align: middle;\n",
       "    }\n",
       "\n",
       "    .dataframe tbody tr th {\n",
       "        vertical-align: top;\n",
       "    }\n",
       "\n",
       "    .dataframe thead th {\n",
       "        text-align: right;\n",
       "    }\n",
       "</style>\n",
       "<table border=\"1\" class=\"dataframe\">\n",
       "  <thead>\n",
       "    <tr style=\"text-align: right;\">\n",
       "      <th></th>\n",
       "      <th>Proteome_ID</th>\n",
       "      <th>Tax_ID</th>\n",
       "      <th>OSCODE</th>\n",
       "      <th>SUPERREGNUM</th>\n",
       "      <th>#(1)</th>\n",
       "      <th>#(2)</th>\n",
       "      <th>#(3)</th>\n",
       "      <th>Species Name</th>\n",
       "    </tr>\n",
       "  </thead>\n",
       "  <tbody>\n",
       "    <tr>\n",
       "      <th>0</th>\n",
       "      <td>UP000521578</td>\n",
       "      <td>47692</td>\n",
       "      <td>NaN</td>\n",
       "      <td>eukaryota</td>\n",
       "      <td>14416</td>\n",
       "      <td>0</td>\n",
       "      <td>14442</td>\n",
       "      <td>Menura novaehollandiae (superb lyrebird)</td>\n",
       "    </tr>\n",
       "    <tr>\n",
       "      <th>1</th>\n",
       "      <td>UP000029743</td>\n",
       "      <td>1554474</td>\n",
       "      <td>ROSV2</td>\n",
       "      <td>viruses</td>\n",
       "      <td>1</td>\n",
       "      <td>0</td>\n",
       "      <td>1</td>\n",
       "      <td>Rosavirus A2 (isolate Human/Gambia/GA7403/2008)</td>\n",
       "    </tr>\n",
       "    <tr>\n",
       "      <th>2</th>\n",
       "      <td>UP000628017</td>\n",
       "      <td>2035344</td>\n",
       "      <td>NaN</td>\n",
       "      <td>bacteria</td>\n",
       "      <td>3942</td>\n",
       "      <td>0</td>\n",
       "      <td>3942</td>\n",
       "      <td>Amylibacter cionae</td>\n",
       "    </tr>\n",
       "    <tr>\n",
       "      <th>3</th>\n",
       "      <td>UP001232722</td>\n",
       "      <td>2664220</td>\n",
       "      <td>NaN</td>\n",
       "      <td>viruses</td>\n",
       "      <td>2</td>\n",
       "      <td>0</td>\n",
       "      <td>2</td>\n",
       "      <td>Tadarida brasiliensis gemykibivirus 1</td>\n",
       "    </tr>\n",
       "    <tr>\n",
       "      <th>4</th>\n",
       "      <td>UP000248311</td>\n",
       "      <td>1795041</td>\n",
       "      <td>NaN</td>\n",
       "      <td>bacteria</td>\n",
       "      <td>3295</td>\n",
       "      <td>0</td>\n",
       "      <td>3300</td>\n",
       "      <td>Pseudoroseicyclus aestuarii</td>\n",
       "    </tr>\n",
       "    <tr>\n",
       "      <th>...</th>\n",
       "      <td>...</td>\n",
       "      <td>...</td>\n",
       "      <td>...</td>\n",
       "      <td>...</td>\n",
       "      <td>...</td>\n",
       "      <td>...</td>\n",
       "      <td>...</td>\n",
       "      <td>...</td>\n",
       "    </tr>\n",
       "    <tr>\n",
       "      <th>24950</th>\n",
       "      <td>UP000203542</td>\n",
       "      <td>2560777</td>\n",
       "      <td>NaN</td>\n",
       "      <td>viruses</td>\n",
       "      <td>83</td>\n",
       "      <td>0</td>\n",
       "      <td>83</td>\n",
       "      <td>Spheniscid alphaherpesvirus 1</td>\n",
       "    </tr>\n",
       "    <tr>\n",
       "      <th>24951</th>\n",
       "      <td>UP000273303</td>\n",
       "      <td>2490946</td>\n",
       "      <td>NaN</td>\n",
       "      <td>bacteria</td>\n",
       "      <td>2387</td>\n",
       "      <td>0</td>\n",
       "      <td>2391</td>\n",
       "      <td>Actinobaculum sp. 352</td>\n",
       "    </tr>\n",
       "    <tr>\n",
       "      <th>24952</th>\n",
       "      <td>UP000031129</td>\n",
       "      <td>743971</td>\n",
       "      <td>NaN</td>\n",
       "      <td>bacteria</td>\n",
       "      <td>553</td>\n",
       "      <td>0</td>\n",
       "      <td>563</td>\n",
       "      <td>Mesomycoplasma flocculare ATCC 27399</td>\n",
       "    </tr>\n",
       "    <tr>\n",
       "      <th>24953</th>\n",
       "      <td>UP000000814</td>\n",
       "      <td>272562</td>\n",
       "      <td>CLOAB</td>\n",
       "      <td>bacteria</td>\n",
       "      <td>3847</td>\n",
       "      <td>0</td>\n",
       "      <td>3847</td>\n",
       "      <td>Clostridium acetobutylicum (strain ATCC 824 / ...</td>\n",
       "    </tr>\n",
       "    <tr>\n",
       "      <th>24954</th>\n",
       "      <td>UP000000725</td>\n",
       "      <td>155148</td>\n",
       "      <td>BPHK6</td>\n",
       "      <td>viruses</td>\n",
       "      <td>58</td>\n",
       "      <td>0</td>\n",
       "      <td>58</td>\n",
       "      <td>Enterobacteria phage HK620 (Bacteriophage HK620)</td>\n",
       "    </tr>\n",
       "  </tbody>\n",
       "</table>\n",
       "<p>24955 rows × 8 columns</p>\n",
       "</div>"
      ],
      "text/plain": [
       "       Proteome_ID   Tax_ID OSCODE SUPERREGNUM   #(1)  #(2)   #(3)  \\\n",
       "0      UP000521578    47692    NaN   eukaryota  14416     0  14442   \n",
       "1      UP000029743  1554474  ROSV2     viruses      1     0      1   \n",
       "2      UP000628017  2035344    NaN    bacteria   3942     0   3942   \n",
       "3      UP001232722  2664220    NaN     viruses      2     0      2   \n",
       "4      UP000248311  1795041    NaN    bacteria   3295     0   3300   \n",
       "...            ...      ...    ...         ...    ...   ...    ...   \n",
       "24950  UP000203542  2560777    NaN     viruses     83     0     83   \n",
       "24951  UP000273303  2490946    NaN    bacteria   2387     0   2391   \n",
       "24952  UP000031129   743971    NaN    bacteria    553     0    563   \n",
       "24953  UP000000814   272562  CLOAB    bacteria   3847     0   3847   \n",
       "24954  UP000000725   155148  BPHK6     viruses     58     0     58   \n",
       "\n",
       "                                            Species Name  \n",
       "0               Menura novaehollandiae (superb lyrebird)  \n",
       "1        Rosavirus A2 (isolate Human/Gambia/GA7403/2008)  \n",
       "2                                     Amylibacter cionae  \n",
       "3                  Tadarida brasiliensis gemykibivirus 1  \n",
       "4                            Pseudoroseicyclus aestuarii  \n",
       "...                                                  ...  \n",
       "24950                      Spheniscid alphaherpesvirus 1  \n",
       "24951                              Actinobaculum sp. 352  \n",
       "24952               Mesomycoplasma flocculare ATCC 27399  \n",
       "24953  Clostridium acetobutylicum (strain ATCC 824 / ...  \n",
       "24954   Enterobacteria phage HK620 (Bacteriophage HK620)  \n",
       "\n",
       "[24955 rows x 8 columns]"
      ]
     },
     "execution_count": 4,
     "metadata": {},
     "output_type": "execute_result"
    }
   ],
   "source": [
    "import pandas as pd\n",
    "\n",
    "# Load the CSV into a pandas DataFrame\n",
    "df = pd.read_csv(\"uniprot_reference_proteomes_ids.csv\", sep = ';')\n",
    "df\n"
   ]
  },
  {
   "cell_type": "code",
   "execution_count": 5,
   "id": "1dcaf0de",
   "metadata": {},
   "outputs": [
    {
     "name": "stdout",
     "output_type": "stream",
     "text": [
      "1976\n",
      "0       UP000198817\n",
      "2       UP000004504\n",
      "5       UP000270441\n",
      "7       UP000236625\n",
      "8       UP000001410\n",
      "           ...     \n",
      "5098    UP000002939\n",
      "5099    UP000006085\n",
      "5103    UP000238034\n",
      "5104    UP000195713\n",
      "5105    UP000198432\n",
      "Name: species, Length: 1976, dtype: object\n"
     ]
    }
   ],
   "source": [
    "\n",
    "\n",
    "# Filter the DataFrame for bacteria\n",
    "bacteria_df = df[df[\"SUPERREGNUM\"] == \"bacteria\"]\n",
    "\n",
    "# Create a function for loose matching\n",
    "def find_proteome_id(name, species_column, proteome_column):\n",
    "    for index, species in enumerate(species_column):\n",
    "        if name in species:  # Check if the name is a substring of the species\n",
    "            return proteome_column.iloc[index]\n",
    "    return None\n",
    "\n",
    "# Map the bacteria names in the Series to their Proteome_ID using loose matching\n",
    "proteome_ids = bacteria_series.apply(\n",
    "    lambda name: find_proteome_id(name, bacteria_df[\"Species Name\"], bacteria_df[\"Proteome_ID\"])\n",
    ")\n",
    "\n",
    "# Drop NaN values and output the result\n",
    "proteome_ids = proteome_ids.dropna()\n",
    "print(len(proteome_ids))  # Count of matches\n",
    "print(proteome_ids)  # Matched Proteome_IDs\n"
   ]
  },
  {
   "cell_type": "code",
   "execution_count": null,
   "id": "b6a4fbf1",
   "metadata": {},
   "outputs": [
    {
     "name": "stderr",
     "output_type": "stream",
     "text": [
      "Downloading Proteomes:   0%|          | 0/1976 [00:00<?, ?it/s]"
     ]
    },
    {
     "name": "stdout",
     "output_type": "stream",
     "text": [
      "Skipping already downloaded proteome: UP000198817\n",
      "Skipping already downloaded proteome: UP000004504\n",
      "Skipping already downloaded proteome: UP000270441\n",
      "Skipping already downloaded proteome: UP000236625\n",
      "Skipping already downloaded proteome: UP000001410\n",
      "Skipping already downloaded proteome: UP000008816\n",
      "Skipping already downloaded proteome: UP000002230\n",
      "Skipping already downloaded proteome: UP000001118\n",
      "Skipping already downloaded proteome: UP000001436\n",
      "Skipping already downloaded proteome: UP000001415\n",
      "Skipping already downloaded proteome: UP000002438\n",
      "Skipping already downloaded proteome: UP000000584\n",
      "Skipping already downloaded proteome: UP000001570\n",
      "Skipping already downloaded proteome: UP000001986\n",
      "Skipping already downloaded proteome: UP000006735\n",
      "Skipping already downloaded proteome: UP000001062\n",
      "Skipping already downloaded proteome: UP000248731\n",
      "Skipping already downloaded proteome: UP000000532\n",
      "Skipping already downloaded proteome: UP000001735\n",
      "Skipping already downloaded proteome: UP000255382\n",
      "Skipping already downloaded proteome: UP000049472\n",
      "Skipping already downloaded proteome: UP000000809\n",
      "Skipping already downloaded proteome: UP000001417\n",
      "Skipping already downloaded proteome: UP000002198\n",
      "Skipping already downloaded proteome: UP000002430\n",
      "Skipping already downloaded proteome: UP000001978\n",
      "Skipping already downloaded proteome: UP000678348\n",
      "Skipping already downloaded proteome: UP000000821\n",
      "Skipping already downloaded proteome: UP000000750\n",
      "Skipping already downloaded proteome: UP000012675\n",
      "Skipping already downloaded proteome: UP000001697\n",
      "Skipping already downloaded proteome: UP000001889\n",
      "Skipping already downloaded proteome: UP000005156\n",
      "Skipping already downloaded proteome: UP000007477\n",
      "Skipping already downloaded proteome: UP000001173\n",
      "Skipping already downloaded proteome: UP000254807\n",
      "Skipping already downloaded proteome: UP000009077\n",
      "Skipping already downloaded proteome: UP000001420\n",
      "Skipping already downloaded proteome: UP000001020\n",
      "Skipping already downloaded proteome: UP000005740\n",
      "Skipping already downloaded proteome: UP000028631\n",
      "Skipping already downloaded proteome: UP000000556\n",
      "Skipping already downloaded proteome: UP000646478\n",
      "Skipping already downloaded proteome: UP000000605\n",
      "Skipping already downloaded proteome: UP000000432\n",
      "Skipping already downloaded proteome: UP000000586\n",
      "Skipping already downloaded proteome: UP000000817\n",
      "Skipping already downloaded proteome: UP000481043\n",
      "Skipping already downloaded proteome: UP000240206\n",
      "Skipping already downloaded proteome: UP000008840\n",
      "Skipping already downloaded proteome: UP000557042\n",
      "Skipping already downloaded proteome: UP000000815\n",
      "Skipping already downloaded proteome: UP000001131\n",
      "Skipping already downloaded proteome: UP000001036\n",
      "Skipping already downloaded proteome: UP000254920\n",
      "Skipping already downloaded proteome: UP000254640\n",
      "Skipping already downloaded proteome: UP000001726\n",
      "Skipping already downloaded proteome: UP000000799\n",
      "Skipping already downloaded proteome: UP000003917\n",
      "Skipping already downloaded proteome: UP000017248\n",
      "Skipping already downloaded proteome: UP000001170\n",
      "Skipping already downloaded proteome: UP000001889\n",
      "Skipping already downloaded proteome: UP000002196\n",
      "Skipping already downloaded proteome: UP000000594\n",
      "Skipping already downloaded proteome: UP000000757\n",
      "Skipping already downloaded proteome: UP000000818\n",
      "Skipping already downloaded proteome: UP000000260\n",
      "Skipping already downloaded proteome: UP000000841\n",
      "Skipping already downloaded proteome: UP000006135\n",
      "Skipping already downloaded proteome: UP000061457\n",
      "Skipping already downloaded proteome: UP000029431\n",
      "Skipping already downloaded proteome: UP000030341\n",
      "Skipping already downloaded proteome: UP000000935\n",
      "Skipping already downloaded proteome: UP000007137\n",
      "Skipping already downloaded proteome: UP000002719\n",
      "Skipping already downloaded proteome: UP000006833\n",
      "Skipping already downloaded proteome: UP000008520\n",
      "Skipping already downloaded proteome: UP000002521\n",
      "Skipping already downloaded proteome: UP000001010\n",
      "Skipping already downloaded proteome: UP000007065\n",
      "Skipping already downloaded proteome: UP000000774\n",
      "Skipping already downloaded proteome: UP000000579\n",
      "Skipping already downloaded proteome: UP000283360\n",
      "Skipping already downloaded proteome: UP000008812\n",
      "Skipping already downloaded proteome: UP000001955\n",
      "Skipping already downloaded proteome: UP000000528\n",
      "Skipping already downloaded proteome: UP000002402\n",
      "Skipping already downloaded proteome: UP000001976\n",
      "Skipping already downloaded proteome: UP000000936\n",
      "Skipping already downloaded proteome: UP000001006\n",
      "Skipping already downloaded proteome: UP000001651\n",
      "Skipping already downloaded proteome: UP000006810\n",
      "Skipping already downloaded proteome: UP000323046\n",
      "Skipping already downloaded proteome: UP000002512\n",
      "Skipping already downloaded proteome: UP000000582\n",
      "Skipping already downloaded proteome: UP000000531\n",
      "Skipping already downloaded proteome: UP000001172\n",
      "Skipping already downloaded proteome: UP000001259\n",
      "Skipping already downloaded proteome: UP000255382\n",
      "Skipping already downloaded proteome: UP000282438\n",
      "Skipping already downloaded proteome: UP000001023\n",
      "Skipping already downloaded proteome: UP000565745\n",
      "Skipping already downloaded proteome: UP000001030\n",
      "Skipping already downloaded proteome: UP000002516\n",
      "Skipping already downloaded proteome: UP000000784\n",
      "Skipping already downloaded proteome: UP000195062\n",
      "Skipping already downloaded proteome: UP000000362\n",
      "Skipping already downloaded proteome: UP000004245\n",
      "Skipping already downloaded proteome: UP000000428\n",
      "Skipping already downloaded proteome: UP000243591\n",
      "Skipping already downloaded proteome: UP000001364\n",
      "Skipping already downloaded proteome: UP000001420\n",
      "Skipping already downloaded proteome: UP000007029\n",
      "Skipping already downloaded proteome: UP000248731\n",
      "Skipping already downloaded proteome: UP000002529\n",
      "Skipping already downloaded proteome: UP000001279\n",
      "Skipping already downloaded proteome: UP000011834\n",
      "Skipping already downloaded proteome: UP000027395\n",
      "Skipping already downloaded proteome: UP000006276\n",
      "Skipping already downloaded proteome: UP000000546\n",
      "Skipping already downloaded proteome: UP000002361\n",
      "Skipping already downloaded proteome: UP000037515\n",
      "Skipping already downloaded proteome: UP000006304\n",
      "Skipping already downloaded proteome: UP000007966\n",
      "Skipping already downloaded proteome: UP000075320\n",
      "Skipping already downloaded proteome: UP000032287\n",
      "Skipping already downloaded proteome: UP000261055\n",
      "Skipping already downloaded proteome: UP000199630\n",
      "Skipping already downloaded proteome: UP000002297\n",
      "Skipping already downloaded proteome: UP000628710\n",
      "Skipping already downloaded proteome: UP000000756\n",
      "Skipping already downloaded proteome: UP000594034\n",
      "Skipping already downloaded proteome: UP000198873\n",
      "Skipping already downloaded proteome: UP000029844\n",
      "Skipping already downloaded proteome: UP000001973\n",
      "Skipping already downloaded proteome: UP000179588\n",
      "Skipping already downloaded proteome: UP000006394\n",
      "Skipping already downloaded proteome: UP000276103\n",
      "Skipping already downloaded proteome: UP000376575\n",
      "Skipping already downloaded proteome: UP000006371\n",
      "Skipping already downloaded proteome: UP000019918\n",
      "Skipping already downloaded proteome: UP000005850\n",
      "Skipping already downloaded proteome: UP000217895\n",
      "Skipping already downloaded proteome: UP000185860\n",
      "Skipping already downloaded proteome: UP000014136\n",
      "Skipping already downloaded proteome: UP000008330\n",
      "Skipping already downloaded proteome: UP000031368\n",
      "Skipping already downloaded proteome: UP000001982\n",
      "Skipping already downloaded proteome: UP000000754\n",
      "Skipping already downloaded proteome: UP000029924\n",
      "Skipping already downloaded proteome: UP000008520\n",
      "Skipping already downloaded proteome: UP000006859\n",
      "Skipping already downloaded proteome: UP000006371\n",
      "Skipping already downloaded proteome: UP000001412\n",
      "Skipping already downloaded proteome: UP000008332\n",
      "Skipping already downloaded proteome: UP000351155\n",
      "Skipping already downloaded proteome: UP000092714\n",
      "Skipping already downloaded proteome: UP000003157\n",
      "Skipping already downloaded proteome: UP000001476\n",
      "Skipping already downloaded proteome: UP000006559\n",
      "Skipping already downloaded proteome: UP000051324\n",
      "Skipping already downloaded proteome: UP000008794\n",
      "Skipping already downloaded proteome: UP000244959\n",
      "Skipping already downloaded proteome: UP000031386\n",
      "Skipping already downloaded proteome: UP000016490\n",
      "Skipping already downloaded proteome: UP000014212\n",
      "Skipping already downloaded proteome: UP000325032\n",
      "Skipping already downloaded proteome: UP000000566\n",
      "Skipping already downloaded proteome: UP000001414\n",
      "Skipping already downloaded proteome: UP000005798\n",
      "Skipping already downloaded proteome: UP000003233\n",
      "Skipping already downloaded proteome: UP000001383\n",
      "Skipping already downloaded proteome: UP000245288\n",
      "Skipping already downloaded proteome: UP000366766\n",
      "Skipping already downloaded proteome: UP000008804\n",
      "Skipping already downloaded proteome: UP000035860\n",
      "Skipping already downloaded proteome: UP000006743\n",
      "Skipping already downloaded proteome: UP000479531\n",
      "Skipping already downloaded proteome: UP000001408\n",
      "Skipping already downloaded proteome: UP000233425\n",
      "Skipping already downloaded proteome: UP000198652\n",
      "Skipping already downloaded proteome: UP000003028\n",
      "Skipping already downloaded proteome: UP000286598\n",
      "Skipping already downloaded proteome: UP000003081\n",
      "Skipping already downloaded proteome: UP000409147\n",
      "Skipping already downloaded proteome: UP000008178\n",
      "Skipping already downloaded proteome: UP000029585\n",
      "Skipping already downloaded proteome: UP000261231\n",
      "Skipping already downloaded proteome: UP000000431\n",
      "Skipping already downloaded proteome: UP000255335\n",
      "Skipping already downloaded proteome: UP000002970\n",
      "Skipping already downloaded proteome: UP000013981\n",
      "Skipping already downloaded proteome: UP000254193\n",
      "Skipping already downloaded proteome: UP000001444\n",
      "Skipping already downloaded proteome: UP000001652\n",
      "Skipping already downloaded proteome: UP000032483\n",
      "Skipping already downloaded proteome: UP000284095\n",
      "Skipping already downloaded proteome: UP000005150\n",
      "Skipping already downloaded proteome: UP000017831\n",
      "Skipping already downloaded proteome: UP000000439\n",
      "Skipping already downloaded proteome: UP000002965\n",
      "Skipping already downloaded proteome: UP000260862\n",
      "Skipping already downloaded proteome: UP000009080\n",
      "Skipping already downloaded proteome: UP000002676\n",
      "Skipping already downloaded proteome: UP000595373\n",
      "Skipping already downloaded proteome: UP000000248\n",
      "Skipping already downloaded proteome: UP000006657\n",
      "Skipping already downloaded proteome: UP000001991\n",
      "Skipping already downloaded proteome: UP000003828\n",
      "Skipping already downloaded proteome: UP000001279\n",
      "Skipping already downloaded proteome: UP000006044\n",
      "Skipping already downloaded proteome: UP000064844\n",
      "Skipping already downloaded proteome: UP000003178\n",
      "Skipping already downloaded proteome: UP001205919\n",
      "Skipping already downloaded proteome: UP000005384\n",
      "Skipping already downloaded proteome: UP000001702\n",
      "Skipping already downloaded proteome: UP000009872\n",
      "Skipping already downloaded proteome: UP000284779\n",
      "Skipping already downloaded proteome: UP000036196\n",
      "Skipping already downloaded proteome: UP000000535\n",
      "Skipping already downloaded proteome: UP000199065\n",
      "Skipping already downloaded proteome: UP000789617\n",
      "Skipping already downloaded proteome: UP000018716\n",
      "Skipping already downloaded proteome: UP000261080\n",
      "Skipping already downloaded proteome: UP000284621\n",
      "Skipping already downloaded proteome: UP000029986\n",
      "Skipping already downloaded proteome: UP000004184\n",
      "Skipping already downloaded proteome: UP000033035\n",
      "Skipping already downloaded proteome: UP000008212\n",
      "Skipping already downloaded proteome: UP000002703\n",
      "Skipping already downloaded proteome: UP000001377\n",
      "Skipping already downloaded proteome: UP000000537\n",
      "Skipping already downloaded proteome: UP000007093\n",
      "Skipping already downloaded proteome: UP000033572\n",
      "Skipping already downloaded proteome: UP000049828\n",
      "Skipping already downloaded proteome: UP000186323\n",
      "Skipping already downloaded proteome: UP000001807\n",
      "Skipping already downloaded proteome: UP000008702\n",
      "Skipping already downloaded proteome: UP000000813\n",
      "Skipping already downloaded proteome: UP000019222\n",
      "Skipping already downloaded proteome: UP000007727\n",
      "Skipping already downloaded proteome: UP000049979\n",
      "Skipping already downloaded proteome: UP000000606\n",
      "Skipping already downloaded proteome: UP000006034\n",
      "Skipping already downloaded proteome: UP000002716\n",
      "Skipping already downloaded proteome: UP000030636\n",
      "Skipping already downloaded proteome: UP000283983\n",
      "Skipping already downloaded proteome: UP000035009\n",
      "Skipping already downloaded proteome: UP000002671\n",
      "Skipping already downloaded proteome: UP000033924\n",
      "Skipping already downloaded proteome: UP000185161\n",
      "Skipping already downloaded proteome: UP000000425\n",
      "Skipping already downloaded proteome: UP000004470\n",
      "Skipping already downloaded proteome: UP000002514\n",
      "Skipping already downloaded proteome: UP000013126\n",
      "Skipping already downloaded proteome: UP000007946\n",
      "Skipping already downloaded proteome: UP000008129\n",
      "Skipping already downloaded proteome: UP000008805\n",
      "Skipping already downloaded proteome: UP000005835\n",
      "Skipping already downloaded proteome: UP000076512\n",
      "Skipping already downloaded proteome: UP000056419\n",
      "Skipping already downloaded proteome: UP000008316\n",
      "Skipping already downloaded proteome: UP000006173\n",
      "Skipping already downloaded proteome: UP000247612\n",
      "Skipping already downloaded proteome: UP000005178\n",
      "Skipping already downloaded proteome: UP000195772\n",
      "Skipping already downloaded proteome: UP001161916\n",
      "Skipping already downloaded proteome: UP000004830\n",
      "Skipping already downloaded proteome: UP000018690\n",
      "Skipping already downloaded proteome: UP000284178\n",
      "Skipping already downloaded proteome: UP000004097\n",
      "Skipping already downloaded proteome: UP000013777\n",
      "Skipping already downloaded proteome: UP000191200\n",
      "Skipping already downloaded proteome: UP000253792\n",
      "Skipping already downloaded proteome: UP000198508\n",
      "Skipping already downloaded proteome: UP000005819\n",
      "Skipping already downloaded proteome: UP000003438\n",
      "Skipping already downloaded proteome: UP000003100\n",
      "Skipping already downloaded proteome: UP000003191\n",
      "Skipping already downloaded proteome: UP000002975\n",
      "Skipping already downloaded proteome: UP000005089\n",
      "Skipping already downloaded proteome: UP000003752\n",
      "Skipping already downloaded proteome: UP000004528\n",
      "Skipping already downloaded proteome: UP000005392\n",
      "Skipping already downloaded proteome: UP000008693\n",
      "Skipping already downloaded proteome: UP000005561\n",
      "Skipping already downloaded proteome: UP000005546\n",
      "Skipping already downloaded proteome: UP000007054\n",
      "Skipping already downloaded proteome: UP000006420\n",
      "Skipping already downloaded proteome: UP000006008\n",
      "Skipping already downloaded proteome: UP000001946\n",
      "Skipping already downloaded proteome: UP000481872\n",
      "Skipping already downloaded proteome: UP000318946\n",
      "Skipping already downloaded proteome: UP000010420\n",
      "Skipping already downloaded proteome: UP000003089\n",
      "Skipping already downloaded proteome: UP000031523\n",
      "Skipping already downloaded proteome: UP000028875\n",
      "Skipping already downloaded proteome: UP001142078\n",
      "Skipping already downloaded proteome: UP000247696\n",
      "Skipping already downloaded proteome: UP000284841\n",
      "Skipping already downloaded proteome: UP000183253\n",
      "Skipping already downloaded proteome: UP000007995\n",
      "Skipping already downloaded proteome: UP000030635\n",
      "Skipping already downloaded proteome: UP000446866\n",
      "Skipping already downloaded proteome: UP000003705\n",
      "Skipping already downloaded proteome: UP000019482\n",
      "Skipping already downloaded proteome: UP000001218\n",
      "Skipping already downloaded proteome: UP000002627\n",
      "Skipping already downloaded proteome: UP000015854\n",
      "Skipping already downloaded proteome: UP000269493\n",
      "Skipping already downloaded proteome: UP000188947\n",
      "Skipping already downloaded proteome: UP000008148\n",
      "Skipping already downloaded proteome: UP000001319\n",
      "Skipping already downloaded proteome: UP000000609\n",
      "Skipping already downloaded proteome: UP000008815\n",
      "Skipping already downloaded proteome: UP000014216\n",
      "Skipping already downloaded proteome: UP000010290\n",
      "Skipping already downloaded proteome: UP000464262\n",
      "Skipping already downloaded proteome: UP000028500\n",
      "Skipping already downloaded proteome: UP000006693\n",
      "Skipping already downloaded proteome: UP000002429\n",
      "Skipping already downloaded proteome: UP000000593\n",
      "Skipping already downloaded proteome: UP000005778\n",
      "Skipping already downloaded proteome: UP000005744\n",
      "Skipping already downloaded proteome: UP000251853\n",
      "Skipping already downloaded proteome: UP000005019\n",
      "Skipping already downloaded proteome: UP000035170\n",
      "Skipping already downloaded proteome: UP000831534\n",
      "Skipping already downloaded proteome: UP000015520\n",
      "Skipping already downloaded proteome: UP000033664\n",
      "Skipping already downloaded proteome: UP000269923\n",
      "Skipping already downloaded proteome: UP000017813\n",
      "Skipping already downloaded proteome: UP000013117\n",
      "Skipping already downloaded proteome: UP000013148\n",
      "Skipping already downloaded proteome: UP000013276\n",
      "Skipping already downloaded proteome: UP000219669\n",
      "Skipping already downloaded proteome: UP000184386\n",
      "Skipping already downloaded proteome: UP000319627\n",
      "Skipping already downloaded proteome: UP000199766\n",
      "Skipping already downloaded proteome: UP000016567\n",
      "Skipping already downloaded proteome: UP000004207\n",
      "Skipping already downloaded proteome: UP000023435\n",
      "Skipping already downloaded proteome: UP000029998\n",
      "Skipping already downloaded proteome: UP000242469\n",
      "Skipping already downloaded proteome: UP000003856\n",
      "Skipping already downloaded proteome: UP000068210\n",
      "Skipping already downloaded proteome: UP000218387\n",
      "Skipping already downloaded proteome: UP000032303\n",
      "Skipping already downloaded proteome: UP000031565\n",
      "Skipping already downloaded proteome: UP000199636\n",
      "Skipping already downloaded proteome: UP000199548\n",
      "Skipping already downloaded proteome: UP000187495\n",
      "Skipping already downloaded proteome: UP000245754\n",
      "Skipping already downloaded proteome: UP000028486\n",
      "Skipping already downloaded proteome: UP000018554\n",
      "Skipping already downloaded proteome: UP000092574\n",
      "Skipping already downloaded proteome: UP000002440\n",
      "Skipping already downloaded proteome: UP000006697\n",
      "Skipping already downloaded proteome: UP000020766\n",
      "Skipping already downloaded proteome: UP000016895\n",
      "Skipping already downloaded proteome: UP000028602\n",
      "Skipping already downloaded proteome: UP000029385\n",
      "Skipping already downloaded proteome: UP000076643\n",
      "Skipping already downloaded proteome: UP000004625\n",
      "Skipping already downloaded proteome: UP000065734\n",
      "Skipping already downloaded proteome: UP000272771\n",
      "Skipping already downloaded proteome: UP000070533\n",
      "Skipping already downloaded proteome: UP000324383\n",
      "Skipping already downloaded proteome: UP001200537\n",
      "Skipping already downloaded proteome: UP000013097\n",
      "Skipping already downloaded proteome: UP000011912\n",
      "Skipping already downloaded proteome: UP000051576\n",
      "Skipping already downloaded proteome: UP000051886\n",
      "Skipping already downloaded proteome: UP000092565\n",
      "Skipping already downloaded proteome: UP000274920\n",
      "Skipping already downloaded proteome: UP000285278\n",
      "Skipping already downloaded proteome: UP000324497\n",
      "Skipping already downloaded proteome: UP000019063\n",
      "Skipping already downloaded proteome: UP000051236\n",
      "Skipping already downloaded proteome: UP000007753\n",
      "Skipping already downloaded proteome: UP000032668\n",
      "Skipping already downloaded proteome: UP000009010\n",
      "Skipping already downloaded proteome: UP000018559\n",
      "Skipping already downloaded proteome: UP000255467\n",
      "Skipping already downloaded proteome: UP000052167\n",
      "Skipping already downloaded proteome: UP000184389\n",
      "Skipping already downloaded proteome: UP000183952\n",
      "Skipping already downloaded proteome: UP000004219\n",
      "Skipping already downloaded proteome: UP000008456\n",
      "Skipping already downloaded proteome: UP000243745\n",
      "Skipping already downloaded proteome: UP000199073\n",
      "Skipping already downloaded proteome: UP000198889\n",
      "Skipping already downloaded proteome: UP000219565\n",
      "Skipping already downloaded proteome: UP000019202\n",
      "Skipping already downloaded proteome: UP000029108\n",
      "Skipping already downloaded proteome: UP000009134\n",
      "Skipping already downloaded proteome: UP000199337\n",
      "Skipping already downloaded proteome: UP000242642\n",
      "Skipping already downloaded proteome: UP000003874\n",
      "Skipping already downloaded proteome: UP000029462\n",
      "Skipping already downloaded proteome: UP000298642\n",
      "Skipping already downloaded proteome: UP000004597\n",
      "Skipping already downloaded proteome: UP000027665\n",
      "Skipping already downloaded proteome: UP000037269\n",
      "Skipping already downloaded proteome: UP000199236\n",
      "Skipping already downloaded proteome: UP000198525\n",
      "Skipping already downloaded proteome: UP000037778\n",
      "Skipping already downloaded proteome: UP000051401\n",
      "Skipping already downloaded proteome: UP000028868\n",
      "Skipping already downloaded proteome: UP000033618\n",
      "Skipping already downloaded proteome: UP000032566\n",
      "Skipping already downloaded proteome: UP000240996\n",
      "Skipping already downloaded proteome: UP000029381\n",
      "Skipping already downloaded proteome: UP000031572\n",
      "Skipping already downloaded proteome: UP000036951\n",
      "Skipping already downloaded proteome: UP000002301\n",
      "Skipping already downloaded proteome: UP000033070\n",
      "Skipping already downloaded proteome: UP000184480\n",
      "Skipping already downloaded proteome: UP000199163\n",
      "Skipping already downloaded proteome: UP000052012\n",
      "Skipping already downloaded proteome: UP000184066\n",
      "Skipping already downloaded proteome: UP000070188\n",
      "Skipping already downloaded proteome: UP000051639\n",
      "Skipping already downloaded proteome: UP000001054\n",
      "Skipping already downloaded proteome: UP000198640\n",
      "Skipping already downloaded proteome: UP000034156\n",
      "Skipping already downloaded proteome: UP000199361\n",
      "Skipping already downloaded proteome: UP000198683\n",
      "Skipping already downloaded proteome: UP000199155\n",
      "Skipping already downloaded proteome: UP000053226\n",
      "Skipping already downloaded proteome: UP000051054\n",
      "Skipping already downloaded proteome: UP000029093\n",
      "Skipping already downloaded proteome: UP000006820\n",
      "Skipping already downloaded proteome: UP000031521\n",
      "Skipping already downloaded proteome: UP000029082\n",
      "Skipping already downloaded proteome: UP000037393\n",
      "Skipping already downloaded proteome: UP000184335\n",
      "Skipping already downloaded proteome: UP000007332\n",
      "Skipping already downloaded proteome: UP000051621\n",
      "Skipping already downloaded proteome: UP000017118\n",
      "Skipping already downloaded proteome: UP000028181\n",
      "Skipping already downloaded proteome: UP000076066\n",
      "Skipping already downloaded proteome: UP000000738\n",
      "Skipping already downloaded proteome: UP000006375\n",
      "Skipping already downloaded proteome: UP000219439\n",
      "Skipping already downloaded proteome: UP000237846\n",
      "Skipping already downloaded proteome: UP000243528\n",
      "Skipping already downloaded proteome: UP000036045\n",
      "Skipping already downloaded proteome: UP000075806\n",
      "Skipping already downloaded proteome: UP000050911\n",
      "Skipping already downloaded proteome: UP000244081\n",
      "Skipping already downloaded proteome: UP000186221\n",
      "Skipping already downloaded proteome: UP000249453\n",
      "Skipping already downloaded proteome: UP000033695\n",
      "Skipping already downloaded proteome: UP000199120\n",
      "Skipping already downloaded proteome: UP000245977\n",
      "Skipping already downloaded proteome: UP000295087\n",
      "Skipping already downloaded proteome: UP000252586\n",
      "Skipping already downloaded proteome: UP000004778\n",
      "Skipping already downloaded proteome: UP000004870\n",
      "Skipping already downloaded proteome: UP000019109\n",
      "Skipping already downloaded proteome: UP000016519\n",
      "Skipping already downloaded proteome: UP000217446\n",
      "Skipping already downloaded proteome: UP000180254\n",
      "Skipping already downloaded proteome: UP000035265\n",
      "Skipping already downloaded proteome: UP000295188\n",
      "Skipping already downloaded proteome: UP000277108\n",
      "Skipping already downloaded proteome: UP000094622\n",
      "Skipping already downloaded proteome: UP000186341\n",
      "Skipping already downloaded proteome: UP000234626\n",
      "Skipping already downloaded proteome: UP000182661\n",
      "Skipping already downloaded proteome: UP000192746\n",
      "Skipping already downloaded proteome: UP000294919\n",
      "Skipping already downloaded proteome: UP000001977\n",
      "Skipping already downloaded proteome: UP000037151\n",
      "Skipping already downloaded proteome: UP000057134\n",
      "Skipping already downloaded proteome: UP000317940\n",
      "Skipping already downloaded proteome: UP000016842\n",
      "Skipping already downloaded proteome: UP000198217\n",
      "Skipping already downloaded proteome: UP000029033\n",
      "Skipping already downloaded proteome: UP000626795\n",
      "Skipping already downloaded proteome: UP000187172\n",
      "Skipping already downloaded proteome: UP000519439\n",
      "Skipping already downloaded proteome: UP000008674\n",
      "Skipping already downloaded proteome: UP000193200\n",
      "Skipping already downloaded proteome: UP000192536\n",
      "Skipping already downloaded proteome: UP000019062\n",
      "Skipping already downloaded proteome: UP000270342\n",
      "Skipping already downloaded proteome: UP000292685\n",
      "Skipping already downloaded proteome: UP000197019\n",
      "Skipping already downloaded proteome: UP000092649\n",
      "Skipping already downloaded proteome: UP000244940\n",
      "Skipping already downloaded proteome: UP000256679\n",
      "Skipping already downloaded proteome: UP000324065\n",
      "Skipping already downloaded proteome: UP000000212\n",
      "Skipping already downloaded proteome: UP000002514\n",
      "Skipping already downloaded proteome: UP000230202\n",
      "Skipping already downloaded proteome: UP000030960\n",
      "Skipping already downloaded proteome: UP000222366\n",
      "Skipping already downloaded proteome: UP000245629\n",
      "Skipping already downloaded proteome: UP000199670\n",
      "Skipping already downloaded proteome: UP000029858\n",
      "Skipping already downloaded proteome: UP000265768\n",
      "Skipping already downloaded proteome: UP000251577\n",
      "Skipping already downloaded proteome: UP000265325\n",
      "Skipping already downloaded proteome: UP000287470\n",
      "Skipping already downloaded proteome: UP000272474\n",
      "Skipping already downloaded proteome: UP000270343\n",
      "Skipping already downloaded proteome: UP000274391\n",
      "Skipping already downloaded proteome: UP000267081\n",
      "Skipping already downloaded proteome: UP000288052\n",
      "Skipping already downloaded proteome: UP000002166\n",
      "Skipping already downloaded proteome: UP000049983\n",
      "Skipping already downloaded proteome: UP000486297\n",
      "Skipping already downloaded proteome: UP000290407\n",
      "Skipping already downloaded proteome: UP000288291\n",
      "Skipping already downloaded proteome: UP000318590\n",
      "Skipping already downloaded proteome: UP000032679\n",
      "Skipping already downloaded proteome: UP000297890\n",
      "Skipping already downloaded proteome: UP000325255\n",
      "Skipping already downloaded proteome: UP000605148\n",
      "Skipping already downloaded proteome: UP000308705\n",
      "Skipping already downloaded proteome: UP000308760\n",
      "Skipping already downloaded proteome: UP000289200\n",
      "Skipping already downloaded proteome: UP000244334\n",
      "Skipping already downloaded proteome: UP000051008\n",
      "Skipping already downloaded proteome: UP000410984\n",
      "Skipping already downloaded proteome: UP000326936\n",
      "Skipping already downloaded proteome: UP000572984\n",
      "Skipping already downloaded proteome: UP000306912\n",
      "Skipping already downloaded proteome: UP000185895\n",
      "Skipping already downloaded proteome: UP000273811\n",
      "Skipping already downloaded proteome: UP000009081\n",
      "Skipping already downloaded proteome: UP000198915\n",
      "Skipping already downloaded proteome: UP000186455\n",
      "Skipping already downloaded proteome: UP000001557\n",
      "Skipping already downloaded proteome: UP000003160\n",
      "Skipping already downloaded proteome: UP000002077\n",
      "Skipping already downloaded proteome: UP000003503\n",
      "Skipping already downloaded proteome: UP000004115\n",
      "Skipping already downloaded proteome: UP000004105\n",
      "Skipping already downloaded proteome: UP000184310\n",
      "Skipping already downloaded proteome: UP000004217\n",
      "Skipping already downloaded proteome: UP000002072\n",
      "Skipping already downloaded proteome: UP000183002\n",
      "Skipping already downloaded proteome: UP000287533\n",
      "Skipping already downloaded proteome: UP000295165\n",
      "Skipping already downloaded proteome: UP000018415\n",
      "Skipping already downloaded proteome: UP000189761\n",
      "Skipping already downloaded proteome: UP000002148\n",
      "Skipping already downloaded proteome: UP000051790\n",
      "Skipping already downloaded proteome: UP000215059\n",
      "Skipping already downloaded proteome: UP000192980\n",
      "Skipping already downloaded proteome: UP000003277\n",
      "Skipping already downloaded proteome: UP000004191\n",
      "Skipping already downloaded proteome: UP000011728\n",
      "Skipping already downloaded proteome: UP000184420\n",
      "Skipping already downloaded proteome: UP000535838\n",
      "Skipping already downloaded proteome: UP000285864\n",
      "Skipping already downloaded proteome: UP000003645\n",
      "Skipping already downloaded proteome: UP000001424\n",
      "Skipping already downloaded proteome: UP000190476\n",
      "Skipping already downloaded proteome: UP000001031\n",
      "Skipping already downloaded proteome: UP000236743\n",
      "Skipping already downloaded proteome: UP000051587\n",
      "Skipping already downloaded proteome: UP000028007\n",
      "Skipping already downloaded proteome: UP000192756\n",
      "Skipping already downloaded proteome: UP000192738\n",
      "Skipping already downloaded proteome: UP000198324\n",
      "Skipping already downloaded proteome: UP000216052\n",
      "Skipping already downloaded proteome: UP000009319\n",
      "Skipping already downloaded proteome: UP000236728\n",
      "Skipping already downloaded proteome: UP000179769\n",
      "Skipping already downloaded proteome: UP000060787\n",
      "Skipping already downloaded proteome: UP000076021\n",
      "Skipping already downloaded proteome: UP000012081\n",
      "Skipping already downloaded proteome: UP000050471\n",
      "Skipping already downloaded proteome: UP000889800\n",
      "Skipping already downloaded proteome: UP000182508\n",
      "Skipping already downloaded proteome: UP000009320\n",
      "Skipping already downloaded proteome: UP000029629\n",
      "Skipping already downloaded proteome: UP000278542\n",
      "Skipping already downloaded proteome: UP000254978\n",
      "Skipping already downloaded proteome: UP000195331\n",
      "Skipping already downloaded proteome: UP000675920\n",
      "Skipping already downloaded proteome: UP000192940\n",
      "Skipping already downloaded proteome: UP000012651\n",
      "Skipping already downloaded proteome: UP000014417\n",
      "Skipping already downloaded proteome: UP000193083\n",
      "Skipping already downloaded proteome: UP000009887\n",
      "Skipping already downloaded proteome: UP000292347\n",
      "Skipping already downloaded proteome: UP000244162\n",
      "Skipping already downloaded proteome: UP000326838\n",
      "Skipping already downloaded proteome: UP000325827\n",
      "Skipping already downloaded proteome: UP000215483\n",
      "Skipping already downloaded proteome: UP000187266\n",
      "Skipping already downloaded proteome: UP000295499\n",
      "Skipping already downloaded proteome: UP000094652\n",
      "Skipping already downloaded proteome: UP000199207\n",
      "Skipping already downloaded proteome: UP000198923\n",
      "Skipping already downloaded proteome: UP000245839\n",
      "Skipping already downloaded proteome: UP000216454\n",
      "Skipping already downloaded proteome: UP000295371\n",
      "Skipping already downloaded proteome: UP000220246\n",
      "Skipping already downloaded proteome: UP000000449\n",
      "Skipping already downloaded proteome: UP000076625\n",
      "Skipping already downloaded proteome: UP000029500\n",
      "Skipping already downloaded proteome: UP000315439\n",
      "Skipping already downloaded proteome: UP000228976\n",
      "Skipping already downloaded proteome: UP000001955\n",
      "Skipping already downloaded proteome: UP000002194\n",
      "Skipping already downloaded proteome: UP000000361\n",
      "Skipping already downloaded proteome: UP000000644\n",
      "Skipping already downloaded proteome: UP000004310\n",
      "Skipping already downloaded proteome: UP000001556\n",
      "Skipping already downloaded proteome: UP000006556\n",
      "Skipping already downloaded proteome: UP000002417\n",
      "Skipping already downloaded proteome: UP000002456\n",
      "Skipping already downloaded proteome: UP000014012\n",
      "Skipping already downloaded proteome: UP000236214\n",
      "Skipping already downloaded proteome: UP000031397\n",
      "Skipping already downloaded proteome: UP000051672\n",
      "Skipping already downloaded proteome: UP000069096\n",
      "Skipping already downloaded proteome: UP000060016\n",
      "Skipping already downloaded proteome: UP000050398\n",
      "Skipping already downloaded proteome: UP000197783\n",
      "Skipping already downloaded proteome: UP000199118\n",
      "Skipping already downloaded proteome: UP000324376\n",
      "Skipping already downloaded proteome: UP000198500\n",
      "Skipping already downloaded proteome: UP000236745\n",
      "Skipping already downloaded proteome: UP000002931\n",
      "Skipping already downloaded proteome: UP000199379\n",
      "Skipping already downloaded proteome: UP000186559\n",
      "Skipping already downloaded proteome: UP000194137\n",
      "Skipping already downloaded proteome: UP000187059\n",
      "Skipping already downloaded proteome: UP000033682\n",
      "Skipping already downloaded proteome: UP000027341\n",
      "Skipping already downloaded proteome: UP000049855\n",
      "Skipping already downloaded proteome: UP000295719\n",
      "Skipping already downloaded proteome: UP000094023\n",
      "Skipping already downloaded proteome: UP000231259\n",
      "Skipping already downloaded proteome: UP000175669\n",
      "Skipping already downloaded proteome: UP000053235\n",
      "Skipping already downloaded proteome: UP000199662\n",
      "Skipping already downloaded proteome: UP000198995\n",
      "Skipping already downloaded proteome: UP000198833\n",
      "Skipping already downloaded proteome: UP000198885\n",
      "Skipping already downloaded proteome: UP000199180\n",
      "Skipping already downloaded proteome: UP000198597\n",
      "Skipping already downloaded proteome: UP000198688\n",
      "Skipping already downloaded proteome: UP000198893\n",
      "Skipping already downloaded proteome: UP000011731\n",
      "Skipping already downloaded proteome: UP000070620\n",
      "Skipping already downloaded proteome: UP000588098\n",
      "Skipping already downloaded proteome: UP000534306\n",
      "Skipping already downloaded proteome: UP000186513\n",
      "Skipping already downloaded proteome: UP000326553\n",
      "Skipping already downloaded proteome: UP000094172\n",
      "Skipping already downloaded proteome: UP001161422\n",
      "Skipping already downloaded proteome: UP000250462\n",
      "Skipping already downloaded proteome: UP001157439\n",
      "Skipping already downloaded proteome: UP000236311\n",
      "Skipping already downloaded proteome: UP000237839\n",
      "Skipping already downloaded proteome: UP000245461\n",
      "Skipping already downloaded proteome: UP000294813\n",
      "Skipping already downloaded proteome: UP000295680\n",
      "Skipping already downloaded proteome: UP000294881\n",
      "Skipping already downloaded proteome: UP000295063\n",
      "Skipping already downloaded proteome: UP000302163\n",
      "Skipping already downloaded proteome: UP000239709\n",
      "Skipping already downloaded proteome: UP000001551\n",
      "Skipping already downloaded proteome: UP000294360\n",
      "Skipping already downloaded proteome: UP000298653\n",
      "Skipping already downloaded proteome: UP000070366\n",
      "Skipping already downloaded proteome: UP000028826\n",
      "Skipping already downloaded proteome: UP000275069\n",
      "Skipping already downloaded proteome: UP000078084\n",
      "Skipping already downloaded proteome: UP000291301\n",
      "Skipping already downloaded proteome: UP000250257\n",
      "Skipping already downloaded proteome: UP000235703\n",
      "Skipping already downloaded proteome: UP000225972\n",
      "Skipping already downloaded proteome: UP000262621\n",
      "Skipping already downloaded proteome: UP000199093\n",
      "Skipping already downloaded proteome: UP000249165\n",
      "Skipping already downloaded proteome: UP000198728\n",
      "Skipping already downloaded proteome: UP000007347\n",
      "Skipping already downloaded proteome: UP000036923\n",
      "Skipping already downloaded proteome: UP000290975\n",
      "Skipping already downloaded proteome: UP000002634\n",
      "Skipping already downloaded proteome: UP000320235\n",
      "Skipping already downloaded proteome: UP000009186\n",
      "Skipping already downloaded proteome: UP000318416\n",
      "Skipping already downloaded proteome: UP000031843\n",
      "Skipping already downloaded proteome: UP000029548\n",
      "Skipping already downloaded proteome: UP000000329\n",
      "Skipping already downloaded proteome: UP000190166\n",
      "Skipping already downloaded proteome: UP000000588\n",
      "Skipping already downloaded proteome: UP000005388\n",
      "Skipping already downloaded proteome: UP000005275\n",
      "Skipping already downloaded proteome: UP000000545\n",
      "Skipping already downloaded proteome: UP000002707\n",
      "Skipping already downloaded proteome: UP000239471\n",
      "Skipping already downloaded proteome: UP000006233\n",
      "Skipping already downloaded proteome: UP000236047\n",
      "Skipping already downloaded proteome: UP000249590\n",
      "Skipping already downloaded proteome: UP000014204\n",
      "Skipping already downloaded proteome: UP000318288\n",
      "Skipping already downloaded proteome: UP000235347\n",
      "Skipping already downloaded proteome: UP000297454\n",
      "Skipping already downloaded proteome: UP000319255\n",
      "Skipping already downloaded proteome: UP000003045\n",
      "Skipping already downloaded proteome: UP000029273\n",
      "Skipping already downloaded proteome: UP000037939\n",
      "Skipping already downloaded proteome: UP000036932\n",
      "Skipping already downloaded proteome: UP000010111\n",
      "Skipping already downloaded proteome: UP000078224\n",
      "Skipping already downloaded proteome: UP000001877\n",
      "Skipping already downloaded proteome: UP000003560\n",
      "Skipping already downloaded proteome: UP000288024\n",
      "Skipping already downloaded proteome: UP000325755\n",
      "Skipping already downloaded proteome: UP000076131\n",
      "Skipping already downloaded proteome: UP000004210\n",
      "Skipping already downloaded proteome: UP000016233\n",
      "Skipping already downloaded proteome: UP000006085\n",
      "Skipping already downloaded proteome: UP000502041\n",
      "Skipping already downloaded proteome: UP000051131\n",
      "Skipping already downloaded proteome: UP000051442\n",
      "Skipping already downloaded proteome: UP000007271\n",
      "Skipping already downloaded proteome: UP000051330\n",
      "Skipping already downloaded proteome: UP000215137\n",
      "Skipping already downloaded proteome: UP000316225\n",
      "Skipping already downloaded proteome: UP000252174\n",
      "Skipping already downloaded proteome: UP000000813\n",
      "Skipping already downloaded proteome: UP000255169\n",
      "Skipping already downloaded proteome: UP000243297\n",
      "Skipping already downloaded proteome: UP000267630\n",
      "Skipping already downloaded proteome: UP000215134\n",
      "Skipping already downloaded proteome: UP000573729\n",
      "Skipping already downloaded proteome: UP000248021\n",
      "Skipping already downloaded proteome: UP000295129\n",
      "Skipping already downloaded proteome: UP000246145\n",
      "Skipping already downloaded proteome: UP000281975\n",
      "Skipping already downloaded proteome: UP000249890\n",
      "Skipping already downloaded proteome: UP000007938\n",
      "Skipping already downloaded proteome: UP000008630\n",
      "Skipping already downloaded proteome: UP000008793\n",
      "Skipping already downloaded proteome: UP000093052\n",
      "Skipping already downloaded proteome: UP000006875\n",
      "Skipping already downloaded proteome: UP000000692\n",
      "Skipping already downloaded proteome: UP000008633\n",
      "Skipping already downloaded proteome: UP000006860\n",
      "Skipping already downloaded proteome: UP000007488\n",
      "Skipping already downloaded proteome: UP000008075\n",
      "Skipping already downloaded proteome: UP000032871\n",
      "Skipping already downloaded proteome: UP000197097\n",
      "Skipping already downloaded proteome: UP000031392\n",
      "Skipping already downloaded proteome: UP000235777\n",
      "Skipping already downloaded proteome: UP000197535\n",
      "Skipping already downloaded proteome: UP000001190\n",
      "Skipping already downloaded proteome: UP000188246\n",
      "Skipping already downloaded proteome: UP000297900\n",
      "Skipping already downloaded proteome: UP000004913\n",
      "Skipping already downloaded proteome: UP000237319\n",
      "Skipping already downloaded proteome: UP000019423\n",
      "Skipping already downloaded proteome: UP000049578\n",
      "Skipping already downloaded proteome: UP000003422\n",
      "Skipping already downloaded proteome: UP000289260\n",
      "Skipping already downloaded proteome: UP000264120\n",
      "Skipping already downloaded proteome: UP000187148\n",
      "Skipping already downloaded proteome: UP000236725\n",
      "Skipping already downloaded proteome: UP000250003\n",
      "Skipping already downloaded proteome: UP000289856\n",
      "Skipping already downloaded proteome: UP000008467\n",
      "Skipping already downloaded proteome: UP000467132\n",
      "Skipping already downloaded proteome: UP000248057\n",
      "Skipping already downloaded proteome: UP000241158\n",
      "Skipping already downloaded proteome: UP000285710\n",
      "Skipping already downloaded proteome: UP000297475\n",
      "Skipping already downloaded proteome: UP000001171\n",
      "Skipping already downloaded proteome: UP000183635\n",
      "Skipping already downloaded proteome: UP000028780\n",
      "Skipping already downloaded proteome: UP000092631\n",
      "Skipping already downloaded proteome: UP000002743\n",
      "Skipping already downloaded proteome: UP000295515\n",
      "Skipping already downloaded proteome: UP000294682\n",
      "Skipping already downloaded proteome: UP000295008\n",
      "Skipping already downloaded proteome: UP000295718\n",
      "Skipping already downloaded proteome: UP000196573\n",
      "Skipping already downloaded proteome: UP000053300\n",
      "Skipping already downloaded proteome: UP000030004\n",
      "Skipping already downloaded proteome: UP000660801\n",
      "Skipping already downloaded proteome: UP000255070\n",
      "Skipping already downloaded proteome: UP000244173\n",
      "Skipping already downloaded proteome: UP000267342\n",
      "Skipping already downloaded proteome: UP000001817\n",
      "Skipping already downloaded proteome: UP000002506\n",
      "Skipping already downloaded proteome: UP000000238\n",
      "Skipping already downloaded proteome: UP000006821\n",
      "Skipping already downloaded proteome: UP000001953\n",
      "Skipping already downloaded proteome: UP000008186\n",
      "Skipping already downloaded proteome: UP000001933\n",
      "Skipping already downloaded proteome: UP000019095\n",
      "Skipping already downloaded proteome: UP000069902\n",
      "Skipping already downloaded proteome: UP000051681\n",
      "Skipping already downloaded proteome: UP000002168\n",
      "Skipping already downloaded proteome: UP000236151\n",
      "Skipping already downloaded proteome: UP000028984\n",
      "Skipping already downloaded proteome: UP000028006\n",
      "Skipping already downloaded proteome: UP000184387\n",
      "Skipping already downloaded proteome: UP000030826\n",
      "Skipping already downloaded proteome: UP000831151\n",
      "Skipping already downloaded proteome: UP000076825\n",
      "Skipping already downloaded proteome: UP000018418\n",
      "Skipping already downloaded proteome: UP000051445\n",
      "Skipping already downloaded proteome: UP000549913\n",
      "Skipping already downloaded proteome: UP000576969\n",
      "Skipping already downloaded proteome: UP000241201\n",
      "Skipping already downloaded proteome: UP000228755\n",
      "Skipping already downloaded proteome: UP000216451\n",
      "Skipping already downloaded proteome: UP000216352\n",
      "Skipping already downloaded proteome: UP000268229\n",
      "Skipping already downloaded proteome: UP000238169\n",
      "Skipping already downloaded proteome: UP000254209\n",
      "Skipping already downloaded proteome: UP000051697\n",
      "Skipping already downloaded proteome: UP000186895\n",
      "Skipping already downloaded proteome: UP000234881\n",
      "Skipping already downloaded proteome: UP000318801\n",
      "Skipping already downloaded proteome: UP000476332\n",
      "Skipping already downloaded proteome: UP000509367\n",
      "Skipping already downloaded proteome: UP000235547\n",
      "Skipping already downloaded proteome: UP000265419\n",
      "Skipping already downloaded proteome: UP000273119\n",
      "Skipping already downloaded proteome: UP000280434\n",
      "Skipping already downloaded proteome: UP000295632\n",
      "Skipping already downloaded proteome: UP000295500\n",
      "Skipping already downloaded proteome: UP000279562\n",
      "Skipping already downloaded proteome: UP000007883\n",
      "Skipping already downloaded proteome: UP000295416\n",
      "Skipping already downloaded proteome: UP000295444\n",
      "Skipping already downloaded proteome: UP000252023\n",
      "Skipping already downloaded proteome: UP000254912\n",
      "Skipping already downloaded proteome: UP000464754\n",
      "Skipping already downloaded proteome: UP000241362\n",
      "Skipping already downloaded proteome: UP000224974\n",
      "Skipping already downloaded proteome: UP000037251\n",
      "Skipping already downloaded proteome: UP000029060\n",
      "Skipping already downloaded proteome: UP000016648\n",
      "Skipping already downloaded proteome: UP000191056\n",
      "Skipping already downloaded proteome: UP000191554\n",
      "Skipping already downloaded proteome: UP000253727\n",
      "Skipping already downloaded proteome: UP000011617\n",
      "Skipping already downloaded proteome: UP000215126\n",
      "Skipping already downloaded proteome: UP000494119\n",
      "Skipping already downloaded proteome: UP000494252\n",
      "Skipping already downloaded proteome: UP000223606\n",
      "Skipping already downloaded proteome: UP000078558\n",
      "Skipping already downloaded proteome: UP000219215\n",
      "Skipping already downloaded proteome: UP000037982\n",
      "Skipping already downloaded proteome: UP000270471\n",
      "Skipping already downloaded proteome: UP000032254\n",
      "Skipping already downloaded proteome: UP000186168\n",
      "Skipping already downloaded proteome: UP000186465\n",
      "Skipping already downloaded proteome: UP000252530\n",
      "Skipping already downloaded proteome: UP000533469\n",
      "Skipping already downloaded proteome: UP000527143\n",
      "Skipping already downloaded proteome: UP000219050\n",
      "Skipping already downloaded proteome: UP000027834\n",
      "Skipping already downloaded proteome: UP000062788\n",
      "Skipping already downloaded proteome: UP000017973\n",
      "Skipping already downloaded proteome: UP000319143\n",
      "Skipping already downloaded proteome: UP000318017\n",
      "Skipping already downloaded proteome: UP000320496\n",
      "Skipping already downloaded proteome: UP000011760\n",
      "Skipping already downloaded proteome: UP000000739\n",
      "Skipping already downloaded proteome: UP000051500\n",
      "Skipping already downloaded proteome: UP000051461\n",
      "Skipping already downloaded proteome: UP000221653\n",
      "Skipping already downloaded proteome: UP000246352\n",
      "Skipping already downloaded proteome: UP000252707\n",
      "Skipping already downloaded proteome: UP000239406\n",
      "Skipping already downloaded proteome: UP000072741\n",
      "Skipping already downloaded proteome: UP000247978\n",
      "Skipping already downloaded proteome: UP000253628\n",
      "Skipping already downloaded proteome: UP000295611\n",
      "Skipping already downloaded proteome: UP000253034\n",
      "Skipping already downloaded proteome: UP000050326\n",
      "Skipping already downloaded proteome: UP000004030\n",
      "Skipping already downloaded proteome: UP000317422\n",
      "Skipping already downloaded proteome: UP000320239\n",
      "Skipping already downloaded proteome: UP000035083\n",
      "Skipping already downloaded proteome: UP000001727\n",
      "Skipping already downloaded proteome: UP000003599\n",
      "Skipping already downloaded proteome: UP000199071\n",
      "Skipping already downloaded proteome: UP000198607\n",
      "Skipping already downloaded proteome: UP000248132\n",
      "Skipping already downloaded proteome: UP000267418\n",
      "Skipping already downloaded proteome: UP000199208\n",
      "Skipping already downloaded proteome: UP000189369\n",
      "Skipping already downloaded proteome: UP000583454\n",
      "Skipping already downloaded proteome: UP000575068\n",
      "Skipping already downloaded proteome: UP000562395\n",
      "Skipping already downloaded proteome: UP000571950\n",
      "Skipping already downloaded proteome: UP000582090\n",
      "Skipping already downloaded proteome: UP000548867\n",
      "Skipping already downloaded proteome: UP000574761\n",
      "Skipping already downloaded proteome: UP000541426\n",
      "Skipping already downloaded proteome: UP000019131\n",
      "Skipping already downloaded proteome: UP000528286\n",
      "Skipping already downloaded proteome: UP000252254\n",
      "Skipping already downloaded proteome: UP001156140\n",
      "Skipping already downloaded proteome: UP000198975\n",
      "Skipping already downloaded proteome: UP000001919\n",
      "Skipping already downloaded proteome: UP000255024\n",
      "Skipping already downloaded proteome: UP000219285\n",
      "Skipping already downloaded proteome: UP000214603\n",
      "Skipping already downloaded proteome: UP000198418\n",
      "Skipping already downloaded proteome: UP000252357\n",
      "Skipping already downloaded proteome: UP000000845\n",
      "Skipping already downloaded proteome: UP000018766\n",
      "Skipping already downloaded proteome: UP000032300\n",
      "Skipping already downloaded proteome: UP000037146\n",
      "Skipping already downloaded proteome: UP000033103\n",
      "Skipping already downloaded proteome: UP000013568\n",
      "Skipping already downloaded proteome: UP000000444\n",
      "Skipping already downloaded proteome: UP000001299\n",
      "Skipping already downloaded proteome: UP000199699\n",
      "Skipping already downloaded proteome: UP000199377\n",
      "Skipping already downloaded proteome: UP000199182\n",
      "Skipping already downloaded proteome: UP000250222\n",
      "Skipping already downloaded proteome: UP000032749\n",
      "Skipping already downloaded proteome: UP000063953\n",
      "Skipping already downloaded proteome: UP000061489\n",
      "Skipping already downloaded proteome: UP000233491\n",
      "Skipping already downloaded proteome: UP000199041\n",
      "Skipping already downloaded proteome: UP000199229\n",
      "Skipping already downloaded proteome: UP000095087\n",
      "Skipping already downloaded proteome: UP000094291\n",
      "Skipping already downloaded proteome: UP000001349\n",
      "Skipping already downloaded proteome: UP000001176\n",
      "Skipping already downloaded proteome: UP000008207\n",
      "Skipping already downloaded proteome: UP000002010\n",
      "Skipping already downloaded proteome: UP000009073\n",
      "Skipping already downloaded proteome: UP000010301\n",
      "Skipping already downloaded proteome: UP000244729\n",
      "Skipping already downloaded proteome: UP000498980\n",
      "Skipping already downloaded proteome: UP000069771\n",
      "Skipping already downloaded proteome: UP000325684\n",
      "Skipping already downloaded proteome: UP000319499\n",
      "Skipping already downloaded proteome: UP000297982\n",
      "Skipping already downloaded proteome: UP000477386\n",
      "Skipping already downloaded proteome: UP000053429\n",
      "Skipping already downloaded proteome: UP000054375\n",
      "Skipping already downloaded proteome: UP000050996\n",
      "Skipping already downloaded proteome: UP000318141\n",
      "Skipping already downloaded proteome: UP000051645\n",
      "Skipping already downloaded proteome: UP000051256\n",
      "Skipping already downloaded proteome: UP000051733\n",
      "Skipping already downloaded proteome: UP000198925\n",
      "Skipping already downloaded proteome: UP000245624\n",
      "Skipping already downloaded proteome: UP000245992\n",
      "Skipping already downloaded proteome: UP000035909\n",
      "Skipping already downloaded proteome: UP000503003\n",
      "Skipping already downloaded proteome: UP000328092\n",
      "Skipping already downloaded proteome: UP000003167\n",
      "Skipping already downloaded proteome: UP000064201\n",
      "Skipping already downloaded proteome: UP000010799\n",
      "Skipping already downloaded proteome: UP000010953\n",
      "Skipping already downloaded proteome: UP000001982\n",
      "Skipping already downloaded proteome: UP000006315\n",
      "Skipping already downloaded proteome: UP000245212\n",
      "Skipping already downloaded proteome: UP000245252\n",
      "Skipping already downloaded proteome: UP000295131\n",
      "Skipping already downloaded proteome: UP000281547\n",
      "Skipping already downloaded proteome: UP000260649\n",
      "Skipping already downloaded proteome: UP000244905\n",
      "Skipping already downloaded proteome: UP000309133\n",
      "Skipping already downloaded proteome: UP000298179\n",
      "Skipping already downloaded proteome: UP000587070\n",
      "Skipping already downloaded proteome: UP000249299\n",
      "Skipping already downloaded proteome: UP000190285\n",
      "Skipping already downloaded proteome: UP000029628\n",
      "Skipping already downloaded proteome: UP000006843\n",
      "Skipping already downloaded proteome: UP000254069\n",
      "Skipping already downloaded proteome: UP000076852\n",
      "Skipping already downloaded proteome: UP000325273\n",
      "Skipping already downloaded proteome: UP000530032\n",
      "Skipping already downloaded proteome: UP000077603\n",
      "Skipping already downloaded proteome: UP000316313\n",
      "Skipping already downloaded proteome: UP000315037\n",
      "Skipping already downloaded proteome: UP000287361\n",
      "Skipping already downloaded proteome: UP000056090\n",
      "Skipping already downloaded proteome: UP000183987\n",
      "Skipping already downloaded proteome: UP000058074\n",
      "Skipping already downloaded proteome: UP000077134\n",
      "Skipping already downloaded proteome: UP000178622\n",
      "Skipping already downloaded proteome: UP000011124\n",
      "Skipping already downloaded proteome: UP000008801\n",
      "Skipping already downloaded proteome: UP000198604\n",
      "Skipping already downloaded proteome: UP000680348\n",
      "Skipping already downloaded proteome: UP000244571\n",
      "Skipping already downloaded proteome: UP000005297\n",
      "Skipping already downloaded proteome: UP000028525\n",
      "Skipping already downloaded proteome: UP000051562\n",
      "Skipping already downloaded proteome: UP000199502\n",
      "Skipping already downloaded proteome: UP000054123\n",
      "Skipping already downloaded proteome: UP000589626\n",
      "Skipping already downloaded proteome: UP000590749\n",
      "Skipping already downloaded proteome: UP000549250\n",
      "Skipping already downloaded proteome: UP000536179\n",
      "Skipping already downloaded proteome: UP000196560\n",
      "Skipping already downloaded proteome: UP000051679\n",
      "Skipping already downloaded proteome: UP000028702\n",
      "Skipping already downloaded proteome: UP000030408\n",
      "Skipping already downloaded proteome: UP000006230\n",
      "Skipping already downloaded proteome: UP000297872\n",
      "Skipping already downloaded proteome: UP000321612\n",
      "Skipping already downloaded proteome: UP000192273\n",
      "Skipping already downloaded proteome: UP000215459\n",
      "Skipping already downloaded proteome: UP000256838\n",
      "Skipping already downloaded proteome: UP000007374\n",
      "Skipping already downloaded proteome: UP000192343\n",
      "Skipping already downloaded proteome: UP000276568\n",
      "Skipping already downloaded proteome: UP000282106\n",
      "Skipping already downloaded proteome: UP000004465\n",
      "Skipping already downloaded proteome: UP000198339\n",
      "Skipping already downloaded proteome: UP000193228\n",
      "Skipping already downloaded proteome: UP000005139\n",
      "Skipping already downloaded proteome: UP000192761\n",
      "Skipping already downloaded proteome: UP000199058\n",
      "Skipping already downloaded proteome: UP000029015\n",
      "Skipping already downloaded proteome: UP000244900\n",
      "Skipping already downloaded proteome: UP000494272\n",
      "Skipping already downloaded proteome: UP000183530\n",
      "Skipping already downloaded proteome: UP000175691\n",
      "Skipping already downloaded proteome: UP000295382\n",
      "Skipping already downloaded proteome: UP000295304\n",
      "Skipping already downloaded proteome: UP000294650\n",
      "Skipping already downloaded proteome: UP000051386\n",
      "Skipping already downloaded proteome: UP000051221\n",
      "Skipping already downloaded proteome: UP000008641\n",
      "Skipping already downloaded proteome: UP000000492\n",
      "Skipping already downloaded proteome: UP000009234\n",
      "Skipping already downloaded proteome: UP000010802\n",
      "Skipping already downloaded proteome: UP000295257\n",
      "Skipping already downloaded proteome: UP000322165\n",
      "Skipping already downloaded proteome: UP000192923\n",
      "Skipping already downloaded proteome: UP000027601\n",
      "Skipping already downloaded proteome: UP000258927\n",
      "Skipping already downloaded proteome: UP000198280\n",
      "Skipping already downloaded proteome: UP000002526\n",
      "Skipping already downloaded proteome: UP000028653\n",
      "Skipping already downloaded proteome: UP000281647\n",
      "Skipping already downloaded proteome: UP000288405\n",
      "Skipping already downloaded proteome: UP001057753\n",
      "Skipping already downloaded proteome: UP000191257\n",
      "Skipping already downloaded proteome: UP000279959\n",
      "Skipping already downloaded proteome: UP000006859\n",
      "Skipping already downloaded proteome: UP000015527\n",
      "Skipping already downloaded proteome: UP000019030\n",
      "Skipping already downloaded proteome: UP000324974\n",
      "Skipping already downloaded proteome: UP000470384\n",
      "Skipping already downloaded proteome: UP000317238\n",
      "Skipping already downloaded proteome: UP000323671\n",
      "Skipping already downloaded proteome: UP000464787\n",
      "Skipping already downloaded proteome: UP000466848\n",
      "Skipping already downloaded proteome: UP000463883\n",
      "Skipping already downloaded proteome: UP000315995\n",
      "Skipping already downloaded proteome: UP000322159\n",
      "Skipping already downloaded proteome: UP000274350\n",
      "Skipping already downloaded proteome: UP000427769\n",
      "Skipping already downloaded proteome: UP000464314\n",
      "Skipping already downloaded proteome: UP000320585\n",
      "Skipping already downloaded proteome: UP000243106\n",
      "Skipping already downloaded proteome: UP000287857\n",
      "Skipping already downloaded proteome: UP000294850\n",
      "Skipping already downloaded proteome: UP000224915\n",
      "Skipping already downloaded proteome: UP000033121\n",
      "Skipping already downloaded proteome: UP000032066\n",
      "Skipping already downloaded proteome: UP000505355\n",
      "Skipping already downloaded proteome: UP000010931\n",
      "Skipping already downloaded proteome: UP000317881\n",
      "Skipping already downloaded proteome: UP000002219\n",
      "Skipping already downloaded proteome: UP000282597\n",
      "Skipping already downloaded proteome: UP000005045\n",
      "Skipping already downloaded proteome: UP000003330\n",
      "Skipping already downloaded proteome: UP000009145\n",
      "Skipping already downloaded proteome: UP000182932\n",
      "Skipping already downloaded proteome: UP000199138\n",
      "Skipping already downloaded proteome: UP000027725\n",
      "Skipping already downloaded proteome: UP000198649\n",
      "Skipping already downloaded proteome: UP000184114\n",
      "Skipping already downloaded proteome: UP000025241\n",
      "Skipping already downloaded proteome: UP000005361\n",
      "Skipping already downloaded proteome: UP000009315\n",
      "Skipping already downloaded proteome: UP000198556\n",
      "Skipping already downloaded proteome: UP000029994\n",
      "Skipping already downloaded proteome: UP000196536\n",
      "Skipping already downloaded proteome: UP000028870\n",
      "Skipping already downloaded proteome: UP000016943\n",
      "Skipping already downloaded proteome: UP000018296\n",
      "Skipping already downloaded proteome: UP000054717\n",
      "Skipping already downloaded proteome: UP000002754\n",
      "Skipping already downloaded proteome: UP000317977\n",
      "Skipping already downloaded proteome: UP000587991\n",
      "Skipping already downloaded proteome: UP000494115\n",
      "Skipping already downloaded proteome: UP000266934\n",
      "Skipping already downloaded proteome: UP000237381\n",
      "Skipping already downloaded proteome: UP000183487\n",
      "Skipping already downloaded proteome: UP000233343\n",
      "Skipping already downloaded proteome: UP000185479\n",
      "Skipping already downloaded proteome: UP000001989\n",
      "Skipping already downloaded proteome: UP000027466\n",
      "Skipping already downloaded proteome: UP000256294\n",
      "Skipping already downloaded proteome: UP000001902\n",
      "Skipping already downloaded proteome: UP000182321\n",
      "Skipping already downloaded proteome: UP000004206\n",
      "Skipping already downloaded proteome: UP000189161\n",
      "Skipping already downloaded proteome: UP000095658\n",
      "Skipping already downloaded proteome: UP000193570\n",
      "Skipping already downloaded proteome: UP000094936\n",
      "Skipping already downloaded proteome: UP000294692\n",
      "Skipping already downloaded proteome: UP000015480\n",
      "Skipping already downloaded proteome: UP000006691\n",
      "Skipping already downloaded proteome: UP000011058\n",
      "Skipping already downloaded proteome: UP000005244\n",
      "Skipping already downloaded proteome: UP000198584\n",
      "Skipping already downloaded proteome: UP000175829\n",
      "Skipping already downloaded proteome: UP000438699\n",
      "Skipping already downloaded proteome: UP000319210\n",
      "Skipping already downloaded proteome: UP000030152\n",
      "Skipping already downloaded proteome: UP000199054\n",
      "Skipping already downloaded proteome: UP000199533\n",
      "Skipping already downloaded proteome: UP000198552\n",
      "Skipping already downloaded proteome: UP000008850\n",
      "Skipping already downloaded proteome: UP000051813\n",
      "Skipping already downloaded proteome: UP000006742\n",
      "Skipping already downloaded proteome: UP000222564\n",
      "Skipping already downloaded proteome: UP000295496\n",
      "Skipping already downloaded proteome: UP000028640\n",
      "Skipping already downloaded proteome: UP000291591\n",
      "Skipping already downloaded proteome: UP000220836\n",
      "Skipping already downloaded proteome: UP000216438\n",
      "Skipping already downloaded proteome: UP000056109\n",
      "Skipping already downloaded proteome: UP000192726\n",
      "Skipping already downloaded proteome: UP000007842\n",
      "Skipping already downloaded proteome: UP000032234\n",
      "Skipping already downloaded proteome: UP000195880\n",
      "Skipping already downloaded proteome: UP000603227\n",
      "Skipping already downloaded proteome: UP000558997\n",
      "Skipping already downloaded proteome: UP000502677\n",
      "Skipping already downloaded proteome: UP000029221\n",
      "Skipping already downloaded proteome: UP000029734\n",
      "Skipping already downloaded proteome: UP000005332\n",
      "Skipping already downloaded proteome: UP000011770\n",
      "Skipping already downloaded proteome: UP000007844\n",
      "Skipping already downloaded proteome: UP000077355\n",
      "Skipping already downloaded proteome: UP000005444\n",
      "Skipping already downloaded proteome: UP000000276\n",
      "Skipping already downloaded proteome: UP000093510\n",
      "Skipping already downloaded proteome: UP000078582\n",
      "Skipping already downloaded proteome: UP000092671\n",
      "Skipping already downloaded proteome: UP000008210\n",
      "Skipping already downloaded proteome: UP000193017\n",
      "Skipping already downloaded proteome: UP000027336\n",
      "Skipping already downloaded proteome: UP000544872\n",
      "Skipping already downloaded proteome: UP000229498\n",
      "Skipping already downloaded proteome: UP000188603\n",
      "Skipping already downloaded proteome: UP000188604\n",
      "Skipping already downloaded proteome: UP000093352\n",
      "Skipping already downloaded proteome: UP000019243\n",
      "Skipping already downloaded proteome: UP000315673\n",
      "Skipping already downloaded proteome: UP000094487\n",
      "Skipping already downloaded proteome: UP000254572\n",
      "Skipping already downloaded proteome: UP000014408\n",
      "Skipping already downloaded proteome: UP000010297\n",
      "Skipping already downloaded proteome: UP000006265\n",
      "Skipping already downloaded proteome: UP000244223\n",
      "Skipping already downloaded proteome: UP000228948\n",
      "Skipping already downloaded proteome: UP000044377\n",
      "Skipping already downloaded proteome: UP000007882\n",
      "Skipping already downloaded proteome: UP000053271\n",
      "Skipping already downloaded proteome: UP000187499\n",
      "Skipping already downloaded proteome: UP000052268\n",
      "Skipping already downloaded proteome: UP000052232\n",
      "Skipping already downloaded proteome: UP000017984\n",
      "Skipping already downloaded proteome: UP000029914\n",
      "Skipping already downloaded proteome: UP000030341\n",
      "Skipping already downloaded proteome: UP000266649\n",
      "Skipping already downloaded proteome: UP000216752\n",
      "Skipping already downloaded proteome: UP000245865\n",
      "Skipping already downloaded proteome: UP000190435\n",
      "Skipping already downloaded proteome: UP000018763\n",
      "Skipping already downloaded proteome: UP000542353\n",
      "Skipping already downloaded proteome: UP000535406\n",
      "Skipping already downloaded proteome: UP000568380\n",
      "Skipping already downloaded proteome: UP000253508\n",
      "Skipping already downloaded proteome: UP000018227\n",
      "Skipping already downloaded proteome: UP000004218\n",
      "Skipping already downloaded proteome: UP000005286\n",
      "Skipping already downloaded proteome: UP000000960\n",
      "Skipping already downloaded proteome: UP000000851\n",
      "Skipping already downloaded proteome: UP000002026\n",
      "Skipping already downloaded proteome: UP000032670\n",
      "Skipping already downloaded proteome: UP000197174\n",
      "Skipping already downloaded proteome: UP000434209\n",
      "Skipping already downloaded proteome: UP000043764\n",
      "Skipping already downloaded proteome: UP000283855\n",
      "Skipping already downloaded proteome: UP000310016\n",
      "Skipping already downloaded proteome: UP000306236\n",
      "Skipping already downloaded proteome: UP000289708\n",
      "Skipping already downloaded proteome: UP000029577\n",
      "Skipping already downloaded proteome: UP000186406\n",
      "Skipping already downloaded proteome: UP000184139\n",
      "Skipping already downloaded proteome: UP000030993\n",
      "Skipping already downloaded proteome: UP000214646\n",
      "Skipping already downloaded proteome: UP000255417\n",
      "Skipping already downloaded proteome: UP000093199\n",
      "Skipping already downloaded proteome: UP000219621\n",
      "Skipping already downloaded proteome: UP000183107\n",
      "Skipping already downloaded proteome: UP000297635\n",
      "Skipping already downloaded proteome: UP000312512\n",
      "Skipping already downloaded proteome: UP000012179\n",
      "Skipping already downloaded proteome: UP000064967\n",
      "Skipping already downloaded proteome: UP000199087\n",
      "Skipping already downloaded proteome: UP000241829\n",
      "Skipping already downloaded proteome: UP000239415\n",
      "Skipping already downloaded proteome: UP000583556\n",
      "Skipping already downloaded proteome: UP000198937\n",
      "Skipping already downloaded proteome: UP000010445\n",
      "Skipping already downloaded proteome: UP000185478\n",
      "Skipping already downloaded proteome: UP000185491\n",
      "Skipping already downloaded proteome: UP000185469\n",
      "Skipping already downloaded proteome: UP000192569\n",
      "Skipping already downloaded proteome: UP000028863\n",
      "Skipping already downloaded proteome: UP000036356\n",
      "Skipping already downloaded proteome: UP000009879\n",
      "Skipping already downloaded proteome: UP000283587\n",
      "Skipping already downloaded proteome: UP000031488\n",
      "Skipping already downloaded proteome: UP000009885\n",
      "Skipping already downloaded proteome: UP000189177\n",
      "Skipping already downloaded proteome: UP000183376\n",
      "Skipping already downloaded proteome: UP000266895\n",
      "Skipping already downloaded proteome: UP000269542\n",
      "Skipping already downloaded proteome: UP000198994\n",
      "Skipping already downloaded proteome: UP000004679\n",
      "Skipping already downloaded proteome: UP000002696\n",
      "Skipping already downloaded proteome: UP000009047\n",
      "Skipping already downloaded proteome: UP000002033\n",
      "Skipping already downloaded proteome: UP000234775\n",
      "Skipping already downloaded proteome: UP000006650\n",
      "Skipping already downloaded proteome: UP000051992\n",
      "Skipping already downloaded proteome: UP000218272\n",
      "Skipping already downloaded proteome: UP000215181\n",
      "Skipping already downloaded proteome: UP000012283\n",
      "Skipping already downloaded proteome: UP000032611\n",
      "Skipping already downloaded proteome: UP000006062\n",
      "Skipping already downloaded proteome: UP000005631\n",
      "Skipping already downloaded proteome: UP000192582\n",
      "Skipping already downloaded proteome: UP000005234\n",
      "Skipping already downloaded proteome: UP000516446\n",
      "Skipping already downloaded proteome: UP000240904\n",
      "Skipping already downloaded proteome: UP000198896\n",
      "Skipping already downloaded proteome: UP000011866\n",
      "Skipping already downloaded proteome: UP000029004\n",
      "Skipping already downloaded proteome: UP000028945\n",
      "Skipping already downloaded proteome: UP000029067\n",
      "Skipping already downloaded proteome: UP000240228\n",
      "Skipping already downloaded proteome: UP000550729\n",
      "Skipping already downloaded proteome: UP000608594\n",
      "Skipping already downloaded proteome: UP000037395\n",
      "Skipping already downloaded proteome: UP000199125\n",
      "Skipping already downloaded proteome: UP000199670\n",
      "Skipping already downloaded proteome: UP000198693\n",
      "Skipping already downloaded proteome: UP000199393\n",
      "Skipping already downloaded proteome: UP000015347\n",
      "Skipping already downloaded proteome: UP000196655\n",
      "Skipping already downloaded proteome: UP000595332\n",
      "Skipping already downloaded proteome: UP000253740\n",
      "Skipping already downloaded proteome: UP000322617\n",
      "Skipping already downloaded proteome: UP000191135\n",
      "Skipping already downloaded proteome: UP000198866\n",
      "Skipping already downloaded proteome: UP000469430\n",
      "Skipping already downloaded proteome: UP000438476\n",
      "Skipping already downloaded proteome: UP000274271\n",
      "Skipping already downloaded proteome: UP000261284\n",
      "Skipping already downloaded proteome: UP000014568\n",
      "Skipping already downloaded proteome: UP000317998\n",
      "Skipping already downloaded proteome: UP000032120\n",
      "Skipping already downloaded proteome: UP000062160\n",
      "Skipping already downloaded proteome: UP000029481\n",
      "Skipping already downloaded proteome: UP000014605\n",
      "Skipping already downloaded proteome: UP000033452\n",
      "Skipping already downloaded proteome: UP000199355\n",
      "Skipping already downloaded proteome: UP000195787\n",
      "Skipping already downloaded proteome: UP000054908\n",
      "Skipping already downloaded proteome: UP000051291\n",
      "Skipping already downloaded proteome: UP000051888\n",
      "Skipping already downloaded proteome: UP000198304\n",
      "Skipping already downloaded proteome: UP000198284\n",
      "Skipping already downloaded proteome: UP000517694\n",
      "Skipping already downloaded proteome: UP000030901\n",
      "Skipping already downloaded proteome: UP000031189\n",
      "Skipping already downloaded proteome: UP000001192\n",
      "Skipping already downloaded proteome: UP000002145\n",
      "Skipping already downloaded proteome: UP000005824\n",
      "Skipping already downloaded proteome: UP000003805\n",
      "Skipping already downloaded proteome: UP000005926\n",
      "Skipping already downloaded proteome: UP000004736\n",
      "Skipping already downloaded proteome: UP000268007\n",
      "Skipping already downloaded proteome: UP000318833\n",
      "Skipping already downloaded proteome: UP000324611\n",
      "Skipping already downloaded proteome: UP000245590\n",
      "Skipping already downloaded proteome: UP000273154\n",
      "Skipping already downloaded proteome: UP000554837\n",
      "Skipping already downloaded proteome: UP000276437\n",
      "Skipping already downloaded proteome: UP000000366\n",
      "Skipping already downloaded proteome: UP000219331\n",
      "Skipping already downloaded proteome: UP000229329\n",
      "Skipping already downloaded proteome: UP000230282\n",
      "Skipping already downloaded proteome: UP000050865\n",
      "Skipping already downloaded proteome: UP000023561\n",
      "Skipping already downloaded proteome: UP000641386\n",
      "Skipping already downloaded proteome: UP000008130\n",
      "Skipping already downloaded proteome: UP000007177\n",
      "Skipping already downloaded proteome: UP000184932\n",
      "Skipping already downloaded proteome: UP000063781\n",
      "Skipping already downloaded proteome: UP000069912\n",
      "Skipping already downloaded proteome: UP000515800\n",
      "Skipping already downloaded proteome: UP000656813\n",
      "Skipping already downloaded proteome: UP000067625\n",
      "Skipping already downloaded proteome: UP000184612\n",
      "Skipping already downloaded proteome: UP000295706\n",
      "Skipping already downloaded proteome: UP000289996\n",
      "Skipping already downloaded proteome: UP000054011\n",
      "Skipping already downloaded proteome: UP000469125\n",
      "Skipping already downloaded proteome: UP000469440\n",
      "Skipping already downloaded proteome: UP000317199\n",
      "Skipping already downloaded proteome: UP000294662\n",
      "Skipping already downloaded proteome: UP000187404\n",
      "Skipping already downloaded proteome: UP000282837\n",
      "Skipping already downloaded proteome: UP000237983\n",
      "Skipping already downloaded proteome: UP000093044\n",
      "Skipping already downloaded proteome: UP000176288\n",
      "Skipping already downloaded proteome: UP000182063\n",
      "Skipping already downloaded proteome: UP000051565\n",
      "Skipping already downloaded proteome: UP000194841\n",
      "Skipping already downloaded proteome: UP000238312\n",
      "Skipping already downloaded proteome: UP000192656\n",
      "Skipping already downloaded proteome: UP000294702\n",
      "Skipping already downloaded proteome: UP000292927\n",
      "Skipping already downloaded proteome: UP000245728\n",
      "Skipping already downloaded proteome: UP000001883\n",
      "Skipping already downloaded proteome: UP000266677\n",
      "Skipping already downloaded proteome: UP000006746\n",
      "Skipping already downloaded proteome: UP000016033\n",
      "Skipping already downloaded proteome: UP000028926\n",
      "Skipping already downloaded proteome: UP000276260\n",
      "Skipping already downloaded proteome: UP000308697\n",
      "Skipping already downloaded proteome: UP000009888\n",
      "Skipping already downloaded proteome: UP000019050\n",
      "Skipping already downloaded proteome: UP000006258\n",
      "Skipping already downloaded proteome: UP000004816\n",
      "Skipping already downloaded proteome: UP000051139\n",
      "Skipping already downloaded proteome: UP000001844\n",
      "Skipping already downloaded proteome: UP000001625\n",
      "Skipping already downloaded proteome: UP000005017\n",
      "Skipping already downloaded proteome: UP000186819\n",
      "Skipping already downloaded proteome: UP000026714\n",
      "Skipping already downloaded proteome: UP000268192\n",
      "Skipping already downloaded proteome: UP000502260\n",
      "Skipping already downloaded proteome: UP000555448\n",
      "Skipping already downloaded proteome: UP000305398\n",
      "Skipping already downloaded proteome: UP000281691\n",
      "Skipping already downloaded proteome: UP000023785\n",
      "Skipping already downloaded proteome: UP000017747\n",
      "Skipping already downloaded proteome: UP000317835\n",
      "Skipping already downloaded proteome: UP000481621\n",
      "Skipping already downloaded proteome: UP000037405\n",
      "Skipping already downloaded proteome: UP000238956\n",
      "Skipping already downloaded proteome: UP000238954\n",
      "Skipping already downloaded proteome: UP000186785\n",
      "Skipping already downloaded proteome: UP000005436\n",
      "Skipping already downloaded proteome: UP000006075\n",
      "Skipping already downloaded proteome: UP000401081\n",
      "Skipping already downloaded proteome: UP000054404\n",
      "Skipping already downloaded proteome: UP000051254\n",
      "Skipping already downloaded proteome: UP000033451\n",
      "Skipping already downloaded proteome: UP000188993\n",
      "Skipping already downloaded proteome: UP000199074\n",
      "Skipping already downloaded proteome: UP000199518\n",
      "Skipping already downloaded proteome: UP000199708\n",
      "Skipping already downloaded proteome: UP000516380\n",
      "Skipping already downloaded proteome: UP000307000\n",
      "Skipping already downloaded proteome: UP000005990\n",
      "Skipping already downloaded proteome: UP000005697\n",
      "Skipping already downloaded proteome: UP000004754\n",
      "Skipping already downloaded proteome: UP000253094\n",
      "Skipping already downloaded proteome: UP000005104\n",
      "Skipping already downloaded proteome: UP000266693\n",
      "Skipping already downloaded proteome: UP000191153\n",
      "Skipping already downloaded proteome: UP000184301\n",
      "Skipping already downloaded proteome: UP000184038\n",
      "Skipping already downloaded proteome: UP000000270\n",
      "Skipping already downloaded proteome: UP000000370\n",
      "Skipping already downloaded proteome: UP000284868\n",
      "Skipping already downloaded proteome: UP000001693\n",
      "Skipping already downloaded proteome: UP000036780\n",
      "Skipping already downloaded proteome: UP000005258\n",
      "Skipping already downloaded proteome: UP000009875\n",
      "Skipping already downloaded proteome: UP000193862\n",
      "Skipping already downloaded proteome: UP000190750\n",
      "Skipping already downloaded proteome: UP000324738\n",
      "Skipping already downloaded proteome: UP000585363\n",
      "Skipping already downloaded proteome: UP000243542\n",
      "Skipping already downloaded proteome: UP000032305\n",
      "Skipping already downloaded proteome: UP000034491\n",
      "Skipping already downloaded proteome: UP000325536\n",
      "Skipping already downloaded proteome: UP000006381\n",
      "Skipping already downloaded proteome: UP000327294\n",
      "Skipping already downloaded proteome: UP000253868\n",
      "Skipping already downloaded proteome: UP000530928\n",
      "Skipping already downloaded proteome: UP000579281\n",
      "Skipping already downloaded proteome: UP000532440\n",
      "Skipping already downloaded proteome: UP000557307\n",
      "Skipping already downloaded proteome: UP000581688\n",
      "Skipping already downloaded proteome: UP000539075\n",
      "Skipping already downloaded proteome: UP000548476\n",
      "Skipping already downloaded proteome: UP000321491\n",
      "Skipping already downloaded proteome: UP000539953\n",
      "Skipping already downloaded proteome: UP000543030\n",
      "Skipping already downloaded proteome: UP000571084\n",
      "Skipping already downloaded proteome: UP000562464\n",
      "Skipping already downloaded proteome: UP000003242\n",
      "Skipping already downloaded proteome: UP000198806\n",
      "Skipping already downloaded proteome: UP000193409\n",
      "Skipping already downloaded proteome: UP000612349\n",
      "Skipping already downloaded proteome: UP000093391\n",
      "Skipping already downloaded proteome: UP000547209\n",
      "Skipping already downloaded proteome: UP000564644\n",
      "Skipping already downloaded proteome: UP000545507\n",
      "Skipping already downloaded proteome: UP000077881\n",
      "Skipping already downloaded proteome: UP000325690\n",
      "Skipping already downloaded proteome: UP000321225\n",
      "Skipping already downloaded proteome: UP000517712\n",
      "Skipping already downloaded proteome: UP000070134\n",
      "Skipping already downloaded proteome: UP000632849\n",
      "Skipping already downloaded proteome: UP000320239\n",
      "Skipping already downloaded proteome: UP000092151\n",
      "Skipping already downloaded proteome: UP000219947\n",
      "Skipping already downloaded proteome: UP000001213\n",
      "Skipping already downloaded proteome: UP000008558\n",
      "Skipping already downloaded proteome: UP000002221\n",
      "Skipping already downloaded proteome: UP000469321\n",
      "Skipping already downloaded proteome: UP000062963\n",
      "Skipping already downloaded proteome: UP000008634\n",
      "Skipping already downloaded proteome: UP000001172\n",
      "Skipping already downloaded proteome: UP000005638\n",
      "Skipping already downloaded proteome: UP001155220\n",
      "Skipping already downloaded proteome: UP000682339\n",
      "Skipping already downloaded proteome: UP000000784\n",
      "Skipping already downloaded proteome: UP000000260\n",
      "Skipping already downloaded proteome: UP000013276\n",
      "Skipping already downloaded proteome: UP000663401\n",
      "Skipping already downloaded proteome: UP000053902\n",
      "Skipping already downloaded proteome: UP000001364\n",
      "Skipping already downloaded proteome: UP000011834\n",
      "Skipping already downloaded proteome: UP000036196\n",
      "Skipping already downloaded proteome: UP000295142\n",
      "Skipping already downloaded proteome: UP000051296\n",
      "Skipping already downloaded proteome: UP000050670\n",
      "Skipping already downloaded proteome: UP000078224\n",
      "Skipping already downloaded proteome: UP000576821\n",
      "Skipping already downloaded proteome: UP000033449\n",
      "Skipping already downloaded proteome: UP000002716\n",
      "Skipping already downloaded proteome: UP000275281\n",
      "Skipping already downloaded proteome: UP000239898\n",
      "Skipping already downloaded proteome: UP000007966\n",
      "Skipping already downloaded proteome: UP000063229\n",
      "Skipping already downloaded proteome: UP000051912\n",
      "Skipping already downloaded proteome: UP000267630\n",
      "Skipping already downloaded proteome: UP000291444\n",
      "Skipping already downloaded proteome: UP000244056\n",
      "Skipping already downloaded proteome: UP000076476\n",
      "Skipping already downloaded proteome: UP000199026\n",
      "Skipping already downloaded proteome: UP000001847\n",
      "Skipping already downloaded proteome: UP000523087\n",
      "Skipping already downloaded proteome: UP000296144\n",
      "Skipping already downloaded proteome: UP000003579\n",
      "Skipping already downloaded proteome: UP000245488\n",
      "Skipping already downloaded proteome: UP000231564\n",
      "Skipping already downloaded proteome: UP000005954\n",
      "Skipping already downloaded proteome: UP000232695\n",
      "Skipping already downloaded proteome: UP000050940\n",
      "Skipping already downloaded proteome: UP000199559\n",
      "Skipping already downloaded proteome: UP000633278\n",
      "Skipping already downloaded proteome: UP000014962\n",
      "Skipping already downloaded proteome: UP000001136\n",
      "Skipping already downloaded proteome: UP000263928\n",
      "Skipping already downloaded proteome: UP000019474\n",
      "Skipping already downloaded proteome: UP000464985\n",
      "Skipping already downloaded proteome: UP000269883\n",
      "Skipping already downloaded proteome: UP000028481\n",
      "Skipping already downloaded proteome: UP000008190\n",
      "Skipping already downloaded proteome: UP000219193\n",
      "Skipping already downloaded proteome: UP000027946\n",
      "Skipping already downloaded proteome: UP000007254\n",
      "Skipping already downloaded proteome: UP000000806\n",
      "Skipping already downloaded proteome: UP000036959\n",
      "Skipping already downloaded proteome: UP000000235\n",
      "Skipping already downloaded proteome: UP000664181\n",
      "Skipping already downloaded proteome: UP000190219\n",
      "Skipping already downloaded proteome: UP000215383\n",
      "Skipping already downloaded proteome: UP000001114\n",
      "Skipping already downloaded proteome: UP000633219\n",
      "Skipping already downloaded proteome: UP000002301\n",
      "Skipping already downloaded proteome: UP000050261\n",
      "Skipping already downloaded proteome: UP000027746\n",
      "Skipping already downloaded proteome: UP000255230\n",
      "Skipping already downloaded proteome: UP000005289\n",
      "Skipping already downloaded proteome: UP000266313\n",
      "Skipping already downloaded proteome: UP000235589\n",
      "Skipping already downloaded proteome: UP000094379\n",
      "Skipping already downloaded proteome: UP000032566\n",
      "Skipping already downloaded proteome: UP000005387\n",
      "Skipping already downloaded proteome: UP000295601\n",
      "Skipping already downloaded proteome: UP000001366\n",
      "Skipping already downloaded proteome: UP000182360\n",
      "Skipping already downloaded proteome: UP000235682\n",
      "Skipping already downloaded proteome: UP000037880\n",
      "Skipping already downloaded proteome: UP000036700\n",
      "Skipping already downloaded proteome: UP000000233\n",
      "Skipping already downloaded proteome: UP000033202\n",
      "Skipping already downloaded proteome: UP000003280\n",
      "Skipping already downloaded proteome: UP000315437\n",
      "Skipping already downloaded proteome: UP000216411\n",
      "Skipping already downloaded proteome: UP000278006\n",
      "Proteome for UP000192840 downloaded successfully.\n"
     ]
    },
    {
     "name": "stderr",
     "output_type": "stream",
     "text": [
      "Downloading Proteomes:  78%|███████▊  | 1537/1976 [00:02<00:00, 629.35it/s]"
     ]
    },
    {
     "name": "stdout",
     "output_type": "stream",
     "text": [
      "Skipping already downloaded proteome: UP000198817\n",
      "Proteome for UP000002949 downloaded successfully.\n",
      "Proteome for UP000012589 downloaded successfully.\n",
      "Proteome for UP000275368 downloaded successfully.\n",
      "Skipping already downloaded proteome: UP000005361\n",
      "Proteome for UP000000376 downloaded successfully.\n",
      "Skipping already downloaded proteome: UP000001436\n",
      "Proteome for UP000198407 downloaded successfully.\n",
      "Proteome for UP000215196 downloaded successfully.\n",
      "Proteome for UP000198867 downloaded successfully.\n",
      "Proteome for UP000185628 downloaded successfully.\n",
      "Proteome for UP000199328 downloaded successfully.\n",
      "Proteome for UP000196164 downloaded successfully.\n"
     ]
    },
    {
     "name": "stderr",
     "output_type": "stream",
     "text": [
      "Downloading Proteomes:  78%|███████▊  | 1537/1976 [00:20<00:00, 629.35it/s]"
     ]
    },
    {
     "name": "stdout",
     "output_type": "stream",
     "text": [
      "Proteome for UP000016618 downloaded successfully.\n"
     ]
    },
    {
     "name": "stderr",
     "output_type": "stream",
     "text": [
      "Downloading Proteomes:  78%|███████▊  | 1551/1976 [00:21<00:07, 53.77it/s] "
     ]
    },
    {
     "name": "stdout",
     "output_type": "stream",
     "text": [
      "Proteome for UP000000808 downloaded successfully.\n"
     ]
    },
    {
     "name": "stderr",
     "output_type": "stream",
     "text": [
      "Downloading Proteomes:  79%|███████▊  | 1552/1976 [00:21<00:08, 50.56it/s]"
     ]
    },
    {
     "name": "stdout",
     "output_type": "stream",
     "text": [
      "Proteome for UP000250192 downloaded successfully.\n",
      "Proteome for UP000284407 downloaded successfully.\n",
      "Proteome for UP000019365 downloaded successfully.\n",
      "Proteome for UP000633269 downloaded successfully.\n",
      "Proteome for UP000011002 downloaded successfully.\n",
      "Proteome for UP000017415 downloaded successfully.\n",
      "Proteome for UP000189975 downloaded successfully.\n",
      "Proteome for UP000321328 downloaded successfully.\n",
      "Proteome for UP000199394 downloaded successfully.\n",
      "Proteome for UP000295711 downloaded successfully.\n",
      "Proteome for UP000295832 downloaded successfully.\n"
     ]
    },
    {
     "name": "stderr",
     "output_type": "stream",
     "text": [
      "Downloading Proteomes:  79%|███████▊  | 1552/1976 [00:40<00:08, 50.56it/s]"
     ]
    },
    {
     "name": "stdout",
     "output_type": "stream",
     "text": [
      "Proteome for UP000263382 downloaded successfully.\n"
     ]
    },
    {
     "name": "stderr",
     "output_type": "stream",
     "text": [
      "Downloading Proteomes:  79%|███████▉  | 1564/1976 [00:41<00:22, 18.21it/s]"
     ]
    },
    {
     "name": "stdout",
     "output_type": "stream",
     "text": [
      "Proteome for UP000535937 downloaded successfully.\n"
     ]
    },
    {
     "name": "stderr",
     "output_type": "stream",
     "text": [
      "Downloading Proteomes:  79%|███████▉  | 1565/1976 [00:43<00:24, 16.76it/s]"
     ]
    },
    {
     "name": "stdout",
     "output_type": "stream",
     "text": [
      "Proteome for UP000658613 downloaded successfully.\n",
      "Proteome for UP000680038 downloaded successfully.\n",
      "Proteome for UP000199551 downloaded successfully.\n",
      "Proteome for UP000444316 downloaded successfully.\n",
      "Proteome for UP000011783 downloaded successfully.\n",
      "Proteome for UP000186351 downloaded successfully.\n",
      "Proteome for UP000297339 downloaded successfully.\n",
      "Proteome for UP000050821 downloaded successfully.\n",
      "Proteome for UP000001060 downloaded successfully.\n",
      "Proteome for UP000013785 downloaded successfully.\n"
     ]
    },
    {
     "name": "stderr",
     "output_type": "stream",
     "text": [
      "Downloading Proteomes:  79%|███████▉  | 1565/1976 [01:00<00:24, 16.76it/s]"
     ]
    },
    {
     "name": "stdout",
     "output_type": "stream",
     "text": [
      "Proteome for UP000196485 downloaded successfully.\n"
     ]
    },
    {
     "name": "stderr",
     "output_type": "stream",
     "text": [
      "Downloading Proteomes:  80%|███████▉  | 1576/1976 [01:00<00:47,  8.34it/s]"
     ]
    },
    {
     "name": "stdout",
     "output_type": "stream",
     "text": [
      "Proteome for UP000019760 downloaded successfully.\n"
     ]
    },
    {
     "name": "stderr",
     "output_type": "stream",
     "text": [
      "Downloading Proteomes:  80%|███████▉  | 1577/1976 [01:02<00:50,  7.85it/s]"
     ]
    },
    {
     "name": "stdout",
     "output_type": "stream",
     "text": [
      "Proteome for UP000198757 downloaded successfully.\n",
      "Proteome for UP000190888 downloaded successfully.\n",
      "Proteome for UP000008895 downloaded successfully.\n",
      "Proteome for UP000198814 downloaded successfully.\n",
      "Proteome for UP000000686 downloaded successfully.\n",
      "Proteome for UP000001418 downloaded successfully.\n",
      "Skipping already downloaded proteome: UP000031843\n",
      "Proteome for UP000006011 downloaded successfully.\n",
      "Proteome for UP000182005 downloaded successfully.\n"
     ]
    },
    {
     "name": "stderr",
     "output_type": "stream",
     "text": [
      "Downloading Proteomes:  80%|████████  | 1586/1976 [01:14<01:18,  4.94it/s]"
     ]
    },
    {
     "name": "stdout",
     "output_type": "stream",
     "text": [
      "Proteome for UP000001596 downloaded successfully.\n"
     ]
    },
    {
     "name": "stderr",
     "output_type": "stream",
     "text": [
      "Downloading Proteomes:  80%|████████  | 1587/1976 [01:16<01:26,  4.51it/s]"
     ]
    },
    {
     "name": "stdout",
     "output_type": "stream",
     "text": [
      "Proteome for UP000676194 downloaded successfully.\n",
      "Proteome for UP000186469 downloaded successfully.\n",
      "Proteome for UP000235346 downloaded successfully.\n",
      "Proteome for UP000220034 downloaded successfully.\n",
      "Proteome for UP000198654 downloaded successfully.\n",
      "Proteome for UP000270021 downloaded successfully.\n"
     ]
    },
    {
     "name": "stderr",
     "output_type": "stream",
     "text": [
      "Downloading Proteomes:  81%|████████  | 1593/1976 [01:26<02:04,  3.07it/s]"
     ]
    },
    {
     "name": "stdout",
     "output_type": "stream",
     "text": [
      "Proteome for UP000002255 downloaded successfully.\n",
      "Proteome for UP000017429 downloaded successfully.\n",
      "Proteome for UP000001635 downloaded successfully.\n",
      "Proteome for UP000215452 downloaded successfully.\n"
     ]
    },
    {
     "name": "stderr",
     "output_type": "stream",
     "text": [
      "Downloading Proteomes:  81%|████████  | 1597/1976 [01:32<02:32,  2.49it/s]"
     ]
    },
    {
     "name": "stdout",
     "output_type": "stream",
     "text": [
      "Proteome for UP000003639 downloaded successfully.\n",
      "Proteome for UP000214937 downloaded successfully.\n",
      "Proteome for UP000199584 downloaded successfully.\n"
     ]
    },
    {
     "name": "stderr",
     "output_type": "stream",
     "text": [
      "Downloading Proteomes:  81%|████████  | 1600/1976 [01:37<03:06,  2.01it/s]"
     ]
    },
    {
     "name": "stdout",
     "output_type": "stream",
     "text": [
      "Skipping already downloaded proteome: UP000009010\n",
      "Proteome for UP000552644 downloaded successfully.\n"
     ]
    },
    {
     "name": "stderr",
     "output_type": "stream",
     "text": [
      "Downloading Proteomes:  81%|████████  | 1602/1976 [01:40<03:27,  1.80it/s]"
     ]
    },
    {
     "name": "stdout",
     "output_type": "stream",
     "text": [
      "Proteome for UP000002718 downloaded successfully.\n",
      "Proteome for UP000179615 downloaded successfully.\n"
     ]
    },
    {
     "name": "stderr",
     "output_type": "stream",
     "text": [
      "Downloading Proteomes:  81%|████████  | 1604/1976 [01:43<03:55,  1.58it/s]"
     ]
    },
    {
     "name": "stdout",
     "output_type": "stream",
     "text": [
      "Proteome for UP000018688 downloaded successfully.\n"
     ]
    },
    {
     "name": "stderr",
     "output_type": "stream",
     "text": [
      "Downloading Proteomes:  81%|████████  | 1605/1976 [01:44<04:07,  1.50it/s]"
     ]
    },
    {
     "name": "stdout",
     "output_type": "stream",
     "text": [
      "Proteome for UP000016652 downloaded successfully.\n"
     ]
    },
    {
     "name": "stderr",
     "output_type": "stream",
     "text": [
      "Downloading Proteomes:  81%|████████▏ | 1606/1976 [01:45<04:18,  1.43it/s]"
     ]
    },
    {
     "name": "stdout",
     "output_type": "stream",
     "text": [
      "Skipping already downloaded proteome: UP000003157\n",
      "Proteome for UP000198772 downloaded successfully.\n"
     ]
    },
    {
     "name": "stderr",
     "output_type": "stream",
     "text": [
      "Downloading Proteomes:  81%|████████▏ | 1608/1976 [01:47<04:16,  1.44it/s]"
     ]
    },
    {
     "name": "stdout",
     "output_type": "stream",
     "text": [
      "Proteome for UP000091979 downloaded successfully.\n"
     ]
    },
    {
     "name": "stderr",
     "output_type": "stream",
     "text": [
      "Downloading Proteomes:  81%|████████▏ | 1609/1976 [01:48<04:41,  1.31it/s]"
     ]
    },
    {
     "name": "stdout",
     "output_type": "stream",
     "text": [
      "Skipping already downloaded proteome: UP000242469\n",
      "Proteome for UP000320653 downloaded successfully.\n"
     ]
    },
    {
     "name": "stderr",
     "output_type": "stream",
     "text": [
      "Downloading Proteomes:  82%|████████▏ | 1611/1976 [01:51<05:22,  1.13it/s]"
     ]
    },
    {
     "name": "stdout",
     "output_type": "stream",
     "text": [
      "Proteome for UP000245137 downloaded successfully.\n"
     ]
    },
    {
     "name": "stderr",
     "output_type": "stream",
     "text": [
      "Downloading Proteomes:  82%|████████▏ | 1612/1976 [01:52<06:01,  1.01it/s]"
     ]
    },
    {
     "name": "stdout",
     "output_type": "stream",
     "text": [
      "Proteome for UP000033203 downloaded successfully.\n"
     ]
    },
    {
     "name": "stderr",
     "output_type": "stream",
     "text": [
      "Downloading Proteomes:  82%|████████▏ | 1613/1976 [01:54<06:37,  1.09s/it]"
     ]
    },
    {
     "name": "stdout",
     "output_type": "stream",
     "text": [
      "Proteome for UP000037233 downloaded successfully.\n"
     ]
    },
    {
     "name": "stderr",
     "output_type": "stream",
     "text": [
      "Downloading Proteomes:  82%|████████▏ | 1614/1976 [01:55<07:14,  1.20s/it]"
     ]
    },
    {
     "name": "stdout",
     "output_type": "stream",
     "text": [
      "Skipping already downloaded proteome: UP000263928\n",
      "Proteome for UP000190423 downloaded successfully.\n"
     ]
    },
    {
     "name": "stderr",
     "output_type": "stream",
     "text": [
      "Downloading Proteomes:  82%|████████▏ | 1616/1976 [01:57<06:03,  1.01s/it]"
     ]
    },
    {
     "name": "stdout",
     "output_type": "stream",
     "text": [
      "Proteome for UP000273145 downloaded successfully.\n"
     ]
    },
    {
     "name": "stderr",
     "output_type": "stream",
     "text": [
      "Downloading Proteomes:  82%|████████▏ | 1617/1976 [01:58<06:54,  1.15s/it]"
     ]
    },
    {
     "name": "stdout",
     "output_type": "stream",
     "text": [
      "Proteome for UP000064137 downloaded successfully.\n"
     ]
    },
    {
     "name": "stderr",
     "output_type": "stream",
     "text": [
      "Downloading Proteomes:  82%|████████▏ | 1618/1976 [02:00<07:59,  1.34s/it]"
     ]
    },
    {
     "name": "stdout",
     "output_type": "stream",
     "text": [
      "Proteome for UP000275356 downloaded successfully.\n"
     ]
    },
    {
     "name": "stderr",
     "output_type": "stream",
     "text": [
      "Downloading Proteomes:  82%|████████▏ | 1619/1976 [02:02<08:17,  1.39s/it]"
     ]
    },
    {
     "name": "stdout",
     "output_type": "stream",
     "text": [
      "Proteome for UP000070810 downloaded successfully.\n"
     ]
    },
    {
     "name": "stderr",
     "output_type": "stream",
     "text": [
      "Downloading Proteomes:  82%|████████▏ | 1620/1976 [02:03<08:20,  1.40s/it]"
     ]
    },
    {
     "name": "stdout",
     "output_type": "stream",
     "text": [
      "Proteome for UP000184245 downloaded successfully.\n"
     ]
    },
    {
     "name": "stderr",
     "output_type": "stream",
     "text": [
      "Downloading Proteomes:  82%|████████▏ | 1621/1976 [02:05<08:59,  1.52s/it]"
     ]
    },
    {
     "name": "stdout",
     "output_type": "stream",
     "text": [
      "Proteome for UP000195399 downloaded successfully.\n"
     ]
    },
    {
     "name": "stderr",
     "output_type": "stream",
     "text": [
      "Downloading Proteomes:  82%|████████▏ | 1622/1976 [02:07<08:32,  1.45s/it]"
     ]
    },
    {
     "name": "stdout",
     "output_type": "stream",
     "text": [
      "Proteome for UP000265869 downloaded successfully.\n"
     ]
    },
    {
     "name": "stderr",
     "output_type": "stream",
     "text": [
      "Downloading Proteomes:  82%|████████▏ | 1623/1976 [02:08<08:36,  1.46s/it]"
     ]
    },
    {
     "name": "stdout",
     "output_type": "stream",
     "text": [
      "Proteome for UP000062260 downloaded successfully.\n"
     ]
    },
    {
     "name": "stderr",
     "output_type": "stream",
     "text": [
      "Downloading Proteomes:  82%|████████▏ | 1624/1976 [02:09<07:54,  1.35s/it]"
     ]
    },
    {
     "name": "stdout",
     "output_type": "stream",
     "text": [
      "Proteome for UP000004923 downloaded successfully.\n"
     ]
    },
    {
     "name": "stderr",
     "output_type": "stream",
     "text": [
      "Downloading Proteomes:  82%|████████▏ | 1625/1976 [02:11<08:35,  1.47s/it]"
     ]
    },
    {
     "name": "stdout",
     "output_type": "stream",
     "text": [
      "Proteome for UP000010862 downloaded successfully.\n"
     ]
    },
    {
     "name": "stderr",
     "output_type": "stream",
     "text": [
      "Downloading Proteomes:  82%|████████▏ | 1626/1976 [02:13<09:07,  1.56s/it]"
     ]
    },
    {
     "name": "stdout",
     "output_type": "stream",
     "text": [
      "Proteome for UP000006055 downloaded successfully.\n"
     ]
    },
    {
     "name": "stderr",
     "output_type": "stream",
     "text": [
      "Downloading Proteomes:  82%|████████▏ | 1627/1976 [02:15<10:24,  1.79s/it]"
     ]
    },
    {
     "name": "stdout",
     "output_type": "stream",
     "text": [
      "Proteome for UP000051315 downloaded successfully.\n"
     ]
    },
    {
     "name": "stderr",
     "output_type": "stream",
     "text": [
      "Downloading Proteomes:  82%|████████▏ | 1628/1976 [02:16<09:18,  1.60s/it]"
     ]
    },
    {
     "name": "stdout",
     "output_type": "stream",
     "text": [
      "Proteome for UP000256585 downloaded successfully.\n"
     ]
    },
    {
     "name": "stderr",
     "output_type": "stream",
     "text": [
      "Downloading Proteomes:  82%|████████▏ | 1629/1976 [02:17<08:01,  1.39s/it]"
     ]
    },
    {
     "name": "stdout",
     "output_type": "stream",
     "text": [
      "Proteome for UP000270315 downloaded successfully.\n"
     ]
    },
    {
     "name": "stderr",
     "output_type": "stream",
     "text": [
      "Downloading Proteomes:  82%|████████▏ | 1630/1976 [02:18<07:57,  1.38s/it]"
     ]
    },
    {
     "name": "stdout",
     "output_type": "stream",
     "text": [
      "Proteome for UP000272238 downloaded successfully.\n"
     ]
    },
    {
     "name": "stderr",
     "output_type": "stream",
     "text": [
      "Downloading Proteomes:  83%|████████▎ | 1631/1976 [02:20<08:16,  1.44s/it]"
     ]
    },
    {
     "name": "stdout",
     "output_type": "stream",
     "text": [
      "Proteome for UP000032356 downloaded successfully.\n"
     ]
    },
    {
     "name": "stderr",
     "output_type": "stream",
     "text": [
      "Downloading Proteomes:  83%|████████▎ | 1632/1976 [02:22<08:34,  1.50s/it]"
     ]
    },
    {
     "name": "stdout",
     "output_type": "stream",
     "text": [
      "Proteome for UP000021369 downloaded successfully.\n"
     ]
    },
    {
     "name": "stderr",
     "output_type": "stream",
     "text": [
      "Downloading Proteomes:  83%|████████▎ | 1633/1976 [02:23<08:39,  1.52s/it]"
     ]
    },
    {
     "name": "stdout",
     "output_type": "stream",
     "text": [
      "Proteome for UP000019150 downloaded successfully.\n"
     ]
    },
    {
     "name": "stderr",
     "output_type": "stream",
     "text": [
      "Downloading Proteomes:  83%|████████▎ | 1634/1976 [02:26<10:37,  1.86s/it]"
     ]
    },
    {
     "name": "stdout",
     "output_type": "stream",
     "text": [
      "Proteome for UP000199158 downloaded successfully.\n"
     ]
    },
    {
     "name": "stderr",
     "output_type": "stream",
     "text": [
      "Downloading Proteomes:  83%|████████▎ | 1635/1976 [02:27<09:53,  1.74s/it]"
     ]
    },
    {
     "name": "stdout",
     "output_type": "stream",
     "text": [
      "Proteome for UP000006316 downloaded successfully.\n"
     ]
    },
    {
     "name": "stderr",
     "output_type": "stream",
     "text": [
      "Downloading Proteomes:  83%|████████▎ | 1636/1976 [02:29<10:30,  1.86s/it]"
     ]
    },
    {
     "name": "stdout",
     "output_type": "stream",
     "text": [
      "Skipping already downloaded proteome: UP000028653\n",
      "Proteome for UP000001432 downloaded successfully.\n"
     ]
    },
    {
     "name": "stderr",
     "output_type": "stream",
     "text": [
      "Downloading Proteomes:  83%|████████▎ | 1638/1976 [02:31<07:11,  1.28s/it]"
     ]
    },
    {
     "name": "stdout",
     "output_type": "stream",
     "text": [
      "Proteome for UP000199228 downloaded successfully.\n"
     ]
    },
    {
     "name": "stderr",
     "output_type": "stream",
     "text": [
      "Downloading Proteomes:  83%|████████▎ | 1639/1976 [02:32<07:11,  1.28s/it]"
     ]
    },
    {
     "name": "stdout",
     "output_type": "stream",
     "text": [
      "Proteome for UP000199034 downloaded successfully.\n"
     ]
    },
    {
     "name": "stderr",
     "output_type": "stream",
     "text": [
      "Downloading Proteomes:  83%|████████▎ | 1640/1976 [02:34<07:57,  1.42s/it]"
     ]
    },
    {
     "name": "stdout",
     "output_type": "stream",
     "text": [
      "Proteome for UP000004069 downloaded successfully.\n"
     ]
    },
    {
     "name": "stderr",
     "output_type": "stream",
     "text": [
      "Downloading Proteomes:  83%|████████▎ | 1641/1976 [02:35<07:37,  1.37s/it]"
     ]
    },
    {
     "name": "stdout",
     "output_type": "stream",
     "text": [
      "Proteome for UP000191094 downloaded successfully.\n"
     ]
    },
    {
     "name": "stderr",
     "output_type": "stream",
     "text": [
      "Downloading Proteomes:  83%|████████▎ | 1642/1976 [02:36<07:23,  1.33s/it]"
     ]
    },
    {
     "name": "stdout",
     "output_type": "stream",
     "text": [
      "Proteome for UP000235836 downloaded successfully.\n"
     ]
    },
    {
     "name": "stderr",
     "output_type": "stream",
     "text": [
      "Downloading Proteomes:  83%|████████▎ | 1643/1976 [02:37<07:08,  1.29s/it]"
     ]
    },
    {
     "name": "stdout",
     "output_type": "stream",
     "text": [
      "Proteome for UP000248916 downloaded successfully.\n"
     ]
    },
    {
     "name": "stderr",
     "output_type": "stream",
     "text": [
      "Downloading Proteomes:  83%|████████▎ | 1644/1976 [02:40<08:40,  1.57s/it]"
     ]
    },
    {
     "name": "stdout",
     "output_type": "stream",
     "text": [
      "Proteome for UP000269692 downloaded successfully.\n"
     ]
    },
    {
     "name": "stderr",
     "output_type": "stream",
     "text": [
      "Downloading Proteomes:  83%|████████▎ | 1645/1976 [02:42<09:12,  1.67s/it]"
     ]
    },
    {
     "name": "stdout",
     "output_type": "stream",
     "text": [
      "Proteome for UP000295122 downloaded successfully.\n"
     ]
    },
    {
     "name": "stderr",
     "output_type": "stream",
     "text": [
      "Downloading Proteomes:  83%|████████▎ | 1646/1976 [02:44<09:54,  1.80s/it]"
     ]
    },
    {
     "name": "stdout",
     "output_type": "stream",
     "text": [
      "Proteome for UP000198620 downloaded successfully.\n"
     ]
    },
    {
     "name": "stderr",
     "output_type": "stream",
     "text": [
      "Downloading Proteomes:  83%|████████▎ | 1647/1976 [02:45<09:29,  1.73s/it]"
     ]
    },
    {
     "name": "stdout",
     "output_type": "stream",
     "text": [
      "Proteome for UP000481339 downloaded successfully.\n"
     ]
    },
    {
     "name": "stderr",
     "output_type": "stream",
     "text": [
      "Downloading Proteomes:  83%|████████▎ | 1648/1976 [02:46<08:34,  1.57s/it]"
     ]
    },
    {
     "name": "stdout",
     "output_type": "stream",
     "text": [
      "Proteome for UP000248646 downloaded successfully.\n"
     ]
    },
    {
     "name": "stderr",
     "output_type": "stream",
     "text": [
      "Downloading Proteomes:  83%|████████▎ | 1649/1976 [02:48<08:33,  1.57s/it]"
     ]
    },
    {
     "name": "stdout",
     "output_type": "stream",
     "text": [
      "Skipping already downloaded proteome: UP000002026\n",
      "Skipping already downloaded proteome: UP000000841\n",
      "Proteome for UP000555103 downloaded successfully.\n"
     ]
    },
    {
     "name": "stderr",
     "output_type": "stream",
     "text": [
      "Downloading Proteomes:  84%|████████▎ | 1652/1976 [02:50<05:44,  1.06s/it]"
     ]
    },
    {
     "name": "stdout",
     "output_type": "stream",
     "text": [
      "Proteome for UP000295689 downloaded successfully.\n"
     ]
    },
    {
     "name": "stderr",
     "output_type": "stream",
     "text": [
      "Downloading Proteomes:  84%|████████▎ | 1653/1976 [02:52<07:06,  1.32s/it]"
     ]
    },
    {
     "name": "stdout",
     "output_type": "stream",
     "text": [
      "Proteome for UP000007032 downloaded successfully.\n"
     ]
    },
    {
     "name": "stderr",
     "output_type": "stream",
     "text": [
      "Downloading Proteomes:  84%|████████▎ | 1654/1976 [02:54<07:18,  1.36s/it]"
     ]
    },
    {
     "name": "stdout",
     "output_type": "stream",
     "text": [
      "Proteome for UP000283681 downloaded successfully.\n"
     ]
    },
    {
     "name": "stderr",
     "output_type": "stream",
     "text": [
      "Downloading Proteomes:  84%|████████▍ | 1655/1976 [02:55<07:28,  1.40s/it]"
     ]
    },
    {
     "name": "stdout",
     "output_type": "stream",
     "text": [
      "Skipping already downloaded proteome: UP000027665\n",
      "Proteome for UP000028730 downloaded successfully.\n"
     ]
    },
    {
     "name": "stderr",
     "output_type": "stream",
     "text": [
      "Downloading Proteomes:  84%|████████▍ | 1657/1976 [02:57<05:58,  1.12s/it]"
     ]
    },
    {
     "name": "stdout",
     "output_type": "stream",
     "text": [
      "Proteome for UP000008291 downloaded successfully.\n"
     ]
    },
    {
     "name": "stderr",
     "output_type": "stream",
     "text": [
      "Downloading Proteomes:  84%|████████▍ | 1658/1976 [02:58<06:30,  1.23s/it]"
     ]
    },
    {
     "name": "stdout",
     "output_type": "stream",
     "text": [
      "Proteome for UP000093514 downloaded successfully.\n"
     ]
    },
    {
     "name": "stderr",
     "output_type": "stream",
     "text": [
      "Downloading Proteomes:  84%|████████▍ | 1659/1976 [03:00<07:30,  1.42s/it]"
     ]
    },
    {
     "name": "stdout",
     "output_type": "stream",
     "text": [
      "Proteome for UP000033067 downloaded successfully.\n"
     ]
    },
    {
     "name": "stderr",
     "output_type": "stream",
     "text": [
      "Downloading Proteomes:  84%|████████▍ | 1660/1976 [03:02<08:02,  1.53s/it]"
     ]
    },
    {
     "name": "stdout",
     "output_type": "stream",
     "text": [
      "Proteome for UP000005723 downloaded successfully.\n"
     ]
    },
    {
     "name": "stderr",
     "output_type": "stream",
     "text": [
      "Downloading Proteomes:  84%|████████▍ | 1661/1976 [03:04<09:03,  1.72s/it]"
     ]
    },
    {
     "name": "stdout",
     "output_type": "stream",
     "text": [
      "Proteome for UP000052979 downloaded successfully.\n"
     ]
    },
    {
     "name": "stderr",
     "output_type": "stream",
     "text": [
      "Downloading Proteomes:  84%|████████▍ | 1662/1976 [03:06<08:40,  1.66s/it]"
     ]
    },
    {
     "name": "stdout",
     "output_type": "stream",
     "text": [
      "Skipping already downloaded proteome: UP000215059\n",
      "Skipping already downloaded proteome: UP000029481\n",
      "Proteome for UP000186795 downloaded successfully.\n"
     ]
    },
    {
     "name": "stderr",
     "output_type": "stream",
     "text": [
      "Downloading Proteomes:  84%|████████▍ | 1665/1976 [03:07<05:26,  1.05s/it]"
     ]
    },
    {
     "name": "stdout",
     "output_type": "stream",
     "text": [
      "Proteome for UP000288813 downloaded successfully.\n"
     ]
    },
    {
     "name": "stderr",
     "output_type": "stream",
     "text": [
      "Downloading Proteomes:  84%|████████▍ | 1666/1976 [03:09<06:03,  1.17s/it]"
     ]
    },
    {
     "name": "stdout",
     "output_type": "stream",
     "text": [
      "Proteome for UP000006552 downloaded successfully.\n"
     ]
    },
    {
     "name": "stderr",
     "output_type": "stream",
     "text": [
      "Downloading Proteomes:  84%|████████▍ | 1667/1976 [03:11<06:38,  1.29s/it]"
     ]
    },
    {
     "name": "stdout",
     "output_type": "stream",
     "text": [
      "Proteome for UP000029732 downloaded successfully.\n"
     ]
    },
    {
     "name": "stderr",
     "output_type": "stream",
     "text": [
      "Downloading Proteomes:  84%|████████▍ | 1668/1976 [03:12<06:34,  1.28s/it]"
     ]
    },
    {
     "name": "stdout",
     "output_type": "stream",
     "text": [
      "Proteome for UP000190135 downloaded successfully.\n"
     ]
    },
    {
     "name": "stderr",
     "output_type": "stream",
     "text": [
      "Downloading Proteomes:  84%|████████▍ | 1669/1976 [03:14<07:24,  1.45s/it]"
     ]
    },
    {
     "name": "stdout",
     "output_type": "stream",
     "text": [
      "Proteome for UP000278422 downloaded successfully.\n"
     ]
    },
    {
     "name": "stderr",
     "output_type": "stream",
     "text": [
      "Downloading Proteomes:  85%|████████▍ | 1670/1976 [03:15<07:26,  1.46s/it]"
     ]
    },
    {
     "name": "stdout",
     "output_type": "stream",
     "text": [
      "Proteome for UP000003135 downloaded successfully.\n"
     ]
    },
    {
     "name": "stderr",
     "output_type": "stream",
     "text": [
      "Downloading Proteomes:  85%|████████▍ | 1671/1976 [03:18<08:20,  1.64s/it]"
     ]
    },
    {
     "name": "stdout",
     "output_type": "stream",
     "text": [
      "Proteome for UP000503540 downloaded successfully.\n"
     ]
    },
    {
     "name": "stderr",
     "output_type": "stream",
     "text": [
      "Downloading Proteomes:  85%|████████▍ | 1672/1976 [03:21<10:13,  2.02s/it]"
     ]
    },
    {
     "name": "stdout",
     "output_type": "stream",
     "text": [
      "Skipping already downloaded proteome: UP000028181\n",
      "Proteome for UP000077305 downloaded successfully.\n"
     ]
    },
    {
     "name": "stderr",
     "output_type": "stream",
     "text": [
      "Downloading Proteomes:  85%|████████▍ | 1674/1976 [03:22<07:45,  1.54s/it]"
     ]
    },
    {
     "name": "stdout",
     "output_type": "stream",
     "text": [
      "Proteome for UP000316778 downloaded successfully.\n"
     ]
    },
    {
     "name": "stderr",
     "output_type": "stream",
     "text": [
      "Downloading Proteomes:  85%|████████▍ | 1675/1976 [03:25<08:25,  1.68s/it]"
     ]
    },
    {
     "name": "stdout",
     "output_type": "stream",
     "text": [
      "Proteome for UP000214740 downloaded successfully.\n"
     ]
    },
    {
     "name": "stderr",
     "output_type": "stream",
     "text": [
      "Downloading Proteomes:  85%|████████▍ | 1676/1976 [03:26<08:02,  1.61s/it]"
     ]
    },
    {
     "name": "stdout",
     "output_type": "stream",
     "text": [
      "Proteome for UP000004507 downloaded successfully.\n"
     ]
    },
    {
     "name": "stderr",
     "output_type": "stream",
     "text": [
      "Downloading Proteomes:  85%|████████▍ | 1677/1976 [03:27<07:46,  1.56s/it]"
     ]
    },
    {
     "name": "stdout",
     "output_type": "stream",
     "text": [
      "Proteome for UP000190092 downloaded successfully.\n"
     ]
    },
    {
     "name": "stderr",
     "output_type": "stream",
     "text": [
      "Downloading Proteomes:  85%|████████▍ | 1678/1976 [03:30<09:10,  1.85s/it]"
     ]
    },
    {
     "name": "stdout",
     "output_type": "stream",
     "text": [
      "Proteome for UP000006004 downloaded successfully.\n"
     ]
    },
    {
     "name": "stderr",
     "output_type": "stream",
     "text": [
      "Downloading Proteomes:  85%|████████▍ | 1679/1976 [03:31<08:09,  1.65s/it]"
     ]
    },
    {
     "name": "stdout",
     "output_type": "stream",
     "text": [
      "Proteome for UP000282211 downloaded successfully.\n"
     ]
    },
    {
     "name": "stderr",
     "output_type": "stream",
     "text": [
      "Downloading Proteomes:  85%|████████▌ | 1680/1976 [03:33<07:58,  1.62s/it]"
     ]
    },
    {
     "name": "stdout",
     "output_type": "stream",
     "text": [
      "Proteome for UP000675121 downloaded successfully.\n"
     ]
    },
    {
     "name": "stderr",
     "output_type": "stream",
     "text": [
      "Downloading Proteomes:  85%|████████▌ | 1681/1976 [03:36<09:49,  2.00s/it]"
     ]
    },
    {
     "name": "stdout",
     "output_type": "stream",
     "text": [
      "Proteome for UP000298460 downloaded successfully.\n"
     ]
    },
    {
     "name": "stderr",
     "output_type": "stream",
     "text": [
      "Downloading Proteomes:  85%|████████▌ | 1682/1976 [03:38<10:00,  2.04s/it]"
     ]
    },
    {
     "name": "stdout",
     "output_type": "stream",
     "text": [
      "Proteome for UP000606044 downloaded successfully.\n"
     ]
    },
    {
     "name": "stderr",
     "output_type": "stream",
     "text": [
      "Downloading Proteomes:  85%|████████▌ | 1683/1976 [03:40<10:49,  2.22s/it]"
     ]
    },
    {
     "name": "stdout",
     "output_type": "stream",
     "text": [
      "Skipping already downloaded proteome: UP000009081\n",
      "Proteome for UP000183299 downloaded successfully.\n"
     ]
    },
    {
     "name": "stderr",
     "output_type": "stream",
     "text": [
      "Downloading Proteomes:  85%|████████▌ | 1685/1976 [03:42<07:43,  1.59s/it]"
     ]
    },
    {
     "name": "stdout",
     "output_type": "stream",
     "text": [
      "Proteome for UP000001426 downloaded successfully.\n"
     ]
    },
    {
     "name": "stderr",
     "output_type": "stream",
     "text": [
      "Downloading Proteomes:  85%|████████▌ | 1686/1976 [03:44<08:33,  1.77s/it]"
     ]
    },
    {
     "name": "stdout",
     "output_type": "stream",
     "text": [
      "Proteome for UP000238563 downloaded successfully.\n"
     ]
    },
    {
     "name": "stderr",
     "output_type": "stream",
     "text": [
      "Downloading Proteomes:  85%|████████▌ | 1687/1976 [03:47<08:54,  1.85s/it]"
     ]
    },
    {
     "name": "stdout",
     "output_type": "stream",
     "text": [
      "Proteome for UP000258888 downloaded successfully.\n"
     ]
    },
    {
     "name": "stderr",
     "output_type": "stream",
     "text": [
      "Downloading Proteomes:  85%|████████▌ | 1688/1976 [03:48<07:55,  1.65s/it]"
     ]
    },
    {
     "name": "stdout",
     "output_type": "stream",
     "text": [
      "Proteome for UP000000852 downloaded successfully.\n"
     ]
    },
    {
     "name": "stderr",
     "output_type": "stream",
     "text": [
      "Downloading Proteomes:  85%|████████▌ | 1689/1976 [03:50<08:12,  1.72s/it]"
     ]
    },
    {
     "name": "stdout",
     "output_type": "stream",
     "text": [
      "Proteome for UP000001306 downloaded successfully.\n"
     ]
    },
    {
     "name": "stderr",
     "output_type": "stream",
     "text": [
      "Downloading Proteomes:  86%|████████▌ | 1690/1976 [03:51<07:33,  1.59s/it]"
     ]
    },
    {
     "name": "stdout",
     "output_type": "stream",
     "text": [
      "Proteome for UP000245845 downloaded successfully.\n"
     ]
    },
    {
     "name": "stderr",
     "output_type": "stream",
     "text": [
      "Downloading Proteomes:  86%|████████▌ | 1691/1976 [03:53<08:26,  1.78s/it]"
     ]
    },
    {
     "name": "stdout",
     "output_type": "stream",
     "text": [
      "Proteome for UP000315722 downloaded successfully.\n"
     ]
    },
    {
     "name": "stderr",
     "output_type": "stream",
     "text": [
      "Downloading Proteomes:  86%|████████▌ | 1692/1976 [03:54<07:49,  1.65s/it]"
     ]
    },
    {
     "name": "stdout",
     "output_type": "stream",
     "text": [
      "Proteome for UP000304999 downloaded successfully.\n"
     ]
    },
    {
     "name": "stderr",
     "output_type": "stream",
     "text": [
      "Downloading Proteomes:  86%|████████▌ | 1693/1976 [03:56<07:23,  1.57s/it]"
     ]
    },
    {
     "name": "stdout",
     "output_type": "stream",
     "text": [
      "Proteome for UP000296448 downloaded successfully.\n"
     ]
    },
    {
     "name": "stderr",
     "output_type": "stream",
     "text": [
      "Downloading Proteomes:  86%|████████▌ | 1694/1976 [03:58<07:44,  1.65s/it]"
     ]
    },
    {
     "name": "stdout",
     "output_type": "stream",
     "text": [
      "Proteome for UP000051463 downloaded successfully.\n"
     ]
    },
    {
     "name": "stderr",
     "output_type": "stream",
     "text": [
      "Downloading Proteomes:  86%|████████▌ | 1695/1976 [03:59<07:56,  1.69s/it]"
     ]
    },
    {
     "name": "stdout",
     "output_type": "stream",
     "text": [
      "Proteome for UP000092544 downloaded successfully.\n"
     ]
    },
    {
     "name": "stderr",
     "output_type": "stream",
     "text": [
      "Downloading Proteomes:  86%|████████▌ | 1696/1976 [04:01<08:15,  1.77s/it]"
     ]
    },
    {
     "name": "stdout",
     "output_type": "stream",
     "text": [
      "Skipping already downloaded proteome: UP000583454\n",
      "Proteome for UP000198539 downloaded successfully.\n"
     ]
    },
    {
     "name": "stderr",
     "output_type": "stream",
     "text": [
      "Downloading Proteomes:  86%|████████▌ | 1698/1976 [04:04<07:05,  1.53s/it]"
     ]
    },
    {
     "name": "stdout",
     "output_type": "stream",
     "text": [
      "Proteome for UP000060542 downloaded successfully.\n"
     ]
    },
    {
     "name": "stderr",
     "output_type": "stream",
     "text": [
      "Downloading Proteomes:  86%|████████▌ | 1699/1976 [04:06<07:43,  1.68s/it]"
     ]
    },
    {
     "name": "stdout",
     "output_type": "stream",
     "text": [
      "Proteome for UP000287239 downloaded successfully.\n"
     ]
    },
    {
     "name": "stderr",
     "output_type": "stream",
     "text": [
      "Downloading Proteomes:  86%|████████▌ | 1700/1976 [04:07<07:21,  1.60s/it]"
     ]
    },
    {
     "name": "stdout",
     "output_type": "stream",
     "text": [
      "Proteome for UP000316365 downloaded successfully.\n"
     ]
    },
    {
     "name": "stderr",
     "output_type": "stream",
     "text": [
      "Downloading Proteomes:  86%|████████▌ | 1701/1976 [04:09<07:33,  1.65s/it]"
     ]
    },
    {
     "name": "stdout",
     "output_type": "stream",
     "text": [
      "Proteome for UP000574133 downloaded successfully.\n"
     ]
    },
    {
     "name": "stderr",
     "output_type": "stream",
     "text": [
      "Downloading Proteomes:  86%|████████▌ | 1702/1976 [04:11<07:52,  1.73s/it]"
     ]
    },
    {
     "name": "stdout",
     "output_type": "stream",
     "text": [
      "Proteome for UP000196207 downloaded successfully.\n"
     ]
    },
    {
     "name": "stderr",
     "output_type": "stream",
     "text": [
      "Downloading Proteomes:  86%|████████▌ | 1703/1976 [04:13<07:35,  1.67s/it]"
     ]
    },
    {
     "name": "stdout",
     "output_type": "stream",
     "text": [
      "Proteome for UP000182958 downloaded successfully.\n"
     ]
    },
    {
     "name": "stderr",
     "output_type": "stream",
     "text": [
      "Downloading Proteomes:  86%|████████▌ | 1704/1976 [04:14<07:14,  1.60s/it]"
     ]
    },
    {
     "name": "stdout",
     "output_type": "stream",
     "text": [
      "Proteome for UP000013782 downloaded successfully.\n"
     ]
    },
    {
     "name": "stderr",
     "output_type": "stream",
     "text": [
      "Downloading Proteomes:  86%|████████▋ | 1705/1976 [04:16<08:12,  1.82s/it]"
     ]
    },
    {
     "name": "stdout",
     "output_type": "stream",
     "text": [
      "Proteome for UP000010322 downloaded successfully.\n"
     ]
    },
    {
     "name": "stderr",
     "output_type": "stream",
     "text": [
      "Downloading Proteomes:  86%|████████▋ | 1706/1976 [04:18<07:50,  1.74s/it]"
     ]
    },
    {
     "name": "stdout",
     "output_type": "stream",
     "text": [
      "Skipping already downloaded proteome: UP000019062\n",
      "Proteome for UP000004664 downloaded successfully.\n"
     ]
    },
    {
     "name": "stderr",
     "output_type": "stream",
     "text": [
      "Downloading Proteomes:  86%|████████▋ | 1708/1976 [04:20<06:06,  1.37s/it]"
     ]
    },
    {
     "name": "stdout",
     "output_type": "stream",
     "text": [
      "Skipping already downloaded proteome: UP000011617\n",
      "Proteome for UP000321400 downloaded successfully.\n"
     ]
    },
    {
     "name": "stderr",
     "output_type": "stream",
     "text": [
      "Downloading Proteomes:  87%|████████▋ | 1710/1976 [04:22<06:03,  1.37s/it]"
     ]
    },
    {
     "name": "stdout",
     "output_type": "stream",
     "text": [
      "Proteome for UP000271227 downloaded successfully.\n"
     ]
    },
    {
     "name": "stderr",
     "output_type": "stream",
     "text": [
      "Downloading Proteomes:  87%|████████▋ | 1711/1976 [04:24<06:31,  1.48s/it]"
     ]
    },
    {
     "name": "stdout",
     "output_type": "stream",
     "text": [
      "Proteome for UP000244810 downloaded successfully.\n"
     ]
    },
    {
     "name": "stderr",
     "output_type": "stream",
     "text": [
      "Downloading Proteomes:  87%|████████▋ | 1712/1976 [04:26<07:00,  1.59s/it]"
     ]
    },
    {
     "name": "stdout",
     "output_type": "stream",
     "text": [
      "Proteome for UP000556436 downloaded successfully.\n"
     ]
    },
    {
     "name": "stderr",
     "output_type": "stream",
     "text": [
      "Downloading Proteomes:  87%|████████▋ | 1713/1976 [04:29<08:10,  1.86s/it]"
     ]
    },
    {
     "name": "stdout",
     "output_type": "stream",
     "text": [
      "Skipping already downloaded proteome: UP000012651\n",
      "Proteome for UP000002383 downloaded successfully.\n"
     ]
    },
    {
     "name": "stderr",
     "output_type": "stream",
     "text": [
      "Downloading Proteomes:  87%|████████▋ | 1715/1976 [04:30<06:06,  1.41s/it]"
     ]
    },
    {
     "name": "stdout",
     "output_type": "stream",
     "text": [
      "Proteome for UP000000310 downloaded successfully.\n"
     ]
    },
    {
     "name": "stderr",
     "output_type": "stream",
     "text": [
      "Downloading Proteomes:  87%|████████▋ | 1716/1976 [04:32<06:31,  1.51s/it]"
     ]
    },
    {
     "name": "stdout",
     "output_type": "stream",
     "text": [
      "Proteome for UP000182958 downloaded successfully.\n"
     ]
    },
    {
     "name": "stderr",
     "output_type": "stream",
     "text": [
      "Downloading Proteomes:  87%|████████▋ | 1717/1976 [04:34<06:17,  1.46s/it]"
     ]
    },
    {
     "name": "stdout",
     "output_type": "stream",
     "text": [
      "Proteome for UP000246077 downloaded successfully.\n"
     ]
    },
    {
     "name": "stderr",
     "output_type": "stream",
     "text": [
      "Downloading Proteomes:  87%|████████▋ | 1718/1976 [04:35<06:40,  1.55s/it]"
     ]
    },
    {
     "name": "stdout",
     "output_type": "stream",
     "text": [
      "Proteome for UP000290106 downloaded successfully.\n"
     ]
    },
    {
     "name": "stderr",
     "output_type": "stream",
     "text": [
      "Downloading Proteomes:  87%|████████▋ | 1719/1976 [04:37<06:33,  1.53s/it]"
     ]
    },
    {
     "name": "stdout",
     "output_type": "stream",
     "text": [
      "Proteome for UP000001661 downloaded successfully.\n"
     ]
    },
    {
     "name": "stderr",
     "output_type": "stream",
     "text": [
      "Downloading Proteomes:  87%|████████▋ | 1720/1976 [04:38<06:18,  1.48s/it]"
     ]
    },
    {
     "name": "stdout",
     "output_type": "stream",
     "text": [
      "Proteome for UP000257039 downloaded successfully.\n"
     ]
    },
    {
     "name": "stderr",
     "output_type": "stream",
     "text": [
      "Downloading Proteomes:  87%|████████▋ | 1721/1976 [04:40<07:04,  1.67s/it]"
     ]
    },
    {
     "name": "stdout",
     "output_type": "stream",
     "text": [
      "Proteome for UP000182811 downloaded successfully.\n"
     ]
    },
    {
     "name": "stderr",
     "output_type": "stream",
     "text": [
      "Downloading Proteomes:  87%|████████▋ | 1722/1976 [04:42<06:45,  1.60s/it]"
     ]
    },
    {
     "name": "stdout",
     "output_type": "stream",
     "text": [
      "Proteome for UP000198573 downloaded successfully.\n"
     ]
    },
    {
     "name": "stderr",
     "output_type": "stream",
     "text": [
      "Downloading Proteomes:  87%|████████▋ | 1723/1976 [04:43<06:23,  1.51s/it]"
     ]
    },
    {
     "name": "stdout",
     "output_type": "stream",
     "text": [
      "Proteome for UP000221024 downloaded successfully.\n"
     ]
    },
    {
     "name": "stderr",
     "output_type": "stream",
     "text": [
      "Downloading Proteomes:  87%|████████▋ | 1724/1976 [04:45<06:21,  1.51s/it]"
     ]
    },
    {
     "name": "stdout",
     "output_type": "stream",
     "text": [
      "Skipping already downloaded proteome: UP000233491\n",
      "Proteome for UP000305723 downloaded successfully.\n"
     ]
    },
    {
     "name": "stderr",
     "output_type": "stream",
     "text": [
      "Downloading Proteomes:  87%|████████▋ | 1726/1976 [04:47<05:10,  1.24s/it]"
     ]
    },
    {
     "name": "stdout",
     "output_type": "stream",
     "text": [
      "Proteome for UP000288197 downloaded successfully.\n"
     ]
    },
    {
     "name": "stderr",
     "output_type": "stream",
     "text": [
      "Downloading Proteomes:  87%|████████▋ | 1727/1976 [04:48<05:15,  1.27s/it]"
     ]
    },
    {
     "name": "stdout",
     "output_type": "stream",
     "text": [
      "Proteome for UP000676951 downloaded successfully.\n"
     ]
    },
    {
     "name": "stderr",
     "output_type": "stream",
     "text": [
      "Downloading Proteomes:  87%|████████▋ | 1728/1976 [04:50<05:56,  1.44s/it]"
     ]
    },
    {
     "name": "stdout",
     "output_type": "stream",
     "text": [
      "Proteome for UP000033633 downloaded successfully.\n"
     ]
    },
    {
     "name": "stderr",
     "output_type": "stream",
     "text": [
      "Downloading Proteomes:  88%|████████▊ | 1729/1976 [04:53<07:42,  1.87s/it]"
     ]
    },
    {
     "name": "stdout",
     "output_type": "stream",
     "text": [
      "Proteome for UP000002482 downloaded successfully.\n"
     ]
    },
    {
     "name": "stderr",
     "output_type": "stream",
     "text": [
      "Downloading Proteomes:  88%|████████▊ | 1730/1976 [04:55<08:00,  1.95s/it]"
     ]
    },
    {
     "name": "stdout",
     "output_type": "stream",
     "text": [
      "Proteome for UP000199569 downloaded successfully.\n"
     ]
    },
    {
     "name": "stderr",
     "output_type": "stream",
     "text": [
      "Downloading Proteomes:  88%|████████▊ | 1731/1976 [04:57<07:50,  1.92s/it]"
     ]
    },
    {
     "name": "stdout",
     "output_type": "stream",
     "text": [
      "Proteome for UP000218890 downloaded successfully.\n"
     ]
    },
    {
     "name": "stderr",
     "output_type": "stream",
     "text": [
      "Downloading Proteomes:  88%|████████▊ | 1732/1976 [04:58<07:05,  1.75s/it]"
     ]
    },
    {
     "name": "stdout",
     "output_type": "stream",
     "text": [
      "Proteome for UP000182983 downloaded successfully.\n"
     ]
    },
    {
     "name": "stderr",
     "output_type": "stream",
     "text": [
      "Downloading Proteomes:  88%|████████▊ | 1733/1976 [05:00<06:48,  1.68s/it]"
     ]
    },
    {
     "name": "stdout",
     "output_type": "stream",
     "text": [
      "Proteome for UP000264280 downloaded successfully.\n"
     ]
    },
    {
     "name": "stderr",
     "output_type": "stream",
     "text": [
      "Downloading Proteomes:  88%|████████▊ | 1734/1976 [05:02<07:16,  1.80s/it]"
     ]
    },
    {
     "name": "stdout",
     "output_type": "stream",
     "text": [
      "Proteome for UP000231644 downloaded successfully.\n"
     ]
    },
    {
     "name": "stderr",
     "output_type": "stream",
     "text": [
      "Downloading Proteomes:  88%|████████▊ | 1735/1976 [05:03<07:07,  1.77s/it]"
     ]
    },
    {
     "name": "stdout",
     "output_type": "stream",
     "text": [
      "Proteome for UP000010119 downloaded successfully.\n"
     ]
    },
    {
     "name": "stderr",
     "output_type": "stream",
     "text": [
      "Downloading Proteomes:  88%|████████▊ | 1736/1976 [05:05<06:40,  1.67s/it]"
     ]
    },
    {
     "name": "stdout",
     "output_type": "stream",
     "text": [
      "Skipping already downloaded proteome: UP000315437\n",
      "Proteome for UP000093629 downloaded successfully.\n"
     ]
    },
    {
     "name": "stderr",
     "output_type": "stream",
     "text": [
      "Downloading Proteomes:  88%|████████▊ | 1738/1976 [05:07<05:17,  1.33s/it]"
     ]
    },
    {
     "name": "stdout",
     "output_type": "stream",
     "text": [
      "Proteome for UP000180026 downloaded successfully.\n"
     ]
    },
    {
     "name": "stderr",
     "output_type": "stream",
     "text": [
      "Downloading Proteomes:  88%|████████▊ | 1739/1976 [05:09<06:09,  1.56s/it]"
     ]
    },
    {
     "name": "stdout",
     "output_type": "stream",
     "text": [
      "Skipping already downloaded proteome: UP000014012\n",
      "Proteome for UP000272558 downloaded successfully.\n"
     ]
    },
    {
     "name": "stderr",
     "output_type": "stream",
     "text": [
      "Downloading Proteomes:  88%|████████▊ | 1741/1976 [05:10<04:44,  1.21s/it]"
     ]
    },
    {
     "name": "stdout",
     "output_type": "stream",
     "text": [
      "Proteome for UP000036503 downloaded successfully.\n"
     ]
    },
    {
     "name": "stderr",
     "output_type": "stream",
     "text": [
      "Downloading Proteomes:  88%|████████▊ | 1742/1976 [05:12<04:50,  1.24s/it]"
     ]
    },
    {
     "name": "stdout",
     "output_type": "stream",
     "text": [
      "Proteome for UP000472777 downloaded successfully.\n"
     ]
    },
    {
     "name": "stderr",
     "output_type": "stream",
     "text": [
      "Downloading Proteomes:  88%|████████▊ | 1743/1976 [05:13<05:01,  1.29s/it]"
     ]
    },
    {
     "name": "stdout",
     "output_type": "stream",
     "text": [
      "Proteome for UP000245020 downloaded successfully.\n"
     ]
    },
    {
     "name": "stderr",
     "output_type": "stream",
     "text": [
      "Downloading Proteomes:  88%|████████▊ | 1744/1976 [05:15<04:58,  1.29s/it]"
     ]
    },
    {
     "name": "stdout",
     "output_type": "stream",
     "text": [
      "Proteome for UP000256899 downloaded successfully.\n"
     ]
    },
    {
     "name": "stderr",
     "output_type": "stream",
     "text": [
      "Downloading Proteomes:  88%|████████▊ | 1745/1976 [05:16<05:28,  1.42s/it]"
     ]
    },
    {
     "name": "stdout",
     "output_type": "stream",
     "text": [
      "Proteome for UP000254737 downloaded successfully.\n"
     ]
    },
    {
     "name": "stderr",
     "output_type": "stream",
     "text": [
      "Downloading Proteomes:  88%|████████▊ | 1746/1976 [05:18<05:35,  1.46s/it]"
     ]
    },
    {
     "name": "stdout",
     "output_type": "stream",
     "text": [
      "Proteome for UP000001382 downloaded successfully.\n"
     ]
    },
    {
     "name": "stderr",
     "output_type": "stream",
     "text": [
      "Downloading Proteomes:  88%|████████▊ | 1747/1976 [05:20<06:19,  1.66s/it]"
     ]
    },
    {
     "name": "stdout",
     "output_type": "stream",
     "text": [
      "Skipping already downloaded proteome: UP000549913\n",
      "Proteome for UP000242432 downloaded successfully.\n"
     ]
    },
    {
     "name": "stderr",
     "output_type": "stream",
     "text": [
      "Downloading Proteomes:  89%|████████▊ | 1749/1976 [05:21<04:32,  1.20s/it]"
     ]
    },
    {
     "name": "stdout",
     "output_type": "stream",
     "text": [
      "Proteome for UP000183447 downloaded successfully.\n"
     ]
    },
    {
     "name": "stderr",
     "output_type": "stream",
     "text": [
      "Downloading Proteomes:  89%|████████▊ | 1750/1976 [05:23<05:10,  1.37s/it]"
     ]
    },
    {
     "name": "stdout",
     "output_type": "stream",
     "text": [
      "Proteome for UP000186308 downloaded successfully.\n"
     ]
    },
    {
     "name": "stderr",
     "output_type": "stream",
     "text": [
      "Downloading Proteomes:  89%|████████▊ | 1751/1976 [05:25<05:32,  1.48s/it]"
     ]
    },
    {
     "name": "stdout",
     "output_type": "stream",
     "text": [
      "Proteome for UP000236176 downloaded successfully.\n"
     ]
    },
    {
     "name": "stderr",
     "output_type": "stream",
     "text": [
      "Downloading Proteomes:  89%|████████▊ | 1752/1976 [05:27<06:17,  1.69s/it]"
     ]
    },
    {
     "name": "stdout",
     "output_type": "stream",
     "text": [
      "Proteome for UP000005435 downloaded successfully.\n"
     ]
    },
    {
     "name": "stderr",
     "output_type": "stream",
     "text": [
      "Downloading Proteomes:  89%|████████▊ | 1753/1976 [05:29<06:20,  1.70s/it]"
     ]
    },
    {
     "name": "stdout",
     "output_type": "stream",
     "text": [
      "Proteome for UP000547614 downloaded successfully.\n"
     ]
    },
    {
     "name": "stderr",
     "output_type": "stream",
     "text": [
      "Downloading Proteomes:  89%|████████▉ | 1754/1976 [05:31<06:19,  1.71s/it]"
     ]
    },
    {
     "name": "stdout",
     "output_type": "stream",
     "text": [
      "Proteome for UP000012063 downloaded successfully.\n"
     ]
    },
    {
     "name": "stderr",
     "output_type": "stream",
     "text": [
      "Downloading Proteomes:  89%|████████▉ | 1755/1976 [05:32<05:51,  1.59s/it]"
     ]
    },
    {
     "name": "stdout",
     "output_type": "stream",
     "text": [
      "Proteome for UP000298752 downloaded successfully.\n"
     ]
    },
    {
     "name": "stderr",
     "output_type": "stream",
     "text": [
      "Downloading Proteomes:  89%|████████▉ | 1756/1976 [05:33<05:34,  1.52s/it]"
     ]
    },
    {
     "name": "stdout",
     "output_type": "stream",
     "text": [
      "Proteome for UP000006380 downloaded successfully.\n"
     ]
    },
    {
     "name": "stderr",
     "output_type": "stream",
     "text": [
      "Downloading Proteomes:  89%|████████▉ | 1757/1976 [05:35<05:11,  1.42s/it]"
     ]
    },
    {
     "name": "stdout",
     "output_type": "stream",
     "text": [
      "Proteome for UP000247565 downloaded successfully.\n"
     ]
    },
    {
     "name": "stderr",
     "output_type": "stream",
     "text": [
      "Downloading Proteomes:  89%|████████▉ | 1758/1976 [05:36<04:53,  1.35s/it]"
     ]
    },
    {
     "name": "stdout",
     "output_type": "stream",
     "text": [
      "Proteome for UP000180098 downloaded successfully.\n"
     ]
    },
    {
     "name": "stderr",
     "output_type": "stream",
     "text": [
      "Downloading Proteomes:  89%|████████▉ | 1759/1976 [05:37<05:11,  1.44s/it]"
     ]
    },
    {
     "name": "stdout",
     "output_type": "stream",
     "text": [
      "Proteome for UP000051611 downloaded successfully.\n"
     ]
    },
    {
     "name": "stderr",
     "output_type": "stream",
     "text": [
      "Downloading Proteomes:  89%|████████▉ | 1760/1976 [05:40<06:04,  1.69s/it]"
     ]
    },
    {
     "name": "stdout",
     "output_type": "stream",
     "text": [
      "Proteome for UP000003900 downloaded successfully.\n"
     ]
    },
    {
     "name": "stderr",
     "output_type": "stream",
     "text": [
      "Downloading Proteomes:  89%|████████▉ | 1761/1976 [05:42<06:44,  1.88s/it]"
     ]
    },
    {
     "name": "stdout",
     "output_type": "stream",
     "text": [
      "Proteome for UP000218980 downloaded successfully.\n"
     ]
    },
    {
     "name": "stderr",
     "output_type": "stream",
     "text": [
      "Downloading Proteomes:  89%|████████▉ | 1762/1976 [05:44<06:42,  1.88s/it]"
     ]
    },
    {
     "name": "stdout",
     "output_type": "stream",
     "text": [
      "Proteome for UP000295493 downloaded successfully.\n"
     ]
    },
    {
     "name": "stderr",
     "output_type": "stream",
     "text": [
      "Downloading Proteomes:  89%|████████▉ | 1763/1976 [05:46<06:31,  1.84s/it]"
     ]
    },
    {
     "name": "stdout",
     "output_type": "stream",
     "text": [
      "Proteome for UP000181899 downloaded successfully.\n"
     ]
    },
    {
     "name": "stderr",
     "output_type": "stream",
     "text": [
      "Downloading Proteomes:  89%|████████▉ | 1764/1976 [05:47<06:12,  1.76s/it]"
     ]
    },
    {
     "name": "stdout",
     "output_type": "stream",
     "text": [
      "Proteome for UP000244810 downloaded successfully.\n"
     ]
    },
    {
     "name": "stderr",
     "output_type": "stream",
     "text": [
      "Downloading Proteomes:  89%|████████▉ | 1765/1976 [05:49<06:12,  1.77s/it]"
     ]
    },
    {
     "name": "stdout",
     "output_type": "stream",
     "text": [
      "Proteome for UP000198668 downloaded successfully.\n"
     ]
    },
    {
     "name": "stderr",
     "output_type": "stream",
     "text": [
      "Downloading Proteomes:  89%|████████▉ | 1766/1976 [05:50<05:40,  1.62s/it]"
     ]
    },
    {
     "name": "stdout",
     "output_type": "stream",
     "text": [
      "Skipping already downloaded proteome: UP000001319\n",
      "Proteome for UP000027190 downloaded successfully.\n"
     ]
    },
    {
     "name": "stderr",
     "output_type": "stream",
     "text": [
      "Downloading Proteomes:  89%|████████▉ | 1768/1976 [05:52<04:28,  1.29s/it]"
     ]
    },
    {
     "name": "stdout",
     "output_type": "stream",
     "text": [
      "Proteome for UP000273044 downloaded successfully.\n"
     ]
    },
    {
     "name": "stderr",
     "output_type": "stream",
     "text": [
      "Downloading Proteomes:  90%|████████▉ | 1769/1976 [05:54<04:45,  1.38s/it]"
     ]
    },
    {
     "name": "stdout",
     "output_type": "stream",
     "text": [
      "Proteome for UP000199689 downloaded successfully.\n"
     ]
    },
    {
     "name": "stderr",
     "output_type": "stream",
     "text": [
      "Downloading Proteomes:  90%|████████▉ | 1770/1976 [05:55<04:36,  1.34s/it]"
     ]
    },
    {
     "name": "stdout",
     "output_type": "stream",
     "text": [
      "Proteome for UP000075357 downloaded successfully.\n"
     ]
    },
    {
     "name": "stderr",
     "output_type": "stream",
     "text": [
      "Downloading Proteomes:  90%|████████▉ | 1771/1976 [05:56<04:41,  1.37s/it]"
     ]
    },
    {
     "name": "stdout",
     "output_type": "stream",
     "text": [
      "Proteome for UP000054600 downloaded successfully.\n"
     ]
    },
    {
     "name": "stderr",
     "output_type": "stream",
     "text": [
      "Downloading Proteomes:  90%|████████▉ | 1772/1976 [05:58<04:57,  1.46s/it]"
     ]
    },
    {
     "name": "stdout",
     "output_type": "stream",
     "text": [
      "Proteome for UP000003994 downloaded successfully.\n"
     ]
    },
    {
     "name": "stderr",
     "output_type": "stream",
     "text": [
      "Downloading Proteomes:  90%|████████▉ | 1773/1976 [06:00<05:09,  1.53s/it]"
     ]
    },
    {
     "name": "stdout",
     "output_type": "stream",
     "text": [
      "Proteome for UP000540685 downloaded successfully.\n"
     ]
    },
    {
     "name": "stderr",
     "output_type": "stream",
     "text": [
      "Downloading Proteomes:  90%|████████▉ | 1774/1976 [06:02<06:18,  1.87s/it]"
     ]
    },
    {
     "name": "stdout",
     "output_type": "stream",
     "text": [
      "Skipping already downloaded proteome: UP000001319\n",
      "Proteome for UP000030125 downloaded successfully.\n"
     ]
    },
    {
     "name": "stderr",
     "output_type": "stream",
     "text": [
      "Downloading Proteomes:  90%|████████▉ | 1776/1976 [06:04<04:22,  1.31s/it]"
     ]
    },
    {
     "name": "stdout",
     "output_type": "stream",
     "text": [
      "Proteome for UP000252415 downloaded successfully.\n"
     ]
    },
    {
     "name": "stderr",
     "output_type": "stream",
     "text": [
      "Downloading Proteomes:  90%|████████▉ | 1777/1976 [06:06<05:16,  1.59s/it]"
     ]
    },
    {
     "name": "stdout",
     "output_type": "stream",
     "text": [
      "Proteome for UP000031201 downloaded successfully.\n"
     ]
    },
    {
     "name": "stderr",
     "output_type": "stream",
     "text": [
      "Downloading Proteomes:  90%|████████▉ | 1778/1976 [06:08<05:46,  1.75s/it]"
     ]
    },
    {
     "name": "stdout",
     "output_type": "stream",
     "text": [
      "Proteome for UP000263750 downloaded successfully.\n"
     ]
    },
    {
     "name": "stderr",
     "output_type": "stream",
     "text": [
      "Downloading Proteomes:  90%|█████████ | 1779/1976 [06:10<05:26,  1.66s/it]"
     ]
    },
    {
     "name": "stdout",
     "output_type": "stream",
     "text": [
      "Proteome for UP000184085 downloaded successfully.\n"
     ]
    },
    {
     "name": "stderr",
     "output_type": "stream",
     "text": [
      "Downloading Proteomes:  90%|█████████ | 1780/1976 [06:12<05:31,  1.69s/it]"
     ]
    },
    {
     "name": "stdout",
     "output_type": "stream",
     "text": [
      "Proteome for UP000316196 downloaded successfully.\n"
     ]
    },
    {
     "name": "stderr",
     "output_type": "stream",
     "text": [
      "Downloading Proteomes:  90%|█████████ | 1781/1976 [06:14<05:49,  1.79s/it]"
     ]
    },
    {
     "name": "stdout",
     "output_type": "stream",
     "text": [
      "Proteome for UP000019270 downloaded successfully.\n"
     ]
    },
    {
     "name": "stderr",
     "output_type": "stream",
     "text": [
      "Downloading Proteomes:  90%|█████████ | 1782/1976 [06:16<06:13,  1.92s/it]"
     ]
    },
    {
     "name": "stdout",
     "output_type": "stream",
     "text": [
      "Proteome for UP000092598 downloaded successfully.\n"
     ]
    },
    {
     "name": "stderr",
     "output_type": "stream",
     "text": [
      "Downloading Proteomes:  90%|█████████ | 1783/1976 [06:19<07:20,  2.28s/it]"
     ]
    },
    {
     "name": "stdout",
     "output_type": "stream",
     "text": [
      "Proteome for UP000249134 downloaded successfully.\n"
     ]
    },
    {
     "name": "stderr",
     "output_type": "stream",
     "text": [
      "Downloading Proteomes:  90%|█████████ | 1784/1976 [06:21<06:56,  2.17s/it]"
     ]
    },
    {
     "name": "stdout",
     "output_type": "stream",
     "text": [
      "Skipping already downloaded proteome: UP000070366\n",
      "Proteome for UP000010390 downloaded successfully.\n"
     ]
    },
    {
     "name": "stderr",
     "output_type": "stream",
     "text": [
      "Downloading Proteomes:  90%|█████████ | 1786/1976 [06:23<05:28,  1.73s/it]"
     ]
    },
    {
     "name": "stdout",
     "output_type": "stream",
     "text": [
      "Proteome for UP000199442 downloaded successfully.\n"
     ]
    },
    {
     "name": "stderr",
     "output_type": "stream",
     "text": [
      "Downloading Proteomes:  90%|█████████ | 1787/1976 [06:25<05:18,  1.68s/it]"
     ]
    },
    {
     "name": "stdout",
     "output_type": "stream",
     "text": [
      "Proteome for UP000325451 downloaded successfully.\n"
     ]
    },
    {
     "name": "stderr",
     "output_type": "stream",
     "text": [
      "Downloading Proteomes:  90%|█████████ | 1788/1976 [06:25<04:21,  1.39s/it]"
     ]
    },
    {
     "name": "stdout",
     "output_type": "stream",
     "text": [
      "Proteome for UP000315636 downloaded successfully.\n"
     ]
    },
    {
     "name": "stderr",
     "output_type": "stream",
     "text": [
      "Downloading Proteomes:  91%|█████████ | 1789/1976 [06:27<04:24,  1.41s/it]"
     ]
    },
    {
     "name": "stdout",
     "output_type": "stream",
     "text": [
      "Proteome for UP000006695 downloaded successfully.\n"
     ]
    },
    {
     "name": "stderr",
     "output_type": "stream",
     "text": [
      "Downloading Proteomes:  91%|█████████ | 1790/1976 [06:29<04:45,  1.53s/it]"
     ]
    },
    {
     "name": "stdout",
     "output_type": "stream",
     "text": [
      "Proteome for UP000199021 downloaded successfully.\n"
     ]
    },
    {
     "name": "stderr",
     "output_type": "stream",
     "text": [
      "Downloading Proteomes:  91%|█████████ | 1791/1976 [06:31<05:23,  1.75s/it]"
     ]
    },
    {
     "name": "stdout",
     "output_type": "stream",
     "text": [
      "Proteome for UP000017837 downloaded successfully.\n"
     ]
    },
    {
     "name": "stderr",
     "output_type": "stream",
     "text": [
      "Downloading Proteomes:  91%|█████████ | 1792/1976 [06:34<06:16,  2.05s/it]"
     ]
    },
    {
     "name": "stdout",
     "output_type": "stream",
     "text": [
      "Proteome for UP000199545 downloaded successfully.\n"
     ]
    },
    {
     "name": "stderr",
     "output_type": "stream",
     "text": [
      "Downloading Proteomes:  91%|█████████ | 1793/1976 [06:36<06:06,  2.00s/it]"
     ]
    },
    {
     "name": "stdout",
     "output_type": "stream",
     "text": [
      "Proteome for UP000001029 downloaded successfully.\n"
     ]
    },
    {
     "name": "stderr",
     "output_type": "stream",
     "text": [
      "Downloading Proteomes:  91%|█████████ | 1794/1976 [06:37<05:23,  1.77s/it]"
     ]
    },
    {
     "name": "stdout",
     "output_type": "stream",
     "text": [
      "Proteome for UP000002710 downloaded successfully.\n"
     ]
    },
    {
     "name": "stderr",
     "output_type": "stream",
     "text": [
      "Downloading Proteomes:  91%|█████████ | 1795/1976 [06:39<05:19,  1.77s/it]"
     ]
    },
    {
     "name": "stdout",
     "output_type": "stream",
     "text": [
      "Proteome for UP000285019 downloaded successfully.\n"
     ]
    },
    {
     "name": "stderr",
     "output_type": "stream",
     "text": [
      "Downloading Proteomes:  91%|█████████ | 1796/1976 [06:40<05:00,  1.67s/it]"
     ]
    },
    {
     "name": "stdout",
     "output_type": "stream",
     "text": [
      "Proteome for UP000199159 downloaded successfully.\n"
     ]
    },
    {
     "name": "stderr",
     "output_type": "stream",
     "text": [
      "Downloading Proteomes:  91%|█████████ | 1797/1976 [06:42<05:19,  1.78s/it]"
     ]
    },
    {
     "name": "stdout",
     "output_type": "stream",
     "text": [
      "Proteome for UP000184476 downloaded successfully.\n"
     ]
    },
    {
     "name": "stderr",
     "output_type": "stream",
     "text": [
      "Downloading Proteomes:  91%|█████████ | 1798/1976 [06:44<05:07,  1.73s/it]"
     ]
    },
    {
     "name": "stdout",
     "output_type": "stream",
     "text": [
      "Proteome for UP000001626 downloaded successfully.\n"
     ]
    },
    {
     "name": "stderr",
     "output_type": "stream",
     "text": [
      "Downloading Proteomes:  91%|█████████ | 1799/1976 [06:45<04:55,  1.67s/it]"
     ]
    },
    {
     "name": "stdout",
     "output_type": "stream",
     "text": [
      "Proteome for UP000008895 downloaded successfully.\n"
     ]
    },
    {
     "name": "stderr",
     "output_type": "stream",
     "text": [
      "Downloading Proteomes:  91%|█████████ | 1800/1976 [06:47<04:31,  1.54s/it]"
     ]
    },
    {
     "name": "stdout",
     "output_type": "stream",
     "text": [
      "Proteome for UP000192790 downloaded successfully.\n"
     ]
    },
    {
     "name": "stderr",
     "output_type": "stream",
     "text": [
      "Downloading Proteomes:  91%|█████████ | 1801/1976 [06:48<04:19,  1.48s/it]"
     ]
    },
    {
     "name": "stdout",
     "output_type": "stream",
     "text": [
      "Proteome for UP000655701 downloaded successfully.\n"
     ]
    },
    {
     "name": "stderr",
     "output_type": "stream",
     "text": [
      "Downloading Proteomes:  91%|█████████ | 1802/1976 [06:49<04:11,  1.45s/it]"
     ]
    },
    {
     "name": "stdout",
     "output_type": "stream",
     "text": [
      "Proteome for UP000010367 downloaded successfully.\n"
     ]
    },
    {
     "name": "stderr",
     "output_type": "stream",
     "text": [
      "Downloading Proteomes:  91%|█████████ | 1803/1976 [06:52<04:58,  1.73s/it]"
     ]
    },
    {
     "name": "stdout",
     "output_type": "stream",
     "text": [
      "Proteome for UP000051184 downloaded successfully.\n"
     ]
    },
    {
     "name": "stderr",
     "output_type": "stream",
     "text": [
      "Downloading Proteomes:  91%|█████████▏| 1804/1976 [06:53<04:54,  1.71s/it]"
     ]
    },
    {
     "name": "stdout",
     "output_type": "stream",
     "text": [
      "Proteome for UP000199286 downloaded successfully.\n"
     ]
    },
    {
     "name": "stderr",
     "output_type": "stream",
     "text": [
      "Downloading Proteomes:  91%|█████████▏| 1805/1976 [06:55<04:56,  1.73s/it]"
     ]
    },
    {
     "name": "stdout",
     "output_type": "stream",
     "text": [
      "Skipping already downloaded proteome: UP001200537\n",
      "Proteome for UP000005984 downloaded successfully.\n"
     ]
    },
    {
     "name": "stderr",
     "output_type": "stream",
     "text": [
      "Downloading Proteomes:  91%|█████████▏| 1807/1976 [06:56<03:24,  1.21s/it]"
     ]
    },
    {
     "name": "stdout",
     "output_type": "stream",
     "text": [
      "Proteome for UP000042527 downloaded successfully.\n"
     ]
    },
    {
     "name": "stderr",
     "output_type": "stream",
     "text": [
      "Downloading Proteomes:  91%|█████████▏| 1808/1976 [06:58<03:33,  1.27s/it]"
     ]
    },
    {
     "name": "stdout",
     "output_type": "stream",
     "text": [
      "Proteome for UP000199496 downloaded successfully.\n"
     ]
    },
    {
     "name": "stderr",
     "output_type": "stream",
     "text": [
      "Downloading Proteomes:  92%|█████████▏| 1809/1976 [06:59<03:37,  1.30s/it]"
     ]
    },
    {
     "name": "stdout",
     "output_type": "stream",
     "text": [
      "Proteome for UP000014380 downloaded successfully.\n"
     ]
    },
    {
     "name": "stderr",
     "output_type": "stream",
     "text": [
      "Downloading Proteomes:  92%|█████████▏| 1810/1976 [07:00<03:32,  1.28s/it]"
     ]
    },
    {
     "name": "stdout",
     "output_type": "stream",
     "text": [
      "Proteome for UP000285120 downloaded successfully.\n"
     ]
    },
    {
     "name": "stderr",
     "output_type": "stream",
     "text": [
      "Downloading Proteomes:  92%|█████████▏| 1811/1976 [07:02<03:44,  1.36s/it]"
     ]
    },
    {
     "name": "stdout",
     "output_type": "stream",
     "text": [
      "Proteome for UP000256708 downloaded successfully.\n"
     ]
    },
    {
     "name": "stderr",
     "output_type": "stream",
     "text": [
      "Downloading Proteomes:  92%|█████████▏| 1812/1976 [07:04<04:21,  1.60s/it]"
     ]
    },
    {
     "name": "stdout",
     "output_type": "stream",
     "text": [
      "Skipping already downloaded proteome: UP000322617\n",
      "Proteome for UP000070542 downloaded successfully.\n"
     ]
    },
    {
     "name": "stderr",
     "output_type": "stream",
     "text": [
      "Downloading Proteomes:  92%|█████████▏| 1814/1976 [07:05<03:10,  1.18s/it]"
     ]
    },
    {
     "name": "stdout",
     "output_type": "stream",
     "text": [
      "Proteome for UP000294832 downloaded successfully.\n"
     ]
    },
    {
     "name": "stderr",
     "output_type": "stream",
     "text": [
      "Downloading Proteomes:  92%|█████████▏| 1815/1976 [07:07<03:27,  1.29s/it]"
     ]
    },
    {
     "name": "stdout",
     "output_type": "stream",
     "text": [
      "Proteome for UP000018143 downloaded successfully.\n"
     ]
    },
    {
     "name": "stderr",
     "output_type": "stream",
     "text": [
      "Downloading Proteomes:  92%|█████████▏| 1816/1976 [07:09<03:33,  1.33s/it]"
     ]
    },
    {
     "name": "stdout",
     "output_type": "stream",
     "text": [
      "Proteome for UP000018126 downloaded successfully.\n"
     ]
    },
    {
     "name": "stderr",
     "output_type": "stream",
     "text": [
      "Downloading Proteomes:  92%|█████████▏| 1817/1976 [07:10<03:35,  1.35s/it]"
     ]
    },
    {
     "name": "stdout",
     "output_type": "stream",
     "text": [
      "Proteome for UP000035100 downloaded successfully.\n"
     ]
    },
    {
     "name": "stderr",
     "output_type": "stream",
     "text": [
      "Downloading Proteomes:  92%|█████████▏| 1818/1976 [07:12<03:55,  1.49s/it]"
     ]
    },
    {
     "name": "stdout",
     "output_type": "stream",
     "text": [
      "Proteome for UP000011783 downloaded successfully.\n"
     ]
    },
    {
     "name": "stderr",
     "output_type": "stream",
     "text": [
      "Downloading Proteomes:  92%|█████████▏| 1819/1976 [07:13<03:58,  1.52s/it]"
     ]
    },
    {
     "name": "stdout",
     "output_type": "stream",
     "text": [
      "Proteome for UP000294575 downloaded successfully.\n"
     ]
    },
    {
     "name": "stderr",
     "output_type": "stream",
     "text": [
      "Downloading Proteomes:  92%|█████████▏| 1820/1976 [07:15<03:50,  1.48s/it]"
     ]
    },
    {
     "name": "stdout",
     "output_type": "stream",
     "text": [
      "Proteome for UP000464751 downloaded successfully.\n"
     ]
    },
    {
     "name": "stderr",
     "output_type": "stream",
     "text": [
      "Downloading Proteomes:  92%|█████████▏| 1821/1976 [07:17<04:20,  1.68s/it]"
     ]
    },
    {
     "name": "stdout",
     "output_type": "stream",
     "text": [
      "Proteome for UP000244904 downloaded successfully.\n"
     ]
    },
    {
     "name": "stderr",
     "output_type": "stream",
     "text": [
      "Downloading Proteomes:  92%|█████████▏| 1822/1976 [07:20<05:07,  1.99s/it]"
     ]
    },
    {
     "name": "stdout",
     "output_type": "stream",
     "text": [
      "Proteome for UP000596977 downloaded successfully.\n"
     ]
    },
    {
     "name": "stderr",
     "output_type": "stream",
     "text": [
      "Downloading Proteomes:  92%|█████████▏| 1823/1976 [07:24<06:51,  2.69s/it]"
     ]
    },
    {
     "name": "stdout",
     "output_type": "stream",
     "text": [
      "Proteome for UP000051999 downloaded successfully.\n"
     ]
    },
    {
     "name": "stderr",
     "output_type": "stream",
     "text": [
      "Downloading Proteomes:  92%|█████████▏| 1824/1976 [07:26<06:04,  2.40s/it]"
     ]
    },
    {
     "name": "stdout",
     "output_type": "stream",
     "text": [
      "Proteome for UP000240042 downloaded successfully.\n"
     ]
    },
    {
     "name": "stderr",
     "output_type": "stream",
     "text": [
      "Downloading Proteomes:  92%|█████████▏| 1825/1976 [07:27<05:11,  2.07s/it]"
     ]
    },
    {
     "name": "stdout",
     "output_type": "stream",
     "text": [
      "Proteome for UP000199347 downloaded successfully.\n"
     ]
    },
    {
     "name": "stderr",
     "output_type": "stream",
     "text": [
      "Downloading Proteomes:  92%|█████████▏| 1826/1976 [07:29<04:59,  2.00s/it]"
     ]
    },
    {
     "name": "stdout",
     "output_type": "stream",
     "text": [
      "Proteome for UP000252733 downloaded successfully.\n"
     ]
    },
    {
     "name": "stderr",
     "output_type": "stream",
     "text": [
      "Downloading Proteomes:  92%|█████████▏| 1827/1976 [07:31<04:58,  2.00s/it]"
     ]
    },
    {
     "name": "stdout",
     "output_type": "stream",
     "text": [
      "Proteome for UP000001416 downloaded successfully.\n"
     ]
    },
    {
     "name": "stderr",
     "output_type": "stream",
     "text": [
      "Downloading Proteomes:  93%|█████████▎| 1828/1976 [07:32<04:30,  1.83s/it]"
     ]
    },
    {
     "name": "stdout",
     "output_type": "stream",
     "text": [
      "Proteome for UP000254258 downloaded successfully.\n"
     ]
    },
    {
     "name": "stderr",
     "output_type": "stream",
     "text": [
      "Downloading Proteomes:  93%|█████████▎| 1829/1976 [07:34<04:31,  1.85s/it]"
     ]
    },
    {
     "name": "stdout",
     "output_type": "stream",
     "text": [
      "Proteome for UP000016587 downloaded successfully.\n"
     ]
    },
    {
     "name": "stderr",
     "output_type": "stream",
     "text": [
      "Downloading Proteomes:  93%|█████████▎| 1830/1976 [07:36<04:22,  1.80s/it]"
     ]
    },
    {
     "name": "stdout",
     "output_type": "stream",
     "text": [
      "Proteome for UP000009229 downloaded successfully.\n"
     ]
    },
    {
     "name": "stderr",
     "output_type": "stream",
     "text": [
      "Downloading Proteomes:  93%|█████████▎| 1831/1976 [07:37<04:04,  1.69s/it]"
     ]
    },
    {
     "name": "stdout",
     "output_type": "stream",
     "text": [
      "Proteome for UP000316215 downloaded successfully.\n"
     ]
    },
    {
     "name": "stderr",
     "output_type": "stream",
     "text": [
      "Downloading Proteomes:  93%|█████████▎| 1832/1976 [07:40<04:50,  2.02s/it]"
     ]
    },
    {
     "name": "stdout",
     "output_type": "stream",
     "text": [
      "Proteome for UP000048949 downloaded successfully.\n"
     ]
    },
    {
     "name": "stderr",
     "output_type": "stream",
     "text": [
      "Downloading Proteomes:  93%|█████████▎| 1833/1976 [07:42<04:26,  1.86s/it]"
     ]
    },
    {
     "name": "stdout",
     "output_type": "stream",
     "text": [
      "Proteome for UP000503540 downloaded successfully.\n"
     ]
    },
    {
     "name": "stderr",
     "output_type": "stream",
     "text": [
      "Downloading Proteomes:  93%|█████████▎| 1834/1976 [07:44<05:05,  2.15s/it]"
     ]
    },
    {
     "name": "stdout",
     "output_type": "stream",
     "text": [
      "Proteome for UP000183508 downloaded successfully.\n"
     ]
    },
    {
     "name": "stderr",
     "output_type": "stream",
     "text": [
      "Downloading Proteomes:  93%|█████████▎| 1835/1976 [07:46<04:57,  2.11s/it]"
     ]
    },
    {
     "name": "stdout",
     "output_type": "stream",
     "text": [
      "Proteome for UP000014127 downloaded successfully.\n"
     ]
    },
    {
     "name": "stderr",
     "output_type": "stream",
     "text": [
      "Downloading Proteomes:  93%|█████████▎| 1836/1976 [07:48<04:27,  1.91s/it]"
     ]
    },
    {
     "name": "stdout",
     "output_type": "stream",
     "text": [
      "Proteome for UP000316082 downloaded successfully.\n"
     ]
    },
    {
     "name": "stderr",
     "output_type": "stream",
     "text": [
      "Downloading Proteomes:  93%|█████████▎| 1837/1976 [07:50<04:30,  1.94s/it]"
     ]
    },
    {
     "name": "stdout",
     "output_type": "stream",
     "text": [
      "Proteome for UP000028123 downloaded successfully.\n"
     ]
    },
    {
     "name": "stderr",
     "output_type": "stream",
     "text": [
      "Downloading Proteomes:  93%|█████████▎| 1838/1976 [07:53<04:58,  2.16s/it]"
     ]
    },
    {
     "name": "stdout",
     "output_type": "stream",
     "text": [
      "Proteome for UP000022668 downloaded successfully.\n"
     ]
    },
    {
     "name": "stderr",
     "output_type": "stream",
     "text": [
      "Downloading Proteomes:  93%|█████████▎| 1839/1976 [07:54<04:27,  1.95s/it]"
     ]
    },
    {
     "name": "stdout",
     "output_type": "stream",
     "text": [
      "Proteome for UP000012984 downloaded successfully.\n"
     ]
    },
    {
     "name": "stderr",
     "output_type": "stream",
     "text": [
      "Downloading Proteomes:  93%|█████████▎| 1840/1976 [07:55<03:44,  1.65s/it]"
     ]
    },
    {
     "name": "stdout",
     "output_type": "stream",
     "text": [
      "Proteome for UP000214880 downloaded successfully.\n"
     ]
    },
    {
     "name": "stderr",
     "output_type": "stream",
     "text": [
      "Downloading Proteomes:  93%|█████████▎| 1841/1976 [07:57<03:48,  1.69s/it]"
     ]
    },
    {
     "name": "stdout",
     "output_type": "stream",
     "text": [
      "Proteome for UP000053199 downloaded successfully.\n"
     ]
    },
    {
     "name": "stderr",
     "output_type": "stream",
     "text": [
      "Downloading Proteomes:  93%|█████████▎| 1842/1976 [07:59<04:20,  1.94s/it]"
     ]
    },
    {
     "name": "stdout",
     "output_type": "stream",
     "text": [
      "Proteome for UP000295525 downloaded successfully.\n"
     ]
    },
    {
     "name": "stderr",
     "output_type": "stream",
     "text": [
      "Downloading Proteomes:  93%|█████████▎| 1843/1976 [08:01<04:09,  1.88s/it]"
     ]
    },
    {
     "name": "stdout",
     "output_type": "stream",
     "text": [
      "Proteome for UP000248646 downloaded successfully.\n"
     ]
    },
    {
     "name": "stderr",
     "output_type": "stream",
     "text": [
      "Downloading Proteomes:  93%|█████████▎| 1844/1976 [08:03<03:52,  1.76s/it]"
     ]
    },
    {
     "name": "stdout",
     "output_type": "stream",
     "text": [
      "Skipping already downloaded proteome: UP000027336\n",
      "Proteome for UP000198611 downloaded successfully.\n"
     ]
    },
    {
     "name": "stderr",
     "output_type": "stream",
     "text": [
      "Downloading Proteomes:  93%|█████████▎| 1846/1976 [08:04<02:49,  1.30s/it]"
     ]
    },
    {
     "name": "stdout",
     "output_type": "stream",
     "text": [
      "Proteome for UP000248863 downloaded successfully.\n"
     ]
    },
    {
     "name": "stderr",
     "output_type": "stream",
     "text": [
      "Downloading Proteomes:  93%|█████████▎| 1847/1976 [08:06<03:23,  1.58s/it]"
     ]
    },
    {
     "name": "stdout",
     "output_type": "stream",
     "text": [
      "Proteome for UP000295135 downloaded successfully.\n"
     ]
    },
    {
     "name": "stderr",
     "output_type": "stream",
     "text": [
      "Downloading Proteomes:  94%|█████████▎| 1848/1976 [08:08<03:14,  1.52s/it]"
     ]
    },
    {
     "name": "stdout",
     "output_type": "stream",
     "text": [
      "Proteome for UP000070552 downloaded successfully.\n"
     ]
    },
    {
     "name": "stderr",
     "output_type": "stream",
     "text": [
      "Downloading Proteomes:  94%|█████████▎| 1849/1976 [08:10<03:26,  1.62s/it]"
     ]
    },
    {
     "name": "stdout",
     "output_type": "stream",
     "text": [
      "Proteome for UP000219467 downloaded successfully.\n"
     ]
    },
    {
     "name": "stderr",
     "output_type": "stream",
     "text": [
      "Downloading Proteomes:  94%|█████████▎| 1850/1976 [08:11<03:20,  1.59s/it]"
     ]
    },
    {
     "name": "stdout",
     "output_type": "stream",
     "text": [
      "Skipping already downloaded proteome: UP000000593\n",
      "Proteome for UP000199230 downloaded successfully.\n"
     ]
    },
    {
     "name": "stderr",
     "output_type": "stream",
     "text": [
      "Downloading Proteomes:  94%|█████████▎| 1852/1976 [08:13<02:28,  1.20s/it]"
     ]
    },
    {
     "name": "stdout",
     "output_type": "stream",
     "text": [
      "Proteome for UP000236726 downloaded successfully.\n"
     ]
    },
    {
     "name": "stderr",
     "output_type": "stream",
     "text": [
      "Downloading Proteomes:  94%|█████████▍| 1853/1976 [08:14<02:36,  1.28s/it]"
     ]
    },
    {
     "name": "stdout",
     "output_type": "stream",
     "text": [
      "Proteome for UP000198618 downloaded successfully.\n"
     ]
    },
    {
     "name": "stderr",
     "output_type": "stream",
     "text": [
      "Downloading Proteomes:  94%|█████████▍| 1854/1976 [08:16<02:45,  1.36s/it]"
     ]
    },
    {
     "name": "stdout",
     "output_type": "stream",
     "text": [
      "Skipping already downloaded proteome: UP000093044\n",
      "Proteome for UP000007102 downloaded successfully.\n"
     ]
    },
    {
     "name": "stderr",
     "output_type": "stream",
     "text": [
      "Downloading Proteomes:  94%|█████████▍| 1856/1976 [08:17<02:02,  1.02s/it]"
     ]
    },
    {
     "name": "stdout",
     "output_type": "stream",
     "text": [
      "Proteome for UP000244240 downloaded successfully.\n"
     ]
    },
    {
     "name": "stderr",
     "output_type": "stream",
     "text": [
      "Downloading Proteomes:  94%|█████████▍| 1857/1976 [08:18<02:17,  1.16s/it]"
     ]
    },
    {
     "name": "stdout",
     "output_type": "stream",
     "text": [
      "Proteome for UP000547510 downloaded successfully.\n"
     ]
    },
    {
     "name": "stderr",
     "output_type": "stream",
     "text": [
      "Downloading Proteomes:  94%|█████████▍| 1858/1976 [08:21<02:57,  1.51s/it]"
     ]
    },
    {
     "name": "stdout",
     "output_type": "stream",
     "text": [
      "Proteome for UP000243205 downloaded successfully.\n"
     ]
    },
    {
     "name": "stderr",
     "output_type": "stream",
     "text": [
      "Downloading Proteomes:  94%|█████████▍| 1859/1976 [08:22<02:49,  1.45s/it]"
     ]
    },
    {
     "name": "stdout",
     "output_type": "stream",
     "text": [
      "Proteome for UP000192783 downloaded successfully.\n"
     ]
    },
    {
     "name": "stderr",
     "output_type": "stream",
     "text": [
      "Downloading Proteomes:  94%|█████████▍| 1860/1976 [08:24<02:49,  1.47s/it]"
     ]
    },
    {
     "name": "stdout",
     "output_type": "stream",
     "text": [
      "Proteome for UP000077519 downloaded successfully.\n"
     ]
    },
    {
     "name": "stderr",
     "output_type": "stream",
     "text": [
      "Downloading Proteomes:  94%|█████████▍| 1861/1976 [08:26<03:00,  1.57s/it]"
     ]
    },
    {
     "name": "stdout",
     "output_type": "stream",
     "text": [
      "Proteome for UP000242847 downloaded successfully.\n"
     ]
    },
    {
     "name": "stderr",
     "output_type": "stream",
     "text": [
      "Downloading Proteomes:  94%|█████████▍| 1862/1976 [08:27<03:04,  1.61s/it]"
     ]
    },
    {
     "name": "stdout",
     "output_type": "stream",
     "text": [
      "Proteome for UP000292452 downloaded successfully.\n"
     ]
    },
    {
     "name": "stderr",
     "output_type": "stream",
     "text": [
      "Downloading Proteomes:  94%|█████████▍| 1863/1976 [08:30<03:42,  1.96s/it]"
     ]
    },
    {
     "name": "stdout",
     "output_type": "stream",
     "text": [
      "Proteome for UP000295357 downloaded successfully.\n"
     ]
    },
    {
     "name": "stderr",
     "output_type": "stream",
     "text": [
      "Downloading Proteomes:  94%|█████████▍| 1864/1976 [08:32<03:31,  1.88s/it]"
     ]
    },
    {
     "name": "stdout",
     "output_type": "stream",
     "text": [
      "Proteome for UP000003327 downloaded successfully.\n"
     ]
    },
    {
     "name": "stderr",
     "output_type": "stream",
     "text": [
      "Downloading Proteomes:  94%|█████████▍| 1865/1976 [08:33<03:17,  1.78s/it]"
     ]
    },
    {
     "name": "stdout",
     "output_type": "stream",
     "text": [
      "Proteome for UP000032221 downloaded successfully.\n"
     ]
    },
    {
     "name": "stderr",
     "output_type": "stream",
     "text": [
      "Downloading Proteomes:  94%|█████████▍| 1866/1976 [08:36<03:27,  1.89s/it]"
     ]
    },
    {
     "name": "stdout",
     "output_type": "stream",
     "text": [
      "Proteome for UP000295324 downloaded successfully.\n"
     ]
    },
    {
     "name": "stderr",
     "output_type": "stream",
     "text": [
      "Downloading Proteomes:  94%|█████████▍| 1867/1976 [08:38<03:26,  1.89s/it]"
     ]
    },
    {
     "name": "stdout",
     "output_type": "stream",
     "text": [
      "Proteome for UP000273083 downloaded successfully.\n"
     ]
    },
    {
     "name": "stderr",
     "output_type": "stream",
     "text": [
      "Downloading Proteomes:  95%|█████████▍| 1868/1976 [08:39<03:14,  1.81s/it]"
     ]
    },
    {
     "name": "stdout",
     "output_type": "stream",
     "text": [
      "Proteome for UP000070612 downloaded successfully.\n"
     ]
    },
    {
     "name": "stderr",
     "output_type": "stream",
     "text": [
      "Downloading Proteomes:  95%|█████████▍| 1869/1976 [08:42<03:36,  2.02s/it]"
     ]
    },
    {
     "name": "stdout",
     "output_type": "stream",
     "text": [
      "Proteome for UP000295620 downloaded successfully.\n"
     ]
    },
    {
     "name": "stderr",
     "output_type": "stream",
     "text": [
      "Downloading Proteomes:  95%|█████████▍| 1870/1976 [08:43<03:28,  1.97s/it]"
     ]
    },
    {
     "name": "stdout",
     "output_type": "stream",
     "text": [
      "Proteome for UP000006286 downloaded successfully.\n"
     ]
    },
    {
     "name": "stderr",
     "output_type": "stream",
     "text": [
      "Downloading Proteomes:  95%|█████████▍| 1871/1976 [08:45<03:22,  1.93s/it]"
     ]
    },
    {
     "name": "stdout",
     "output_type": "stream",
     "text": [
      "Proteome for UP000029278 downloaded successfully.\n"
     ]
    },
    {
     "name": "stderr",
     "output_type": "stream",
     "text": [
      "Downloading Proteomes:  95%|█████████▍| 1872/1976 [08:48<03:58,  2.30s/it]"
     ]
    },
    {
     "name": "stdout",
     "output_type": "stream",
     "text": [
      "Proteome for UP000295361 downloaded successfully.\n"
     ]
    },
    {
     "name": "stderr",
     "output_type": "stream",
     "text": [
      "Downloading Proteomes:  95%|█████████▍| 1873/1976 [08:51<04:00,  2.34s/it]"
     ]
    },
    {
     "name": "stdout",
     "output_type": "stream",
     "text": [
      "Proteome for UP000030003 downloaded successfully.\n"
     ]
    },
    {
     "name": "stderr",
     "output_type": "stream",
     "text": [
      "Downloading Proteomes:  95%|█████████▍| 1874/1976 [08:52<03:27,  2.03s/it]"
     ]
    },
    {
     "name": "stdout",
     "output_type": "stream",
     "text": [
      "Proteome for UP000199312 downloaded successfully.\n"
     ]
    },
    {
     "name": "stderr",
     "output_type": "stream",
     "text": [
      "Downloading Proteomes:  95%|█████████▍| 1875/1976 [08:54<03:08,  1.87s/it]"
     ]
    },
    {
     "name": "stdout",
     "output_type": "stream",
     "text": [
      "Proteome for UP000242957 downloaded successfully.\n"
     ]
    },
    {
     "name": "stderr",
     "output_type": "stream",
     "text": [
      "Downloading Proteomes:  95%|█████████▍| 1876/1976 [08:56<03:13,  1.93s/it]"
     ]
    },
    {
     "name": "stdout",
     "output_type": "stream",
     "text": [
      "Proteome for UP000278222 downloaded successfully.\n"
     ]
    },
    {
     "name": "stderr",
     "output_type": "stream",
     "text": [
      "Downloading Proteomes:  95%|█████████▍| 1877/1976 [08:58<03:20,  2.02s/it]"
     ]
    },
    {
     "name": "stdout",
     "output_type": "stream",
     "text": [
      "Proteome for UP000297458 downloaded successfully.\n"
     ]
    },
    {
     "name": "stderr",
     "output_type": "stream",
     "text": [
      "Downloading Proteomes:  95%|█████████▌| 1878/1976 [09:00<03:04,  1.89s/it]"
     ]
    },
    {
     "name": "stdout",
     "output_type": "stream",
     "text": [
      "Proteome for UP000298133 downloaded successfully.\n"
     ]
    },
    {
     "name": "stderr",
     "output_type": "stream",
     "text": [
      "Downloading Proteomes:  95%|█████████▌| 1879/1976 [09:01<02:45,  1.70s/it]"
     ]
    },
    {
     "name": "stdout",
     "output_type": "stream",
     "text": [
      "Proteome for UP000199340 downloaded successfully.\n"
     ]
    },
    {
     "name": "stderr",
     "output_type": "stream",
     "text": [
      "Downloading Proteomes:  95%|█████████▌| 1880/1976 [09:03<02:48,  1.75s/it]"
     ]
    },
    {
     "name": "stdout",
     "output_type": "stream",
     "text": [
      "Proteome for UP000199068 downloaded successfully.\n"
     ]
    },
    {
     "name": "stderr",
     "output_type": "stream",
     "text": [
      "Downloading Proteomes:  95%|█████████▌| 1881/1976 [09:04<02:43,  1.72s/it]"
     ]
    },
    {
     "name": "stdout",
     "output_type": "stream",
     "text": [
      "Proteome for UP001143664 downloaded successfully.\n"
     ]
    },
    {
     "name": "stderr",
     "output_type": "stream",
     "text": [
      "Downloading Proteomes:  95%|█████████▌| 1882/1976 [09:07<02:57,  1.89s/it]"
     ]
    },
    {
     "name": "stdout",
     "output_type": "stream",
     "text": [
      "Proteome for UP000219482 downloaded successfully.\n"
     ]
    },
    {
     "name": "stderr",
     "output_type": "stream",
     "text": [
      "Downloading Proteomes:  95%|█████████▌| 1883/1976 [09:08<02:51,  1.84s/it]"
     ]
    },
    {
     "name": "stdout",
     "output_type": "stream",
     "text": [
      "Skipping already downloaded proteome: UP000019063\n",
      "Proteome for UP000073816 downloaded successfully.\n"
     ]
    },
    {
     "name": "stderr",
     "output_type": "stream",
     "text": [
      "Downloading Proteomes:  95%|█████████▌| 1885/1976 [09:10<02:02,  1.35s/it]"
     ]
    },
    {
     "name": "stdout",
     "output_type": "stream",
     "text": [
      "Proteome for UP000190852 downloaded successfully.\n"
     ]
    },
    {
     "name": "stderr",
     "output_type": "stream",
     "text": [
      "Downloading Proteomes:  95%|█████████▌| 1886/1976 [09:12<02:10,  1.45s/it]"
     ]
    },
    {
     "name": "stdout",
     "output_type": "stream",
     "text": [
      "Proteome for UP000184030 downloaded successfully.\n"
     ]
    },
    {
     "name": "stderr",
     "output_type": "stream",
     "text": [
      "Downloading Proteomes:  95%|█████████▌| 1887/1976 [09:13<02:08,  1.44s/it]"
     ]
    },
    {
     "name": "stdout",
     "output_type": "stream",
     "text": [
      "Proteome for UP000198853 downloaded successfully.\n"
     ]
    },
    {
     "name": "stderr",
     "output_type": "stream",
     "text": [
      "Downloading Proteomes:  96%|█████████▌| 1888/1976 [09:15<02:07,  1.45s/it]"
     ]
    },
    {
     "name": "stdout",
     "output_type": "stream",
     "text": [
      "Proteome for UP000008888 downloaded successfully.\n"
     ]
    },
    {
     "name": "stderr",
     "output_type": "stream",
     "text": [
      "Downloading Proteomes:  96%|█████████▌| 1889/1976 [09:17<02:26,  1.68s/it]"
     ]
    },
    {
     "name": "stdout",
     "output_type": "stream",
     "text": [
      "Proteome for UP000319595 downloaded successfully.\n"
     ]
    },
    {
     "name": "stderr",
     "output_type": "stream",
     "text": [
      "Downloading Proteomes:  96%|█████████▌| 1890/1976 [09:18<02:18,  1.62s/it]"
     ]
    },
    {
     "name": "stdout",
     "output_type": "stream",
     "text": [
      "Proteome for UP000190341 downloaded successfully.\n"
     ]
    },
    {
     "name": "stderr",
     "output_type": "stream",
     "text": [
      "Downloading Proteomes:  96%|█████████▌| 1891/1976 [09:20<02:19,  1.64s/it]"
     ]
    },
    {
     "name": "stdout",
     "output_type": "stream",
     "text": [
      "Proteome for UP000004088 downloaded successfully.\n"
     ]
    },
    {
     "name": "stderr",
     "output_type": "stream",
     "text": [
      "Downloading Proteomes:  96%|█████████▌| 1892/1976 [09:21<02:11,  1.56s/it]"
     ]
    },
    {
     "name": "stdout",
     "output_type": "stream",
     "text": [
      "Skipping already downloaded proteome: UP000198817\n",
      "Proteome for UP000237704 downloaded successfully.\n"
     ]
    },
    {
     "name": "stderr",
     "output_type": "stream",
     "text": [
      "Downloading Proteomes:  96%|█████████▌| 1894/1976 [09:23<01:44,  1.27s/it]"
     ]
    },
    {
     "name": "stdout",
     "output_type": "stream",
     "text": [
      "Proteome for UP000238338 downloaded successfully.\n"
     ]
    },
    {
     "name": "stderr",
     "output_type": "stream",
     "text": [
      "Downloading Proteomes:  96%|█████████▌| 1895/1976 [09:25<01:51,  1.38s/it]"
     ]
    },
    {
     "name": "stdout",
     "output_type": "stream",
     "text": [
      "Proteome for UP000243778 downloaded successfully.\n"
     ]
    },
    {
     "name": "stderr",
     "output_type": "stream",
     "text": [
      "Downloading Proteomes:  96%|█████████▌| 1896/1976 [09:27<02:01,  1.52s/it]"
     ]
    },
    {
     "name": "stdout",
     "output_type": "stream",
     "text": [
      "Proteome for UP000487882 downloaded successfully.\n"
     ]
    },
    {
     "name": "stderr",
     "output_type": "stream",
     "text": [
      "Downloading Proteomes:  96%|█████████▌| 1897/1976 [09:28<01:54,  1.44s/it]"
     ]
    },
    {
     "name": "stdout",
     "output_type": "stream",
     "text": [
      "Proteome for UP000198369 downloaded successfully.\n"
     ]
    },
    {
     "name": "stderr",
     "output_type": "stream",
     "text": [
      "Downloading Proteomes:  96%|█████████▌| 1898/1976 [09:29<01:49,  1.41s/it]"
     ]
    },
    {
     "name": "stdout",
     "output_type": "stream",
     "text": [
      "Proteome for UP000003813 downloaded successfully.\n"
     ]
    },
    {
     "name": "stderr",
     "output_type": "stream",
     "text": [
      "Downloading Proteomes:  96%|█████████▌| 1899/1976 [09:32<02:10,  1.70s/it]"
     ]
    },
    {
     "name": "stdout",
     "output_type": "stream",
     "text": [
      "Proteome for UP000005711 downloaded successfully.\n"
     ]
    },
    {
     "name": "stderr",
     "output_type": "stream",
     "text": [
      "Downloading Proteomes:  96%|█████████▌| 1900/1976 [09:33<01:58,  1.56s/it]"
     ]
    },
    {
     "name": "stdout",
     "output_type": "stream",
     "text": [
      "Proteome for UP000315167 downloaded successfully.\n"
     ]
    },
    {
     "name": "stderr",
     "output_type": "stream",
     "text": [
      "Downloading Proteomes:  96%|█████████▌| 1901/1976 [09:35<01:59,  1.60s/it]"
     ]
    },
    {
     "name": "stdout",
     "output_type": "stream",
     "text": [
      "Proteome for UP000195546 downloaded successfully.\n"
     ]
    },
    {
     "name": "stderr",
     "output_type": "stream",
     "text": [
      "Downloading Proteomes:  96%|█████████▋| 1902/1976 [09:36<01:55,  1.56s/it]"
     ]
    },
    {
     "name": "stdout",
     "output_type": "stream",
     "text": [
      "Proteome for UP000010378 downloaded successfully.\n"
     ]
    },
    {
     "name": "stderr",
     "output_type": "stream",
     "text": [
      "Downloading Proteomes:  96%|█████████▋| 1903/1976 [09:39<02:10,  1.78s/it]"
     ]
    },
    {
     "name": "stdout",
     "output_type": "stream",
     "text": [
      "Proteome for UP000243369 downloaded successfully.\n"
     ]
    },
    {
     "name": "stderr",
     "output_type": "stream",
     "text": [
      "Downloading Proteomes:  96%|█████████▋| 1904/1976 [09:40<02:10,  1.82s/it]"
     ]
    },
    {
     "name": "stdout",
     "output_type": "stream",
     "text": [
      "Proteome for UP000051638 downloaded successfully.\n"
     ]
    },
    {
     "name": "stderr",
     "output_type": "stream",
     "text": [
      "Downloading Proteomes:  96%|█████████▋| 1905/1976 [09:42<02:02,  1.73s/it]"
     ]
    },
    {
     "name": "stdout",
     "output_type": "stream",
     "text": [
      "Proteome for UP000242662 downloaded successfully.\n"
     ]
    },
    {
     "name": "stderr",
     "output_type": "stream",
     "text": [
      "Downloading Proteomes:  96%|█████████▋| 1906/1976 [09:43<01:55,  1.65s/it]"
     ]
    },
    {
     "name": "stdout",
     "output_type": "stream",
     "text": [
      "Proteome for UP000033608 downloaded successfully.\n"
     ]
    },
    {
     "name": "stderr",
     "output_type": "stream",
     "text": [
      "Downloading Proteomes:  97%|█████████▋| 1907/1976 [09:45<01:54,  1.66s/it]"
     ]
    },
    {
     "name": "stdout",
     "output_type": "stream",
     "text": [
      "Proteome for UP000051084 downloaded successfully.\n"
     ]
    },
    {
     "name": "stderr",
     "output_type": "stream",
     "text": [
      "Downloading Proteomes:  97%|█████████▋| 1908/1976 [09:46<01:42,  1.51s/it]"
     ]
    },
    {
     "name": "stdout",
     "output_type": "stream",
     "text": [
      "Proteome for UP000024001 downloaded successfully.\n"
     ]
    },
    {
     "name": "stderr",
     "output_type": "stream",
     "text": [
      "Downloading Proteomes:  97%|█████████▋| 1909/1976 [09:48<01:40,  1.50s/it]"
     ]
    },
    {
     "name": "stdout",
     "output_type": "stream",
     "text": [
      "Proteome for UP000587002 downloaded successfully.\n"
     ]
    },
    {
     "name": "stderr",
     "output_type": "stream",
     "text": [
      "Downloading Proteomes:  97%|█████████▋| 1910/1976 [09:50<01:49,  1.65s/it]"
     ]
    },
    {
     "name": "stdout",
     "output_type": "stream",
     "text": [
      "Proteome for UP000287502 downloaded successfully.\n"
     ]
    },
    {
     "name": "stderr",
     "output_type": "stream",
     "text": [
      "Downloading Proteomes:  97%|█████████▋| 1911/1976 [09:51<01:48,  1.67s/it]"
     ]
    },
    {
     "name": "stdout",
     "output_type": "stream",
     "text": [
      "Proteome for UP000037737 downloaded successfully.\n"
     ]
    },
    {
     "name": "stderr",
     "output_type": "stream",
     "text": [
      "Downloading Proteomes:  97%|█████████▋| 1912/1976 [09:53<01:42,  1.60s/it]"
     ]
    },
    {
     "name": "stdout",
     "output_type": "stream",
     "text": [
      "Proteome for UP000198348 downloaded successfully.\n"
     ]
    },
    {
     "name": "stderr",
     "output_type": "stream",
     "text": [
      "Downloading Proteomes:  97%|█████████▋| 1913/1976 [09:55<01:48,  1.72s/it]"
     ]
    },
    {
     "name": "stdout",
     "output_type": "stream",
     "text": [
      "Proteome for UP000184368 downloaded successfully.\n"
     ]
    },
    {
     "name": "stderr",
     "output_type": "stream",
     "text": [
      "Downloading Proteomes:  97%|█████████▋| 1914/1976 [09:57<01:53,  1.83s/it]"
     ]
    },
    {
     "name": "stdout",
     "output_type": "stream",
     "text": [
      "Proteome for UP000009154 downloaded successfully.\n"
     ]
    },
    {
     "name": "stderr",
     "output_type": "stream",
     "text": [
      "Downloading Proteomes:  97%|█████████▋| 1915/1976 [10:00<02:16,  2.23s/it]"
     ]
    },
    {
     "name": "stdout",
     "output_type": "stream",
     "text": [
      "Proteome for UP000030980 downloaded successfully.\n"
     ]
    },
    {
     "name": "stderr",
     "output_type": "stream",
     "text": [
      "Downloading Proteomes:  97%|█████████▋| 1916/1976 [10:02<02:14,  2.24s/it]"
     ]
    },
    {
     "name": "stdout",
     "output_type": "stream",
     "text": [
      "Proteome for UP000266178 downloaded successfully.\n"
     ]
    },
    {
     "name": "stderr",
     "output_type": "stream",
     "text": [
      "Downloading Proteomes:  97%|█████████▋| 1917/1976 [10:04<02:00,  2.05s/it]"
     ]
    },
    {
     "name": "stdout",
     "output_type": "stream",
     "text": [
      "Proteome for UP000184342 downloaded successfully.\n"
     ]
    },
    {
     "name": "stderr",
     "output_type": "stream",
     "text": [
      "Downloading Proteomes:  97%|█████████▋| 1918/1976 [10:05<01:48,  1.86s/it]"
     ]
    },
    {
     "name": "stdout",
     "output_type": "stream",
     "text": [
      "Proteome for UP000199512 downloaded successfully.\n"
     ]
    },
    {
     "name": "stderr",
     "output_type": "stream",
     "text": [
      "Downloading Proteomes:  97%|█████████▋| 1919/1976 [10:07<01:38,  1.74s/it]"
     ]
    },
    {
     "name": "stdout",
     "output_type": "stream",
     "text": [
      "Proteome for UP000595254 downloaded successfully.\n"
     ]
    },
    {
     "name": "stderr",
     "output_type": "stream",
     "text": [
      "Downloading Proteomes:  97%|█████████▋| 1920/1976 [10:09<01:39,  1.77s/it]"
     ]
    },
    {
     "name": "stdout",
     "output_type": "stream",
     "text": [
      "Proteome for UP000199495 downloaded successfully.\n"
     ]
    },
    {
     "name": "stderr",
     "output_type": "stream",
     "text": [
      "Downloading Proteomes:  97%|█████████▋| 1921/1976 [10:11<01:37,  1.77s/it]"
     ]
    },
    {
     "name": "stdout",
     "output_type": "stream",
     "text": [
      "Proteome for UP000299580 downloaded successfully.\n"
     ]
    },
    {
     "name": "stderr",
     "output_type": "stream",
     "text": [
      "Downloading Proteomes:  97%|█████████▋| 1922/1976 [10:12<01:32,  1.70s/it]"
     ]
    },
    {
     "name": "stdout",
     "output_type": "stream",
     "text": [
      "Proteome for UP000194327 downloaded successfully.\n"
     ]
    },
    {
     "name": "stderr",
     "output_type": "stream",
     "text": [
      "Downloading Proteomes:  97%|█████████▋| 1923/1976 [10:14<01:30,  1.70s/it]"
     ]
    },
    {
     "name": "stdout",
     "output_type": "stream",
     "text": [
      "Proteome for UP000003180 downloaded successfully.\n"
     ]
    },
    {
     "name": "stderr",
     "output_type": "stream",
     "text": [
      "Downloading Proteomes:  97%|█████████▋| 1924/1976 [10:15<01:22,  1.58s/it]"
     ]
    },
    {
     "name": "stdout",
     "output_type": "stream",
     "text": [
      "Proteome for UP000182719 downloaded successfully.\n"
     ]
    },
    {
     "name": "stderr",
     "output_type": "stream",
     "text": [
      "Downloading Proteomes:  97%|█████████▋| 1925/1976 [10:18<01:39,  1.94s/it]"
     ]
    },
    {
     "name": "stdout",
     "output_type": "stream",
     "text": [
      "Proteome for UP000182975 downloaded successfully.\n"
     ]
    },
    {
     "name": "stderr",
     "output_type": "stream",
     "text": [
      "Downloading Proteomes:  97%|█████████▋| 1926/1976 [10:19<01:25,  1.71s/it]"
     ]
    },
    {
     "name": "stdout",
     "output_type": "stream",
     "text": [
      "Proteome for UP000077018 downloaded successfully.\n"
     ]
    },
    {
     "name": "stderr",
     "output_type": "stream",
     "text": [
      "Downloading Proteomes:  98%|█████████▊| 1927/1976 [10:21<01:34,  1.93s/it]"
     ]
    },
    {
     "name": "stdout",
     "output_type": "stream",
     "text": [
      "Proteome for UP000003600 downloaded successfully.\n"
     ]
    },
    {
     "name": "stderr",
     "output_type": "stream",
     "text": [
      "Downloading Proteomes:  98%|█████████▊| 1928/1976 [10:23<01:28,  1.84s/it]"
     ]
    },
    {
     "name": "stdout",
     "output_type": "stream",
     "text": [
      "Proteome for UP000050867 downloaded successfully.\n"
     ]
    },
    {
     "name": "stderr",
     "output_type": "stream",
     "text": [
      "Downloading Proteomes:  98%|█████████▊| 1929/1976 [10:25<01:29,  1.90s/it]"
     ]
    },
    {
     "name": "stdout",
     "output_type": "stream",
     "text": [
      "Proteome for UP000032430 downloaded successfully.\n"
     ]
    },
    {
     "name": "stderr",
     "output_type": "stream",
     "text": [
      "Downloading Proteomes:  98%|█████████▊| 1930/1976 [10:27<01:23,  1.82s/it]"
     ]
    },
    {
     "name": "stdout",
     "output_type": "stream",
     "text": [
      "Proteome for UP000295357 downloaded successfully.\n"
     ]
    },
    {
     "name": "stderr",
     "output_type": "stream",
     "text": [
      "Downloading Proteomes:  98%|█████████▊| 1931/1976 [10:28<01:19,  1.76s/it]"
     ]
    },
    {
     "name": "stdout",
     "output_type": "stream",
     "text": [
      "Proteome for UP000000333 downloaded successfully.\n"
     ]
    },
    {
     "name": "stderr",
     "output_type": "stream",
     "text": [
      "Downloading Proteomes:  98%|█████████▊| 1932/1976 [10:30<01:12,  1.64s/it]"
     ]
    },
    {
     "name": "stdout",
     "output_type": "stream",
     "text": [
      "Proteome for UP000250207 downloaded successfully.\n"
     ]
    },
    {
     "name": "stderr",
     "output_type": "stream",
     "text": [
      "Downloading Proteomes:  98%|█████████▊| 1933/1976 [10:31<01:07,  1.57s/it]"
     ]
    },
    {
     "name": "stdout",
     "output_type": "stream",
     "text": [
      "Proteome for UP000622166 downloaded successfully.\n"
     ]
    },
    {
     "name": "stderr",
     "output_type": "stream",
     "text": [
      "Downloading Proteomes:  98%|█████████▊| 1934/1976 [10:34<01:24,  2.02s/it]"
     ]
    },
    {
     "name": "stdout",
     "output_type": "stream",
     "text": [
      "Proteome for UP000237061 downloaded successfully.\n"
     ]
    },
    {
     "name": "stderr",
     "output_type": "stream",
     "text": [
      "Downloading Proteomes:  98%|█████████▊| 1935/1976 [10:36<01:19,  1.93s/it]"
     ]
    },
    {
     "name": "stdout",
     "output_type": "stream",
     "text": [
      "Proteome for UP000018850 downloaded successfully.\n"
     ]
    },
    {
     "name": "stderr",
     "output_type": "stream",
     "text": [
      "Downloading Proteomes:  98%|█████████▊| 1936/1976 [10:38<01:14,  1.87s/it]"
     ]
    },
    {
     "name": "stdout",
     "output_type": "stream",
     "text": [
      "Proteome for UP000245396 downloaded successfully.\n"
     ]
    },
    {
     "name": "stderr",
     "output_type": "stream",
     "text": [
      "Downloading Proteomes:  98%|█████████▊| 1937/1976 [10:40<01:13,  1.88s/it]"
     ]
    },
    {
     "name": "stdout",
     "output_type": "stream",
     "text": [
      "Proteome for UP000612233 downloaded successfully.\n"
     ]
    },
    {
     "name": "stderr",
     "output_type": "stream",
     "text": [
      "Downloading Proteomes:  98%|█████████▊| 1938/1976 [10:41<01:11,  1.88s/it]"
     ]
    },
    {
     "name": "stdout",
     "output_type": "stream",
     "text": [
      "Proteome for UP000543804 downloaded successfully.\n"
     ]
    },
    {
     "name": "stderr",
     "output_type": "stream",
     "text": [
      "Downloading Proteomes:  98%|█████████▊| 1939/1976 [10:43<01:02,  1.70s/it]"
     ]
    },
    {
     "name": "stdout",
     "output_type": "stream",
     "text": [
      "Proteome for UP000010474 downloaded successfully.\n"
     ]
    },
    {
     "name": "stderr",
     "output_type": "stream",
     "text": [
      "Downloading Proteomes:  98%|█████████▊| 1940/1976 [10:45<01:08,  1.90s/it]"
     ]
    },
    {
     "name": "stdout",
     "output_type": "stream",
     "text": [
      "Proteome for UP000192907 downloaded successfully.\n"
     ]
    },
    {
     "name": "stderr",
     "output_type": "stream",
     "text": [
      "Downloading Proteomes:  98%|█████████▊| 1941/1976 [10:47<01:11,  2.04s/it]"
     ]
    },
    {
     "name": "stdout",
     "output_type": "stream",
     "text": [
      "Proteome for UP000002318 downloaded successfully.\n"
     ]
    },
    {
     "name": "stderr",
     "output_type": "stream",
     "text": [
      "Downloading Proteomes:  98%|█████████▊| 1942/1976 [10:49<01:08,  2.02s/it]"
     ]
    },
    {
     "name": "stdout",
     "output_type": "stream",
     "text": [
      "Skipping already downloaded proteome: UP000254920\n",
      "Proteome for UP000010386 downloaded successfully.\n"
     ]
    },
    {
     "name": "stderr",
     "output_type": "stream",
     "text": [
      "Downloading Proteomes:  98%|█████████▊| 1944/1976 [10:51<00:47,  1.48s/it]"
     ]
    },
    {
     "name": "stdout",
     "output_type": "stream",
     "text": [
      "Proteome for UP000055047 downloaded successfully.\n"
     ]
    },
    {
     "name": "stderr",
     "output_type": "stream",
     "text": [
      "Downloading Proteomes:  98%|█████████▊| 1945/1976 [10:52<00:42,  1.36s/it]"
     ]
    },
    {
     "name": "stdout",
     "output_type": "stream",
     "text": [
      "Proteome for UP000000555 downloaded successfully.\n"
     ]
    },
    {
     "name": "stderr",
     "output_type": "stream",
     "text": [
      "Downloading Proteomes:  98%|█████████▊| 1946/1976 [10:54<00:41,  1.39s/it]"
     ]
    },
    {
     "name": "stdout",
     "output_type": "stream",
     "text": [
      "Proteome for UP000029644 downloaded successfully.\n"
     ]
    },
    {
     "name": "stderr",
     "output_type": "stream",
     "text": [
      "Downloading Proteomes:  99%|█████████▊| 1947/1976 [10:55<00:43,  1.50s/it]"
     ]
    },
    {
     "name": "stdout",
     "output_type": "stream",
     "text": [
      "Proteome for UP000542125 downloaded successfully.\n"
     ]
    },
    {
     "name": "stderr",
     "output_type": "stream",
     "text": [
      "Downloading Proteomes:  99%|█████████▊| 1948/1976 [10:57<00:46,  1.65s/it]"
     ]
    },
    {
     "name": "stdout",
     "output_type": "stream",
     "text": [
      "Proteome for UP000010380 downloaded successfully.\n"
     ]
    },
    {
     "name": "stderr",
     "output_type": "stream",
     "text": [
      "Downloading Proteomes:  99%|█████████▊| 1949/1976 [11:00<00:50,  1.86s/it]"
     ]
    },
    {
     "name": "stdout",
     "output_type": "stream",
     "text": [
      "Proteome for UP000616595 downloaded successfully.\n"
     ]
    },
    {
     "name": "stderr",
     "output_type": "stream",
     "text": [
      "Downloading Proteomes:  99%|█████████▊| 1950/1976 [11:02<00:46,  1.80s/it]"
     ]
    },
    {
     "name": "stdout",
     "output_type": "stream",
     "text": [
      "Proteome for UP000023482 downloaded successfully.\n"
     ]
    },
    {
     "name": "stderr",
     "output_type": "stream",
     "text": [
      "Downloading Proteomes:  99%|█████████▊| 1951/1976 [11:03<00:42,  1.69s/it]"
     ]
    },
    {
     "name": "stdout",
     "output_type": "stream",
     "text": [
      "Skipping already downloaded proteome: UP000324611\n",
      "Proteome for UP000013520 downloaded successfully.\n"
     ]
    },
    {
     "name": "stderr",
     "output_type": "stream",
     "text": [
      "Downloading Proteomes:  99%|█████████▉| 1953/1976 [11:05<00:31,  1.36s/it]"
     ]
    },
    {
     "name": "stdout",
     "output_type": "stream",
     "text": [
      "Proteome for UP000199025 downloaded successfully.\n"
     ]
    },
    {
     "name": "stderr",
     "output_type": "stream",
     "text": [
      "Downloading Proteomes:  99%|█████████▉| 1954/1976 [11:08<00:38,  1.73s/it]"
     ]
    },
    {
     "name": "stdout",
     "output_type": "stream",
     "text": [
      "Proteome for UP000199412 downloaded successfully.\n"
     ]
    },
    {
     "name": "stderr",
     "output_type": "stream",
     "text": [
      "Downloading Proteomes:  99%|█████████▉| 1955/1976 [11:10<00:36,  1.75s/it]"
     ]
    },
    {
     "name": "stdout",
     "output_type": "stream",
     "text": [
      "Proteome for UP000184418 downloaded successfully.\n"
     ]
    },
    {
     "name": "stderr",
     "output_type": "stream",
     "text": [
      "Downloading Proteomes:  99%|█████████▉| 1956/1976 [11:11<00:35,  1.77s/it]"
     ]
    },
    {
     "name": "stdout",
     "output_type": "stream",
     "text": [
      "Proteome for UP000003639 downloaded successfully.\n"
     ]
    },
    {
     "name": "stderr",
     "output_type": "stream",
     "text": [
      "Downloading Proteomes:  99%|█████████▉| 1957/1976 [11:13<00:32,  1.73s/it]"
     ]
    },
    {
     "name": "stdout",
     "output_type": "stream",
     "text": [
      "Proteome for UP000323166 downloaded successfully.\n"
     ]
    },
    {
     "name": "stderr",
     "output_type": "stream",
     "text": [
      "Downloading Proteomes:  99%|█████████▉| 1958/1976 [11:14<00:29,  1.62s/it]"
     ]
    },
    {
     "name": "stdout",
     "output_type": "stream",
     "text": [
      "Proteome for UP000295788 downloaded successfully.\n"
     ]
    },
    {
     "name": "stderr",
     "output_type": "stream",
     "text": [
      "Downloading Proteomes:  99%|█████████▉| 1959/1976 [11:16<00:25,  1.52s/it]"
     ]
    },
    {
     "name": "stdout",
     "output_type": "stream",
     "text": [
      "Skipping already downloaded proteome: UP000008805\n",
      "Proteome for UP000017838 downloaded successfully.\n"
     ]
    },
    {
     "name": "stderr",
     "output_type": "stream",
     "text": [
      "Downloading Proteomes:  99%|█████████▉| 1961/1976 [11:17<00:17,  1.17s/it]"
     ]
    },
    {
     "name": "stdout",
     "output_type": "stream",
     "text": [
      "Proteome for UP000199651 downloaded successfully.\n"
     ]
    },
    {
     "name": "stderr",
     "output_type": "stream",
     "text": [
      "Downloading Proteomes:  99%|█████████▉| 1962/1976 [11:19<00:20,  1.46s/it]"
     ]
    },
    {
     "name": "stdout",
     "output_type": "stream",
     "text": [
      "Proteome for UP000246635 downloaded successfully.\n"
     ]
    },
    {
     "name": "stderr",
     "output_type": "stream",
     "text": [
      "Downloading Proteomes:  99%|█████████▉| 1963/1976 [11:22<00:21,  1.67s/it]"
     ]
    },
    {
     "name": "stdout",
     "output_type": "stream",
     "text": [
      "Proteome for UP000238650 downloaded successfully.\n"
     ]
    },
    {
     "name": "stderr",
     "output_type": "stream",
     "text": [
      "Downloading Proteomes:  99%|█████████▉| 1964/1976 [11:23<00:18,  1.58s/it]"
     ]
    },
    {
     "name": "stdout",
     "output_type": "stream",
     "text": [
      "Proteome for UP000003987 downloaded successfully.\n"
     ]
    },
    {
     "name": "stderr",
     "output_type": "stream",
     "text": [
      "Downloading Proteomes:  99%|█████████▉| 1965/1976 [11:24<00:16,  1.45s/it]"
     ]
    },
    {
     "name": "stdout",
     "output_type": "stream",
     "text": [
      "Proteome for UP000254848 downloaded successfully.\n"
     ]
    },
    {
     "name": "stderr",
     "output_type": "stream",
     "text": [
      "Downloading Proteomes:  99%|█████████▉| 1966/1976 [11:26<00:15,  1.55s/it]"
     ]
    },
    {
     "name": "stdout",
     "output_type": "stream",
     "text": [
      "Proteome for UP000587462 downloaded successfully.\n"
     ]
    },
    {
     "name": "stderr",
     "output_type": "stream",
     "text": [
      "Downloading Proteomes: 100%|█████████▉| 1967/1976 [11:28<00:15,  1.75s/it]"
     ]
    },
    {
     "name": "stdout",
     "output_type": "stream",
     "text": [
      "Proteome for UP000295172 downloaded successfully.\n"
     ]
    },
    {
     "name": "stderr",
     "output_type": "stream",
     "text": [
      "Downloading Proteomes: 100%|█████████▉| 1968/1976 [11:32<00:18,  2.31s/it]"
     ]
    },
    {
     "name": "stdout",
     "output_type": "stream",
     "text": [
      "Proteome for UP000009226 downloaded successfully.\n"
     ]
    },
    {
     "name": "stderr",
     "output_type": "stream",
     "text": [
      "Downloading Proteomes: 100%|█████████▉| 1969/1976 [11:34<00:14,  2.11s/it]"
     ]
    },
    {
     "name": "stdout",
     "output_type": "stream",
     "text": [
      "Proteome for UP000235945 downloaded successfully.\n"
     ]
    },
    {
     "name": "stderr",
     "output_type": "stream",
     "text": [
      "Downloading Proteomes: 100%|█████████▉| 1970/1976 [11:36<00:13,  2.24s/it]"
     ]
    },
    {
     "name": "stdout",
     "output_type": "stream",
     "text": [
      "Proteome for UP000000852 downloaded successfully.\n"
     ]
    },
    {
     "name": "stderr",
     "output_type": "stream",
     "text": [
      "Downloading Proteomes: 100%|█████████▉| 1971/1976 [11:38<00:10,  2.05s/it]"
     ]
    },
    {
     "name": "stdout",
     "output_type": "stream",
     "text": [
      "Proteome for UP000002939 downloaded successfully.\n"
     ]
    },
    {
     "name": "stderr",
     "output_type": "stream",
     "text": [
      "Downloading Proteomes: 100%|█████████▉| 1972/1976 [11:39<00:07,  1.92s/it]"
     ]
    },
    {
     "name": "stdout",
     "output_type": "stream",
     "text": [
      "Skipping already downloaded proteome: UP000006085\n",
      "Proteome for UP000238034 downloaded successfully.\n"
     ]
    },
    {
     "name": "stderr",
     "output_type": "stream",
     "text": [
      "Downloading Proteomes: 100%|█████████▉| 1974/1976 [11:41<00:02,  1.43s/it]"
     ]
    },
    {
     "name": "stdout",
     "output_type": "stream",
     "text": [
      "Proteome for UP000195713 downloaded successfully.\n"
     ]
    },
    {
     "name": "stderr",
     "output_type": "stream",
     "text": [
      "Downloading Proteomes: 100%|█████████▉| 1975/1976 [11:42<00:01,  1.39s/it]"
     ]
    },
    {
     "name": "stdout",
     "output_type": "stream",
     "text": [
      "Proteome for UP000198432 downloaded successfully.\n"
     ]
    },
    {
     "name": "stderr",
     "output_type": "stream",
     "text": [
      "Downloading Proteomes: 100%|██████████| 1976/1976 [11:44<00:00,  2.80it/s]\n"
     ]
    }
   ],
   "source": [
    "# TRY USING UNIPROT\n",
    "\n",
    "import requests\n",
    "import os\n",
    "import time\n",
    "from tqdm import tqdm\n",
    "\n",
    "# Function to download proteome using the new UniProt API\n",
    "def download_proteome(reference_proteome, output_dir=\"proteomes\"):\n",
    "    \"\"\"\n",
    "    Download the proteome of a given bacteria using the updated UniProt REST API.\n",
    "    \"\"\"\n",
    "    url = (f'https://rest.uniprot.org/uniprotkb/stream?compressed=false&format=fasta&query=%28%28proteome%3A{reference_proteome}%29%29')\n",
    "    \n",
    "    # Send the request to the UniProt API\n",
    "    response = requests.get(url)\n",
    "    \n",
    "    # Check if the request was successful\n",
    "    if response.status_code == 200:\n",
    "        # Create output directory if it doesn't exist\n",
    "        os.makedirs(output_dir, exist_ok=True)\n",
    "        \n",
    "        # Save the proteome data to a file\n",
    "        filename = os.path.join(output_dir, f\"{reference_proteome}_proteome.fasta\")\n",
    "        with open(filename, \"w\") as file:\n",
    "            file.write(response.text)\n",
    "        print(f\"Proteome for {reference_proteome} downloaded successfully.\")\n",
    "        return True\n",
    "    else:\n",
    "        # Log the failure\n",
    "        print(f\"Failed to fetch proteome for {reference_proteome}: {response.status_code}\")\n",
    "        print(f\"Error details: {response.text}\")\n",
    "        return False\n",
    "\n",
    "# Main function to handle downloading with resumption\n",
    "def download_proteomes_with_resumption(proteome_ids, output_dir=\"proteomes\", resume_file=\"completed_ids.txt\"):\n",
    "    \"\"\"\n",
    "    Download proteomes with the ability to resume after interruption.\n",
    "    \"\"\"\n",
    "    # Load completed IDs if resume file exists\n",
    "    if os.path.exists(resume_file):\n",
    "        with open(resume_file, \"r\") as file:\n",
    "            completed_ids = set(line.strip() for line in file.readlines())\n",
    "    else:\n",
    "        completed_ids = set()\n",
    "\n",
    "    # Open resume file in append mode to update as downloads complete\n",
    "    with open(resume_file, \"a\") as resume_log:\n",
    "        # Iterate over proteome IDs with a progress bar\n",
    "        for proteome_id in tqdm(proteome_ids, desc=\"Downloading Proteomes\"):\n",
    "            if proteome_id in completed_ids:\n",
    "                print(f\"Skipping already downloaded proteome: {proteome_id}\")\n",
    "                continue\n",
    "            \n",
    "            # Attempt to download the proteome\n",
    "            success = download_proteome(proteome_id, output_dir=output_dir)\n",
    "            \n",
    "            if success:\n",
    "                # Log the completed ID to the resume file\n",
    "                resume_log.write(proteome_id + \"\\n\")\n",
    "                resume_log.flush()  # Ensure the log is written immediately\n",
    "\n",
    "            # Add a delay to avoid hitting rate limits\n",
    "            time.sleep(0.3)\n",
    "\n",
    "# Example usage with a list of proteome IDs\n",
    "#proteome_ids = [\"UP000005640\", \"UP000006548\", \"UP000000589\"]  # Replace with your list of proteome IDs\n",
    "\n",
    "download_proteomes_with_resumption(proteome_ids, output_dir=\"C:/Users/lorenzo/Desktop/datasets/bacteria_proteomes\")\n",
    "\n"
   ]
  }
 ],
 "metadata": {
  "kernelspec": {
   "display_name": "esm",
   "language": "python",
   "name": "python3"
  },
  "language_info": {
   "codemirror_mode": {
    "name": "ipython",
    "version": 3
   },
   "file_extension": ".py",
   "mimetype": "text/x-python",
   "name": "python",
   "nbconvert_exporter": "python",
   "pygments_lexer": "ipython3",
   "version": "3.9.19"
  }
 },
 "nbformat": 4,
 "nbformat_minor": 5
}
