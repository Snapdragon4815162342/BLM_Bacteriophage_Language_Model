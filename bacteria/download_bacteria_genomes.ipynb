{
 "cells": [
  {
   "cell_type": "code",
   "execution_count": 1,
   "id": "99bce554-ddb8-4ba0-a2de-ca575128f7f3",
   "metadata": {},
   "outputs": [],
   "source": [
    "import pandas as pd"
   ]
  },
  {
   "cell_type": "code",
   "execution_count": 2,
   "id": "b4752c58-cdf9-4ebc-bc79-cffe863facd9",
   "metadata": {},
   "outputs": [
    {
     "data": {
      "text/plain": [
       "0                             bacterium\n",
       "1         TM7 phylum sp. oral taxon 352\n",
       "2                [Eubacterium] infirmum\n",
       "3         TM7 phylum sp. oral taxon 348\n",
       "4                [Eubacterium] infirmum\n",
       "                     ...               \n",
       "5103    Arcticibacter pallidicorallinus\n",
       "5104              Massilimicrobiota sp.\n",
       "5105            Pontibacter ummariensis\n",
       "5106               Bacillus sp. KBS0812\n",
       "5107          Anaeromusa acidaminophila\n",
       "Name: species, Length: 5108, dtype: object"
      ]
     },
     "execution_count": 2,
     "metadata": {},
     "output_type": "execute_result"
    }
   ],
   "source": [
    "bacteria_series = pd.read_csv(\"bacteria_species.csv\")\n",
    "bacteria_series = bacteria_series['species']\n",
    "bacteria_series"
   ]
  },
  {
   "cell_type": "code",
   "execution_count": 3,
   "id": "29f31231",
   "metadata": {},
   "outputs": [
    {
     "data": {
      "text/plain": [
       "0                             bacterium\n",
       "1                            TM7 phylum\n",
       "2                  Eubacterium infirmum\n",
       "5                    bacterium 1xD42-67\n",
       "7                     bacterium YEK0313\n",
       "                     ...               \n",
       "5102              Corynebacterium sputi\n",
       "5103    Arcticibacter pallidicorallinus\n",
       "5104                  Massilimicrobiota\n",
       "5105            Pontibacter ummariensis\n",
       "5107          Anaeromusa acidaminophila\n",
       "Name: species, Length: 4682, dtype: object"
      ]
     },
     "execution_count": 3,
     "metadata": {},
     "output_type": "execute_result"
    }
   ],
   "source": [
    "import pandas as pd\n",
    "\n",
    "# Clean bacterial names\n",
    "def clean_bacteria_name(name):\n",
    "    name = name.replace('[', '').replace(']', '').strip()  # Remove brackets\n",
    "    if 'sp.' in name:  # Handle species abbreviations\n",
    "        name = name.split('sp.')[0].strip()\n",
    "    return name\n",
    "\n",
    "bacteria_series = bacteria_series.apply(clean_bacteria_name).drop_duplicates()\n",
    "bacteria_series\n",
    "#bacteria_series_cleaned"
   ]
  },
  {
   "cell_type": "code",
   "execution_count": 4,
   "id": "fa79adbe",
   "metadata": {},
   "outputs": [
    {
     "data": {
      "text/html": [
       "<div>\n",
       "<style scoped>\n",
       "    .dataframe tbody tr th:only-of-type {\n",
       "        vertical-align: middle;\n",
       "    }\n",
       "\n",
       "    .dataframe tbody tr th {\n",
       "        vertical-align: top;\n",
       "    }\n",
       "\n",
       "    .dataframe thead th {\n",
       "        text-align: right;\n",
       "    }\n",
       "</style>\n",
       "<table border=\"1\" class=\"dataframe\">\n",
       "  <thead>\n",
       "    <tr style=\"text-align: right;\">\n",
       "      <th></th>\n",
       "      <th>Proteome_ID</th>\n",
       "      <th>Tax_ID</th>\n",
       "      <th>OSCODE</th>\n",
       "      <th>SUPERREGNUM</th>\n",
       "      <th>#(1)</th>\n",
       "      <th>#(2)</th>\n",
       "      <th>#(3)</th>\n",
       "      <th>Species Name</th>\n",
       "    </tr>\n",
       "  </thead>\n",
       "  <tbody>\n",
       "    <tr>\n",
       "      <th>0</th>\n",
       "      <td>UP000521578</td>\n",
       "      <td>47692</td>\n",
       "      <td>NaN</td>\n",
       "      <td>eukaryota</td>\n",
       "      <td>14416</td>\n",
       "      <td>0</td>\n",
       "      <td>14442</td>\n",
       "      <td>Menura novaehollandiae (superb lyrebird)</td>\n",
       "    </tr>\n",
       "    <tr>\n",
       "      <th>1</th>\n",
       "      <td>UP000029743</td>\n",
       "      <td>1554474</td>\n",
       "      <td>ROSV2</td>\n",
       "      <td>viruses</td>\n",
       "      <td>1</td>\n",
       "      <td>0</td>\n",
       "      <td>1</td>\n",
       "      <td>Rosavirus A2 (isolate Human/Gambia/GA7403/2008)</td>\n",
       "    </tr>\n",
       "    <tr>\n",
       "      <th>2</th>\n",
       "      <td>UP000628017</td>\n",
       "      <td>2035344</td>\n",
       "      <td>NaN</td>\n",
       "      <td>bacteria</td>\n",
       "      <td>3942</td>\n",
       "      <td>0</td>\n",
       "      <td>3942</td>\n",
       "      <td>Amylibacter cionae</td>\n",
       "    </tr>\n",
       "    <tr>\n",
       "      <th>3</th>\n",
       "      <td>UP001232722</td>\n",
       "      <td>2664220</td>\n",
       "      <td>NaN</td>\n",
       "      <td>viruses</td>\n",
       "      <td>2</td>\n",
       "      <td>0</td>\n",
       "      <td>2</td>\n",
       "      <td>Tadarida brasiliensis gemykibivirus 1</td>\n",
       "    </tr>\n",
       "    <tr>\n",
       "      <th>4</th>\n",
       "      <td>UP000248311</td>\n",
       "      <td>1795041</td>\n",
       "      <td>NaN</td>\n",
       "      <td>bacteria</td>\n",
       "      <td>3295</td>\n",
       "      <td>0</td>\n",
       "      <td>3300</td>\n",
       "      <td>Pseudoroseicyclus aestuarii</td>\n",
       "    </tr>\n",
       "    <tr>\n",
       "      <th>...</th>\n",
       "      <td>...</td>\n",
       "      <td>...</td>\n",
       "      <td>...</td>\n",
       "      <td>...</td>\n",
       "      <td>...</td>\n",
       "      <td>...</td>\n",
       "      <td>...</td>\n",
       "      <td>...</td>\n",
       "    </tr>\n",
       "    <tr>\n",
       "      <th>24950</th>\n",
       "      <td>UP000203542</td>\n",
       "      <td>2560777</td>\n",
       "      <td>NaN</td>\n",
       "      <td>viruses</td>\n",
       "      <td>83</td>\n",
       "      <td>0</td>\n",
       "      <td>83</td>\n",
       "      <td>Spheniscid alphaherpesvirus 1</td>\n",
       "    </tr>\n",
       "    <tr>\n",
       "      <th>24951</th>\n",
       "      <td>UP000273303</td>\n",
       "      <td>2490946</td>\n",
       "      <td>NaN</td>\n",
       "      <td>bacteria</td>\n",
       "      <td>2387</td>\n",
       "      <td>0</td>\n",
       "      <td>2391</td>\n",
       "      <td>Actinobaculum sp. 352</td>\n",
       "    </tr>\n",
       "    <tr>\n",
       "      <th>24952</th>\n",
       "      <td>UP000031129</td>\n",
       "      <td>743971</td>\n",
       "      <td>NaN</td>\n",
       "      <td>bacteria</td>\n",
       "      <td>553</td>\n",
       "      <td>0</td>\n",
       "      <td>563</td>\n",
       "      <td>Mesomycoplasma flocculare ATCC 27399</td>\n",
       "    </tr>\n",
       "    <tr>\n",
       "      <th>24953</th>\n",
       "      <td>UP000000814</td>\n",
       "      <td>272562</td>\n",
       "      <td>CLOAB</td>\n",
       "      <td>bacteria</td>\n",
       "      <td>3847</td>\n",
       "      <td>0</td>\n",
       "      <td>3847</td>\n",
       "      <td>Clostridium acetobutylicum (strain ATCC 824 / ...</td>\n",
       "    </tr>\n",
       "    <tr>\n",
       "      <th>24954</th>\n",
       "      <td>UP000000725</td>\n",
       "      <td>155148</td>\n",
       "      <td>BPHK6</td>\n",
       "      <td>viruses</td>\n",
       "      <td>58</td>\n",
       "      <td>0</td>\n",
       "      <td>58</td>\n",
       "      <td>Enterobacteria phage HK620 (Bacteriophage HK620)</td>\n",
       "    </tr>\n",
       "  </tbody>\n",
       "</table>\n",
       "<p>24955 rows × 8 columns</p>\n",
       "</div>"
      ],
      "text/plain": [
       "       Proteome_ID   Tax_ID OSCODE SUPERREGNUM   #(1)  #(2)   #(3)  \\\n",
       "0      UP000521578    47692    NaN   eukaryota  14416     0  14442   \n",
       "1      UP000029743  1554474  ROSV2     viruses      1     0      1   \n",
       "2      UP000628017  2035344    NaN    bacteria   3942     0   3942   \n",
       "3      UP001232722  2664220    NaN     viruses      2     0      2   \n",
       "4      UP000248311  1795041    NaN    bacteria   3295     0   3300   \n",
       "...            ...      ...    ...         ...    ...   ...    ...   \n",
       "24950  UP000203542  2560777    NaN     viruses     83     0     83   \n",
       "24951  UP000273303  2490946    NaN    bacteria   2387     0   2391   \n",
       "24952  UP000031129   743971    NaN    bacteria    553     0    563   \n",
       "24953  UP000000814   272562  CLOAB    bacteria   3847     0   3847   \n",
       "24954  UP000000725   155148  BPHK6     viruses     58     0     58   \n",
       "\n",
       "                                            Species Name  \n",
       "0               Menura novaehollandiae (superb lyrebird)  \n",
       "1        Rosavirus A2 (isolate Human/Gambia/GA7403/2008)  \n",
       "2                                     Amylibacter cionae  \n",
       "3                  Tadarida brasiliensis gemykibivirus 1  \n",
       "4                            Pseudoroseicyclus aestuarii  \n",
       "...                                                  ...  \n",
       "24950                      Spheniscid alphaherpesvirus 1  \n",
       "24951                              Actinobaculum sp. 352  \n",
       "24952               Mesomycoplasma flocculare ATCC 27399  \n",
       "24953  Clostridium acetobutylicum (strain ATCC 824 / ...  \n",
       "24954   Enterobacteria phage HK620 (Bacteriophage HK620)  \n",
       "\n",
       "[24955 rows x 8 columns]"
      ]
     },
     "execution_count": 4,
     "metadata": {},
     "output_type": "execute_result"
    }
   ],
   "source": [
    "import pandas as pd\n",
    "\n",
    "# Load the CSV into a pandas DataFrame\n",
    "df = pd.read_csv(\"uniprot_reference_proteomes_ids.csv\", sep = ';')\n",
    "df\n"
   ]
  },
  {
   "cell_type": "code",
   "execution_count": 5,
   "id": "1dcaf0de",
   "metadata": {},
   "outputs": [
    {
     "name": "stdout",
     "output_type": "stream",
     "text": [
      "1976\n",
      "0       UP000198817\n",
      "2       UP000004504\n",
      "5       UP000270441\n",
      "7       UP000236625\n",
      "8       UP000001410\n",
      "           ...     \n",
      "5098    UP000002939\n",
      "5099    UP000006085\n",
      "5103    UP000238034\n",
      "5104    UP000195713\n",
      "5105    UP000198432\n",
      "Name: species, Length: 1976, dtype: object\n"
     ]
    }
   ],
   "source": [
    "\n",
    "\n",
    "# Filter the DataFrame for bacteria\n",
    "bacteria_df = df[df[\"SUPERREGNUM\"] == \"bacteria\"]\n",
    "\n",
    "# Create a function for loose matching\n",
    "def find_proteome_id(name, species_column, proteome_column):\n",
    "    for index, species in enumerate(species_column):\n",
    "        if name in species:  # Check if the name is a substring of the species\n",
    "            return proteome_column.iloc[index]\n",
    "    return None\n",
    "\n",
    "# Map the bacteria names in the Series to their Proteome_ID using loose matching\n",
    "proteome_ids = bacteria_series.apply(\n",
    "    lambda name: find_proteome_id(name, bacteria_df[\"Species Name\"], bacteria_df[\"Proteome_ID\"])\n",
    ")\n",
    "\n",
    "# Drop NaN values and output the result\n",
    "proteome_ids = proteome_ids.dropna()\n",
    "print(len(proteome_ids))  # Count of matches\n",
    "print(proteome_ids)  # Matched Proteome_IDs\n"
   ]
  },
  {
   "cell_type": "code",
   "execution_count": null,
   "id": "b6a4fbf1",
   "metadata": {},
   "outputs": [
    {
     "name": "stderr",
     "output_type": "stream",
     "text": [
      "Downloading Proteomes:   0%|          | 0/1976 [00:00<?, ?it/s]"
     ]
    },
    {
     "name": "stdout",
     "output_type": "stream",
     "text": [
      "Skipping already downloaded proteome: UP000198817\n",
      "Skipping already downloaded proteome: UP000004504\n",
      "Skipping already downloaded proteome: UP000270441\n",
      "Skipping already downloaded proteome: UP000236625\n",
      "Skipping already downloaded proteome: UP000001410\n",
      "Skipping already downloaded proteome: UP000008816\n",
      "Skipping already downloaded proteome: UP000002230\n",
      "Skipping already downloaded proteome: UP000001118\n",
      "Skipping already downloaded proteome: UP000001436\n",
      "Skipping already downloaded proteome: UP000001415\n",
      "Skipping already downloaded proteome: UP000002438\n",
      "Skipping already downloaded proteome: UP000000584\n",
      "Skipping already downloaded proteome: UP000001570\n",
      "Skipping already downloaded proteome: UP000001986\n",
      "Skipping already downloaded proteome: UP000006735\n",
      "Skipping already downloaded proteome: UP000001062\n",
      "Skipping already downloaded proteome: UP000248731\n",
      "Skipping already downloaded proteome: UP000000532\n",
      "Proteome for UP000001735 downloaded successfully.\n"
     ]
    },
    {
     "name": "stderr",
     "output_type": "stream",
     "text": [
      "Downloading Proteomes:   1%|          | 19/1976 [00:01<01:50, 17.68it/s]"
     ]
    },
    {
     "name": "stdout",
     "output_type": "stream",
     "text": [
      "Proteome for UP000255382 downloaded successfully.\n",
      "Proteome for UP000049472 downloaded successfully.\n"
     ]
    },
    {
     "name": "stderr",
     "output_type": "stream",
     "text": [
      "Downloading Proteomes:   1%|          | 21/1976 [00:05<10:17,  3.17it/s]"
     ]
    },
    {
     "name": "stdout",
     "output_type": "stream",
     "text": [
      "Proteome for UP000000809 downloaded successfully.\n"
     ]
    },
    {
     "name": "stderr",
     "output_type": "stream",
     "text": [
      "Downloading Proteomes:   1%|          | 22/1976 [00:06<12:57,  2.51it/s]"
     ]
    },
    {
     "name": "stdout",
     "output_type": "stream",
     "text": [
      "Proteome for UP000001417 downloaded successfully.\n"
     ]
    },
    {
     "name": "stderr",
     "output_type": "stream",
     "text": [
      "Downloading Proteomes:   1%|          | 23/1976 [00:08<19:41,  1.65it/s]"
     ]
    },
    {
     "name": "stdout",
     "output_type": "stream",
     "text": [
      "Proteome for UP000002198 downloaded successfully.\n"
     ]
    },
    {
     "name": "stderr",
     "output_type": "stream",
     "text": [
      "Downloading Proteomes:   1%|          | 24/1976 [00:09<22:27,  1.45it/s]"
     ]
    },
    {
     "name": "stdout",
     "output_type": "stream",
     "text": [
      "Proteome for UP000002430 downloaded successfully.\n"
     ]
    },
    {
     "name": "stderr",
     "output_type": "stream",
     "text": [
      "Downloading Proteomes:   1%|▏         | 25/1976 [00:11<24:40,  1.32it/s]"
     ]
    },
    {
     "name": "stdout",
     "output_type": "stream",
     "text": [
      "Proteome for UP000001978 downloaded successfully.\n"
     ]
    },
    {
     "name": "stderr",
     "output_type": "stream",
     "text": [
      "Downloading Proteomes:   1%|▏         | 26/1976 [00:13<31:40,  1.03it/s]"
     ]
    },
    {
     "name": "stdout",
     "output_type": "stream",
     "text": [
      "Proteome for UP000678348 downloaded successfully.\n"
     ]
    },
    {
     "name": "stderr",
     "output_type": "stream",
     "text": [
      "Downloading Proteomes:   1%|▏         | 27/1976 [00:14<35:09,  1.08s/it]"
     ]
    },
    {
     "name": "stdout",
     "output_type": "stream",
     "text": [
      "Proteome for UP000000821 downloaded successfully.\n"
     ]
    },
    {
     "name": "stderr",
     "output_type": "stream",
     "text": [
      "Downloading Proteomes:   1%|▏         | 28/1976 [00:15<36:39,  1.13s/it]"
     ]
    },
    {
     "name": "stdout",
     "output_type": "stream",
     "text": [
      "Proteome for UP000000750 downloaded successfully.\n"
     ]
    },
    {
     "name": "stderr",
     "output_type": "stream",
     "text": [
      "Downloading Proteomes:   1%|▏         | 29/1976 [00:17<39:37,  1.22s/it]"
     ]
    },
    {
     "name": "stdout",
     "output_type": "stream",
     "text": [
      "Proteome for UP000012675 downloaded successfully.\n"
     ]
    },
    {
     "name": "stderr",
     "output_type": "stream",
     "text": [
      "Downloading Proteomes:   2%|▏         | 30/1976 [00:19<43:59,  1.36s/it]"
     ]
    },
    {
     "name": "stdout",
     "output_type": "stream",
     "text": [
      "Proteome for UP000001697 downloaded successfully.\n"
     ]
    },
    {
     "name": "stderr",
     "output_type": "stream",
     "text": [
      "Downloading Proteomes:   2%|▏         | 31/1976 [00:19<38:11,  1.18s/it]"
     ]
    },
    {
     "name": "stdout",
     "output_type": "stream",
     "text": [
      "Proteome for UP000001889 downloaded successfully.\n"
     ]
    },
    {
     "name": "stderr",
     "output_type": "stream",
     "text": [
      "Downloading Proteomes:   2%|▏         | 32/1976 [00:21<46:01,  1.42s/it]"
     ]
    },
    {
     "name": "stdout",
     "output_type": "stream",
     "text": [
      "Proteome for UP000005156 downloaded successfully.\n"
     ]
    },
    {
     "name": "stderr",
     "output_type": "stream",
     "text": [
      "Downloading Proteomes:   2%|▏         | 33/1976 [00:23<45:48,  1.41s/it]"
     ]
    },
    {
     "name": "stdout",
     "output_type": "stream",
     "text": [
      "Proteome for UP000007477 downloaded successfully.\n"
     ]
    },
    {
     "name": "stderr",
     "output_type": "stream",
     "text": [
      "Downloading Proteomes:   2%|▏         | 34/1976 [00:24<49:13,  1.52s/it]"
     ]
    },
    {
     "name": "stdout",
     "output_type": "stream",
     "text": [
      "Proteome for UP000001173 downloaded successfully.\n"
     ]
    },
    {
     "name": "stderr",
     "output_type": "stream",
     "text": [
      "Downloading Proteomes:   2%|▏         | 35/1976 [00:26<46:50,  1.45s/it]"
     ]
    },
    {
     "name": "stdout",
     "output_type": "stream",
     "text": [
      "Proteome for UP000254807 downloaded successfully.\n"
     ]
    },
    {
     "name": "stderr",
     "output_type": "stream",
     "text": [
      "Downloading Proteomes:   2%|▏         | 36/1976 [00:27<49:10,  1.52s/it]"
     ]
    },
    {
     "name": "stdout",
     "output_type": "stream",
     "text": [
      "Proteome for UP000009077 downloaded successfully.\n"
     ]
    },
    {
     "name": "stderr",
     "output_type": "stream",
     "text": [
      "Downloading Proteomes:   2%|▏         | 37/1976 [00:29<47:34,  1.47s/it]"
     ]
    },
    {
     "name": "stdout",
     "output_type": "stream",
     "text": [
      "Proteome for UP000001420 downloaded successfully.\n"
     ]
    },
    {
     "name": "stderr",
     "output_type": "stream",
     "text": [
      "Downloading Proteomes:   2%|▏         | 38/1976 [00:30<44:49,  1.39s/it]"
     ]
    },
    {
     "name": "stdout",
     "output_type": "stream",
     "text": [
      "Proteome for UP000001020 downloaded successfully.\n"
     ]
    },
    {
     "name": "stderr",
     "output_type": "stream",
     "text": [
      "Downloading Proteomes:   2%|▏         | 39/1976 [00:32<50:00,  1.55s/it]"
     ]
    },
    {
     "name": "stdout",
     "output_type": "stream",
     "text": [
      "Proteome for UP000005740 downloaded successfully.\n"
     ]
    },
    {
     "name": "stderr",
     "output_type": "stream",
     "text": [
      "Downloading Proteomes:   2%|▏         | 40/1976 [00:34<50:46,  1.57s/it]"
     ]
    },
    {
     "name": "stdout",
     "output_type": "stream",
     "text": [
      "Proteome for UP000028631 downloaded successfully.\n"
     ]
    },
    {
     "name": "stderr",
     "output_type": "stream",
     "text": [
      "Downloading Proteomes:   2%|▏         | 41/1976 [00:36<55:18,  1.71s/it]"
     ]
    },
    {
     "name": "stdout",
     "output_type": "stream",
     "text": [
      "Proteome for UP000000556 downloaded successfully.\n"
     ]
    },
    {
     "name": "stderr",
     "output_type": "stream",
     "text": [
      "Downloading Proteomes:   2%|▏         | 42/1976 [00:38<1:03:58,  1.98s/it]"
     ]
    },
    {
     "name": "stdout",
     "output_type": "stream",
     "text": [
      "Proteome for UP000646478 downloaded successfully.\n"
     ]
    },
    {
     "name": "stderr",
     "output_type": "stream",
     "text": [
      "Downloading Proteomes:   2%|▏         | 43/1976 [00:40<1:05:36,  2.04s/it]"
     ]
    },
    {
     "name": "stdout",
     "output_type": "stream",
     "text": [
      "Proteome for UP000000605 downloaded successfully.\n"
     ]
    },
    {
     "name": "stderr",
     "output_type": "stream",
     "text": [
      "Downloading Proteomes:   2%|▏         | 44/1976 [00:43<1:09:07,  2.15s/it]"
     ]
    },
    {
     "name": "stdout",
     "output_type": "stream",
     "text": [
      "Proteome for UP000000432 downloaded successfully.\n"
     ]
    },
    {
     "name": "stderr",
     "output_type": "stream",
     "text": [
      "Downloading Proteomes:   2%|▏         | 45/1976 [00:44<1:05:11,  2.03s/it]"
     ]
    },
    {
     "name": "stdout",
     "output_type": "stream",
     "text": [
      "Proteome for UP000000586 downloaded successfully.\n"
     ]
    },
    {
     "name": "stderr",
     "output_type": "stream",
     "text": [
      "Downloading Proteomes:   2%|▏         | 46/1976 [00:46<58:53,  1.83s/it]  "
     ]
    },
    {
     "name": "stdout",
     "output_type": "stream",
     "text": [
      "Proteome for UP000000817 downloaded successfully.\n"
     ]
    },
    {
     "name": "stderr",
     "output_type": "stream",
     "text": [
      "Downloading Proteomes:   2%|▏         | 47/1976 [00:47<56:33,  1.76s/it]"
     ]
    },
    {
     "name": "stdout",
     "output_type": "stream",
     "text": [
      "Proteome for UP000481043 downloaded successfully.\n"
     ]
    },
    {
     "name": "stderr",
     "output_type": "stream",
     "text": [
      "Downloading Proteomes:   2%|▏         | 48/1976 [00:49<56:30,  1.76s/it]"
     ]
    },
    {
     "name": "stdout",
     "output_type": "stream",
     "text": [
      "Proteome for UP000240206 downloaded successfully.\n"
     ]
    },
    {
     "name": "stderr",
     "output_type": "stream",
     "text": [
      "Downloading Proteomes:   2%|▏         | 49/1976 [00:51<53:46,  1.67s/it]"
     ]
    },
    {
     "name": "stdout",
     "output_type": "stream",
     "text": [
      "Proteome for UP000008840 downloaded successfully.\n"
     ]
    },
    {
     "name": "stderr",
     "output_type": "stream",
     "text": [
      "Downloading Proteomes:   3%|▎         | 50/1976 [00:53<57:14,  1.78s/it]"
     ]
    },
    {
     "name": "stdout",
     "output_type": "stream",
     "text": [
      "Proteome for UP000557042 downloaded successfully.\n"
     ]
    },
    {
     "name": "stderr",
     "output_type": "stream",
     "text": [
      "Downloading Proteomes:   3%|▎         | 51/1976 [00:54<53:28,  1.67s/it]"
     ]
    },
    {
     "name": "stdout",
     "output_type": "stream",
     "text": [
      "Proteome for UP000000815 downloaded successfully.\n"
     ]
    },
    {
     "name": "stderr",
     "output_type": "stream",
     "text": [
      "Downloading Proteomes:   3%|▎         | 52/1976 [00:56<59:53,  1.87s/it]"
     ]
    },
    {
     "name": "stdout",
     "output_type": "stream",
     "text": [
      "Proteome for UP000001131 downloaded successfully.\n"
     ]
    },
    {
     "name": "stderr",
     "output_type": "stream",
     "text": [
      "Downloading Proteomes:   3%|▎         | 53/1976 [00:58<54:45,  1.71s/it]"
     ]
    },
    {
     "name": "stdout",
     "output_type": "stream",
     "text": [
      "Proteome for UP000001036 downloaded successfully.\n"
     ]
    },
    {
     "name": "stderr",
     "output_type": "stream",
     "text": [
      "Downloading Proteomes:   3%|▎         | 54/1976 [00:59<54:46,  1.71s/it]"
     ]
    },
    {
     "name": "stdout",
     "output_type": "stream",
     "text": [
      "Proteome for UP000254920 downloaded successfully.\n"
     ]
    },
    {
     "name": "stderr",
     "output_type": "stream",
     "text": [
      "Downloading Proteomes:   3%|▎         | 55/1976 [01:01<49:21,  1.54s/it]"
     ]
    },
    {
     "name": "stdout",
     "output_type": "stream",
     "text": [
      "Proteome for UP000254640 downloaded successfully.\n"
     ]
    },
    {
     "name": "stderr",
     "output_type": "stream",
     "text": [
      "Downloading Proteomes:   3%|▎         | 56/1976 [01:03<55:42,  1.74s/it]"
     ]
    },
    {
     "name": "stdout",
     "output_type": "stream",
     "text": [
      "Proteome for UP000001726 downloaded successfully.\n"
     ]
    },
    {
     "name": "stderr",
     "output_type": "stream",
     "text": [
      "Downloading Proteomes:   3%|▎         | 57/1976 [01:04<54:27,  1.70s/it]"
     ]
    },
    {
     "name": "stdout",
     "output_type": "stream",
     "text": [
      "Proteome for UP000000799 downloaded successfully.\n"
     ]
    },
    {
     "name": "stderr",
     "output_type": "stream",
     "text": [
      "Downloading Proteomes:   3%|▎         | 58/1976 [01:06<49:04,  1.53s/it]"
     ]
    },
    {
     "name": "stdout",
     "output_type": "stream",
     "text": [
      "Proteome for UP000003917 downloaded successfully.\n"
     ]
    },
    {
     "name": "stderr",
     "output_type": "stream",
     "text": [
      "Downloading Proteomes:   3%|▎         | 59/1976 [01:08<53:31,  1.68s/it]"
     ]
    },
    {
     "name": "stdout",
     "output_type": "stream",
     "text": [
      "Proteome for UP000017248 downloaded successfully.\n"
     ]
    },
    {
     "name": "stderr",
     "output_type": "stream",
     "text": [
      "Downloading Proteomes:   3%|▎         | 60/1976 [01:09<49:48,  1.56s/it]"
     ]
    },
    {
     "name": "stdout",
     "output_type": "stream",
     "text": [
      "Proteome for UP000001170 downloaded successfully.\n"
     ]
    },
    {
     "name": "stderr",
     "output_type": "stream",
     "text": [
      "Downloading Proteomes:   3%|▎         | 61/1976 [01:10<45:27,  1.42s/it]"
     ]
    },
    {
     "name": "stdout",
     "output_type": "stream",
     "text": [
      "Proteome for UP000001889 downloaded successfully.\n"
     ]
    },
    {
     "name": "stderr",
     "output_type": "stream",
     "text": [
      "Downloading Proteomes:   3%|▎         | 62/1976 [01:12<51:03,  1.60s/it]"
     ]
    },
    {
     "name": "stdout",
     "output_type": "stream",
     "text": [
      "Proteome for UP000002196 downloaded successfully.\n"
     ]
    },
    {
     "name": "stderr",
     "output_type": "stream",
     "text": [
      "Downloading Proteomes:   3%|▎         | 63/1976 [01:13<48:22,  1.52s/it]"
     ]
    },
    {
     "name": "stdout",
     "output_type": "stream",
     "text": [
      "Proteome for UP000000594 downloaded successfully.\n"
     ]
    },
    {
     "name": "stderr",
     "output_type": "stream",
     "text": [
      "Downloading Proteomes:   3%|▎         | 64/1976 [01:16<56:26,  1.77s/it]"
     ]
    },
    {
     "name": "stdout",
     "output_type": "stream",
     "text": [
      "Proteome for UP000000757 downloaded successfully.\n"
     ]
    },
    {
     "name": "stderr",
     "output_type": "stream",
     "text": [
      "Downloading Proteomes:   3%|▎         | 65/1976 [01:18<1:02:42,  1.97s/it]"
     ]
    },
    {
     "name": "stdout",
     "output_type": "stream",
     "text": [
      "Proteome for UP000000818 downloaded successfully.\n"
     ]
    },
    {
     "name": "stderr",
     "output_type": "stream",
     "text": [
      "Downloading Proteomes:   3%|▎         | 66/1976 [01:20<57:34,  1.81s/it]  "
     ]
    },
    {
     "name": "stdout",
     "output_type": "stream",
     "text": [
      "Proteome for UP000000260 downloaded successfully.\n"
     ]
    },
    {
     "name": "stderr",
     "output_type": "stream",
     "text": [
      "Downloading Proteomes:   3%|▎         | 67/1976 [01:22<59:40,  1.88s/it]"
     ]
    },
    {
     "name": "stdout",
     "output_type": "stream",
     "text": [
      "Proteome for UP000000841 downloaded successfully.\n"
     ]
    },
    {
     "name": "stderr",
     "output_type": "stream",
     "text": [
      "Downloading Proteomes:   3%|▎         | 68/1976 [01:23<59:50,  1.88s/it]"
     ]
    },
    {
     "name": "stdout",
     "output_type": "stream",
     "text": [
      "Proteome for UP000006135 downloaded successfully.\n"
     ]
    },
    {
     "name": "stderr",
     "output_type": "stream",
     "text": [
      "Downloading Proteomes:   3%|▎         | 69/1976 [01:25<55:38,  1.75s/it]"
     ]
    },
    {
     "name": "stdout",
     "output_type": "stream",
     "text": [
      "Proteome for UP000061457 downloaded successfully.\n"
     ]
    },
    {
     "name": "stderr",
     "output_type": "stream",
     "text": [
      "Downloading Proteomes:   4%|▎         | 70/1976 [01:27<57:32,  1.81s/it]"
     ]
    },
    {
     "name": "stdout",
     "output_type": "stream",
     "text": [
      "Proteome for UP000029431 downloaded successfully.\n"
     ]
    },
    {
     "name": "stderr",
     "output_type": "stream",
     "text": [
      "Downloading Proteomes:   4%|▎         | 71/1976 [01:29<55:35,  1.75s/it]"
     ]
    },
    {
     "name": "stdout",
     "output_type": "stream",
     "text": [
      "Proteome for UP000030341 downloaded successfully.\n"
     ]
    },
    {
     "name": "stderr",
     "output_type": "stream",
     "text": [
      "Downloading Proteomes:   4%|▎         | 72/1976 [01:30<55:03,  1.73s/it]"
     ]
    },
    {
     "name": "stdout",
     "output_type": "stream",
     "text": [
      "Proteome for UP000000935 downloaded successfully.\n"
     ]
    },
    {
     "name": "stderr",
     "output_type": "stream",
     "text": [
      "Downloading Proteomes:   4%|▎         | 73/1976 [01:32<1:00:17,  1.90s/it]"
     ]
    },
    {
     "name": "stdout",
     "output_type": "stream",
     "text": [
      "Proteome for UP000007137 downloaded successfully.\n"
     ]
    },
    {
     "name": "stderr",
     "output_type": "stream",
     "text": [
      "Downloading Proteomes:   4%|▎         | 74/1976 [01:34<1:01:15,  1.93s/it]"
     ]
    },
    {
     "name": "stdout",
     "output_type": "stream",
     "text": [
      "Proteome for UP000002719 downloaded successfully.\n"
     ]
    },
    {
     "name": "stderr",
     "output_type": "stream",
     "text": [
      "Downloading Proteomes:   4%|▍         | 75/1976 [01:36<57:51,  1.83s/it]  "
     ]
    },
    {
     "name": "stdout",
     "output_type": "stream",
     "text": [
      "Proteome for UP000006833 downloaded successfully.\n"
     ]
    },
    {
     "name": "stderr",
     "output_type": "stream",
     "text": [
      "Downloading Proteomes:   4%|▍         | 76/1976 [01:38<57:17,  1.81s/it]"
     ]
    },
    {
     "name": "stdout",
     "output_type": "stream",
     "text": [
      "Proteome for UP000008520 downloaded successfully.\n"
     ]
    },
    {
     "name": "stderr",
     "output_type": "stream",
     "text": [
      "Downloading Proteomes:   4%|▍         | 77/1976 [01:39<51:31,  1.63s/it]"
     ]
    },
    {
     "name": "stdout",
     "output_type": "stream",
     "text": [
      "Proteome for UP000002521 downloaded successfully.\n"
     ]
    },
    {
     "name": "stderr",
     "output_type": "stream",
     "text": [
      "Downloading Proteomes:   4%|▍         | 78/1976 [01:40<48:13,  1.52s/it]"
     ]
    },
    {
     "name": "stdout",
     "output_type": "stream",
     "text": [
      "Proteome for UP000001010 downloaded successfully.\n"
     ]
    },
    {
     "name": "stderr",
     "output_type": "stream",
     "text": [
      "Downloading Proteomes:   4%|▍         | 79/1976 [01:42<52:50,  1.67s/it]"
     ]
    },
    {
     "name": "stdout",
     "output_type": "stream",
     "text": [
      "Proteome for UP000007065 downloaded successfully.\n"
     ]
    },
    {
     "name": "stderr",
     "output_type": "stream",
     "text": [
      "Downloading Proteomes:   4%|▍         | 80/1976 [01:43<45:57,  1.45s/it]"
     ]
    },
    {
     "name": "stdout",
     "output_type": "stream",
     "text": [
      "Proteome for UP000000774 downloaded successfully.\n"
     ]
    },
    {
     "name": "stderr",
     "output_type": "stream",
     "text": [
      "Downloading Proteomes:   4%|▍         | 81/1976 [01:45<44:05,  1.40s/it]"
     ]
    },
    {
     "name": "stdout",
     "output_type": "stream",
     "text": [
      "Proteome for UP000000579 downloaded successfully.\n"
     ]
    },
    {
     "name": "stderr",
     "output_type": "stream",
     "text": [
      "Downloading Proteomes:   4%|▍         | 82/1976 [01:46<41:44,  1.32s/it]"
     ]
    },
    {
     "name": "stdout",
     "output_type": "stream",
     "text": [
      "Proteome for UP000283360 downloaded successfully.\n"
     ]
    },
    {
     "name": "stderr",
     "output_type": "stream",
     "text": [
      "Downloading Proteomes:   4%|▍         | 83/1976 [01:47<44:23,  1.41s/it]"
     ]
    },
    {
     "name": "stdout",
     "output_type": "stream",
     "text": [
      "Proteome for UP000008812 downloaded successfully.\n"
     ]
    },
    {
     "name": "stderr",
     "output_type": "stream",
     "text": [
      "Downloading Proteomes:   4%|▍         | 84/1976 [01:48<39:18,  1.25s/it]"
     ]
    },
    {
     "name": "stdout",
     "output_type": "stream",
     "text": [
      "Proteome for UP000001955 downloaded successfully.\n"
     ]
    },
    {
     "name": "stderr",
     "output_type": "stream",
     "text": [
      "Downloading Proteomes:   4%|▍         | 85/1976 [01:52<1:07:00,  2.13s/it]"
     ]
    },
    {
     "name": "stdout",
     "output_type": "stream",
     "text": [
      "Proteome for UP000000528 downloaded successfully.\n"
     ]
    },
    {
     "name": "stderr",
     "output_type": "stream",
     "text": [
      "Downloading Proteomes:   4%|▍         | 86/1976 [01:54<57:50,  1.84s/it]  "
     ]
    }
   ],
   "source": [
    "# TRY USING UNIPROT\n",
    "\n",
    "import requests\n",
    "import os\n",
    "import time\n",
    "from tqdm import tqdm\n",
    "\n",
    "# Function to download proteome using the new UniProt API\n",
    "def download_proteome(reference_proteome, output_dir=\"proteomes\"):\n",
    "    \"\"\"\n",
    "    Download the proteome of a given bacteria using the updated UniProt REST API.\n",
    "    \"\"\"\n",
    "    url = (f'https://rest.uniprot.org/uniprotkb/stream?compressed=true&format=fasta&query=%28%28proteome%3A{reference_proteome}%29%29')\n",
    "    \n",
    "    # Send the request to the UniProt API\n",
    "    response = requests.get(url)\n",
    "    \n",
    "    # Check if the request was successful\n",
    "    if response.status_code == 200:\n",
    "        # Create output directory if it doesn't exist\n",
    "        os.makedirs(output_dir, exist_ok=True)\n",
    "        \n",
    "        # Save the proteome data to a file\n",
    "        filename = os.path.join(output_dir, f\"{reference_proteome}_proteome.fasta\")\n",
    "        with open(filename, \"w\") as file:\n",
    "            file.write(response.text)\n",
    "        print(f\"Proteome for {reference_proteome} downloaded successfully.\")\n",
    "        return True\n",
    "    else:\n",
    "        # Log the failure\n",
    "        print(f\"Failed to fetch proteome for {reference_proteome}: {response.status_code}\")\n",
    "        print(f\"Error details: {response.text}\")\n",
    "        return False\n",
    "\n",
    "# Main function to handle downloading with resumption\n",
    "def download_proteomes_with_resumption(proteome_ids, output_dir=\"proteomes\", resume_file=\"completed_ids.txt\"):\n",
    "    \"\"\"\n",
    "    Download proteomes with the ability to resume after interruption.\n",
    "    \"\"\"\n",
    "    # Load completed IDs if resume file exists\n",
    "    if os.path.exists(resume_file):\n",
    "        with open(resume_file, \"r\") as file:\n",
    "            completed_ids = set(line.strip() for line in file.readlines())\n",
    "    else:\n",
    "        completed_ids = set()\n",
    "\n",
    "    # Open resume file in append mode to update as downloads complete\n",
    "    with open(resume_file, \"a\") as resume_log:\n",
    "        # Iterate over proteome IDs with a progress bar\n",
    "        for proteome_id in tqdm(proteome_ids, desc=\"Downloading Proteomes\"):\n",
    "            if proteome_id in completed_ids:\n",
    "                print(f\"Skipping already downloaded proteome: {proteome_id}\")\n",
    "                continue\n",
    "            \n",
    "            # Attempt to download the proteome\n",
    "            success = download_proteome(proteome_id, output_dir=output_dir)\n",
    "            \n",
    "            if success:\n",
    "                # Log the completed ID to the resume file\n",
    "                resume_log.write(proteome_id + \"\\n\")\n",
    "                resume_log.flush()  # Ensure the log is written immediately\n",
    "\n",
    "            # Add a delay to avoid hitting rate limits\n",
    "            time.sleep(0.3)\n",
    "\n",
    "# Example usage with a list of proteome IDs\n",
    "#proteome_ids = [\"UP000005640\", \"UP000006548\", \"UP000000589\"]  # Replace with your list of proteome IDs\n",
    "\n",
    "download_proteomes_with_resumption(proteome_ids)\n",
    "\n"
   ]
  }
 ],
 "metadata": {
  "kernelspec": {
   "display_name": "esm",
   "language": "python",
   "name": "python3"
  },
  "language_info": {
   "codemirror_mode": {
    "name": "ipython",
    "version": 3
   },
   "file_extension": ".py",
   "mimetype": "text/x-python",
   "name": "python",
   "nbconvert_exporter": "python",
   "pygments_lexer": "ipython3",
   "version": "3.9.19"
  }
 },
 "nbformat": 4,
 "nbformat_minor": 5
}
